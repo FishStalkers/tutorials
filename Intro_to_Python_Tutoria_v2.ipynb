{
  "cells": [
    {
      "cell_type": "markdown",
      "metadata": {
        "id": "view-in-github",
        "colab_type": "text"
      },
      "source": [
        "<a href=\"https://colab.research.google.com/github/FishStalkers/tutorials/blob/main/Intro_to_Python_Tutoria_v2.ipynb\" target=\"_parent\"><img src=\"https://colab.research.google.com/assets/colab-badge.svg\" alt=\"Open In Colab\"/></a>"
      ]
    },
    {
      "cell_type": "markdown",
      "id": "fe6df3e1",
      "metadata": {
        "id": "fe6df3e1"
      },
      "source": [
        "#Welcome to the *Mathematics and Computer Science Symposium* workshop: **Introduction to Python** \n",
        "\n",
        "Authors: Rohan, Arushi, Breanna Shi\n",
        "\n",
        "### We will be going over topics that will help better your understanding of machine learning. We will be focusing on python as they and their operations that are most applicable to ML. \n",
        "\n",
        "#### **For your continued education on python, we recommend the following resources:** \n",
        "1.) [Beginner's Guide](https://wiki.python.org/moin/BeginnersGuide/Programmers)\n",
        "\n",
        "2.) [Learn Python in y minutes](https://learnxinyminutes.com/docs/python/)\n",
        "\n",
        "3.) [Learn Python site](https://www.learnpython.org)\n",
        "\n",
        "4.) [Google's Python course](https://developers.google.com/edu/python)\n",
        "\n",
        "5.) [A Guide to Python](https://docs.python-guide.org)"
      ]
    },
    {
      "cell_type": "markdown",
      "id": "abc5b8e6",
      "metadata": {
        "id": "abc5b8e6"
      },
      "source": [
        "##**Section 1.1: Background and Why Python?**\n",
        "\n",
        "Python is one of the simplest and most widely used programming languages out there. Its simplicity and extensive packages make it the go-to language for many applications, including data science and machine learning, and a commonly used one for many other purposes.*italicized text*"
      ]
    },
    {
      "cell_type": "markdown",
      "id": "9835c5a4",
      "metadata": {
        "id": "9835c5a4"
      },
      "source": [
        "##**Section 1.1.2: Variables and Primitive Data Types**"
      ]
    },
    {
      "cell_type": "markdown",
      "id": "1fd6826c",
      "metadata": {
        "id": "1fd6826c"
      },
      "source": [
        "We can create a variable, which is a reference to a certain object or data point. In other words, it's a way for us to store and save data."
      ]
    },
    {
      "cell_type": "markdown",
      "id": "28234f3f",
      "metadata": {
        "id": "28234f3f"
      },
      "source": [
        "There are four primitive data types. These are the most basic types of data. They are strings, booleans, floats and integers."
      ]
    },
    {
      "cell_type": "markdown",
      "id": "8a506af6",
      "metadata": {
        "id": "8a506af6"
      },
      "source": [
        "The string, or str, stores any number of letters arranged in a specific order. They are immutable, which means their values cannot be updated or modified after they have been created. In many other languages, the string is not a primitive data type. Rather the string is created by arranging several chars, or single characters, in a sort of list. Python works the other way around. The string is a primitive data type, and there is no such thing as a char. The \"char\" would just be a string with length 1."
      ]
    },
    {
      "cell_type": "markdown",
      "id": "04bc43b6",
      "metadata": {
        "id": "04bc43b6"
      },
      "source": [
        "The boolean, or bool, holds one of two values, True or False. These keywords are very useful when certain blocks of code may need to execute only under certain conditions - or when a condition is either True or False."
      ]
    },
    {
      "cell_type": "markdown",
      "id": "77a4bc9f",
      "metadata": {
        "id": "77a4bc9f"
      },
      "source": [
        "The integer, or int, and float, are both numerical data types. The int refers to whole numbers and the float refers to numerical data points that contain a decimal point. This distinction is important for memory allocation purposes. Because the int is an exact whole number, it doesn't require as much memory to store, and so identifying a number as an int can help us program more efficiently. Unlike in most langauges, we do not need to identify a variable as an int or float ourselves, however. Python does this memory allocation automatically, making it an incredibly easy language to use. In fact, we will never need to declare a variable's data type when we declare the variable."
      ]
    },
    {
      "cell_type": "markdown",
      "id": "d1b4554a",
      "metadata": {
        "id": "d1b4554a"
      },
      "source": [
        "Now let's declare some variables and try doing something with them. Here we'll declare one variable of each primitive data type. To decclare a variable, we simply use the \"=\" assignment operator. This is differnt from the equality operator, which is represented by \"==\". The difference should become quite clear soon."
      ]
    },
    {
      "cell_type": "code",
      "execution_count": null,
      "id": "d8466a5d",
      "metadata": {
        "id": "d8466a5d"
      },
      "outputs": [],
      "source": [
        "number1 = 1\n",
        "number2 = 2.0\n",
        "pythonIsEasy = True\n",
        "noSeriously = \"It really is easy.\""
      ]
    },
    {
      "cell_type": "markdown",
      "id": "f043b911",
      "metadata": {
        "id": "f043b911"
      },
      "source": [
        "###**Activity 1: Printing**\n"
      ]
    },
    {
      "cell_type": "markdown",
      "id": "dd55e773",
      "metadata": {
        "id": "dd55e773"
      },
      "source": [
        "Let's try printing each of our variables. To print we simply use the \"print\" keyword and then put what we would like to print inside parentheses:"
      ]
    },
    {
      "cell_type": "code",
      "execution_count": null,
      "id": "6377b24a",
      "metadata": {
        "scrolled": true,
        "id": "6377b24a"
      },
      "outputs": [],
      "source": [
        "print(number1)\n",
        "print(number2)\n",
        "print(pythonIsEasy)\n",
        "print(noSeriously)"
      ]
    },
    {
      "cell_type": "markdown",
      "id": "5e9f6825",
      "metadata": {
        "id": "5e9f6825"
      },
      "source": [
        "If we didn't want to store our data in variables, we could also print each values of our variables directly instead of assigning them to a variable first:"
      ]
    },
    {
      "cell_type": "code",
      "execution_count": null,
      "id": "71c59961",
      "metadata": {
        "scrolled": true,
        "id": "71c59961"
      },
      "outputs": [],
      "source": [
        "print(1)\n",
        "print(2.0)\n",
        "print(True)\n",
        "print(\"It really is easy.\")"
      ]
    },
    {
      "cell_type": "markdown",
      "id": "6290eaef",
      "metadata": {
        "id": "6290eaef"
      },
      "source": [
        "Notice that when we print a string, we must surround our string with quotation marks. This signifies that we want what is literally contained within the quotes to be printed. If we left our the quotes, we would be attempting to print a variable with the same name, as we did earlier when we printed our variables.\n",
        "\n",
        "This is important to note. When we print a variable, like \"number1\", we are actually printing the value of that variable, not the variable's name. If we wanted to instead print the string \"number1\", we would do it as follows:"
      ]
    },
    {
      "cell_type": "code",
      "execution_count": null,
      "id": "586e22d4",
      "metadata": {
        "id": "586e22d4"
      },
      "outputs": [],
      "source": [
        "print(\"number1\")"
      ]
    },
    {
      "cell_type": "markdown",
      "id": "b2e4cca8",
      "metadata": {
        "id": "b2e4cca8"
      },
      "source": [
        "Similarly if we want to print the int 1, we do as we did above, but if we wanted to print a str \"1\", we would do:"
      ]
    },
    {
      "cell_type": "code",
      "execution_count": null,
      "id": "0573101f",
      "metadata": {
        "id": "0573101f"
      },
      "outputs": [],
      "source": [
        "print(\"1\")"
      ]
    },
    {
      "cell_type": "markdown",
      "id": "af2208e2",
      "metadata": {
        "id": "af2208e2"
      },
      "source": [
        "But what if we had a boolean variable named say, \"2.0\" (without quotes) that was assigned the value \"True\" (without quotes). When we executed print(2.0), what would get printed? Would it be the float 2.0 or the boolean value True? This is why we have variable naming restrictions in Python."
      ]
    },
    {
      "cell_type": "markdown",
      "id": "b5aa7f21",
      "metadata": {
        "id": "b5aa7f21"
      },
      "source": [
        "The restrictions are as follows:\n",
        "A variable name must start with a letter or the underscore character\n",
        "A variable name cannot start with a number\n",
        "A variable name can only contain alpha-numeric characters and underscores (A-z, 0-9, and _ )\n",
        "Variable names are case-sensitive (age, Age and AGE are three different variables)"
      ]
    },
    {
      "cell_type": "markdown",
      "id": "eb301c38",
      "metadata": {
        "id": "eb301c38"
      },
      "source": [
        "So as you can see, we could not have a variable named \"2.0\" because it would start with \"2\" instead of a letter or underscore. So, print(2.0) would in fact print the float 2.0."
      ]
    },
    {
      "cell_type": "markdown",
      "id": "74b1c9c6",
      "metadata": {
        "id": "74b1c9c6"
      },
      "source": [
        "##**Section 1.1.3: Compound Data Types and Indexing**\n"
      ]
    },
    {
      "cell_type": "markdown",
      "id": "62be6c28",
      "metadata": {
        "id": "62be6c28"
      },
      "source": [
        "Now primitive data types look useful and important, but they seem to be a bit too simple to well represent a lot of the data we might have. Luckily, Python has three built-in compound data types: the list, the dictionary, and the tuple."
      ]
    },
    {
      "cell_type": "markdown",
      "id": "46124d6a",
      "metadata": {
        "id": "46124d6a"
      },
      "source": [
        "The list, characterized by brackets (\"[]\"), is an ordered set of data. For example we could create a list of numbers as follows:"
      ]
    },
    {
      "cell_type": "code",
      "execution_count": null,
      "id": "4a838754",
      "metadata": {
        "id": "4a838754"
      },
      "outputs": [],
      "source": [
        "numberList = [0,1,2,3,4,5,6,7,8,9]"
      ]
    },
    {
      "cell_type": "markdown",
      "id": "972155df",
      "metadata": {
        "id": "972155df"
      },
      "source": [
        "The tuple, characterized by parentheses, (), associates pieces of data with one another. For example, if we had a man named Dave who was 42 years old, we could create two variables holding Dave's name and age."
      ]
    },
    {
      "cell_type": "code",
      "execution_count": null,
      "id": "388553b3",
      "metadata": {
        "id": "388553b3"
      },
      "outputs": [],
      "source": [
        "daveName = \"Dave\"\n",
        "daveAge = 42"
      ]
    },
    {
      "cell_type": "markdown",
      "id": "5d7a06b5",
      "metadata": {
        "id": "5d7a06b5"
      },
      "source": [
        "But this would be inefficient and it might be difficult to systematically determine if Dave is 42 or if someone else is 42. What if we have multiple Daves? How do we know which is 42? The tuple allows us to associate these pieces of data with one another:"
      ]
    },
    {
      "cell_type": "code",
      "execution_count": null,
      "id": "426e08e0",
      "metadata": {
        "id": "426e08e0"
      },
      "outputs": [],
      "source": [
        "davesTuple = (\"Dave\", 42)"
      ]
    },
    {
      "cell_type": "markdown",
      "id": "72fce1ee",
      "metadata": {
        "id": "72fce1ee"
      },
      "source": [
        "Unlike the list (and dictionary), however, the tuple is not mutable, which means it cannot be edited after it has been created."
      ]
    },
    {
      "cell_type": "markdown",
      "id": "2851e805",
      "metadata": {
        "id": "2851e805"
      },
      "source": [
        "Finally, the dictionary, characterized by braces, {}, is like a tuple in that it associates different pieces of data with one another. Unlike the tuple however, the dictionary is mutable, but it is not ordered. The dictionary associates keys with values using the colon :. For example we could represents Dave's name and age as follows:"
      ]
    },
    {
      "cell_type": "code",
      "execution_count": null,
      "id": "aaaef3d1",
      "metadata": {
        "id": "aaaef3d1"
      },
      "outputs": [],
      "source": [
        "davesDict = {\"name\": \"Dave\", \"age\": 42}"
      ]
    },
    {
      "cell_type": "markdown",
      "id": "09bb3b13",
      "metadata": {
        "id": "09bb3b13"
      },
      "source": [
        "As you might be able to guess, the dictionary has some essential restrictions. Firstly, since we pair keys If we were able to have two keys with the same name, then when we call on that key (perhaps we wanted to print the value of that key), we would not know which key's value to print. \n",
        "\n",
        "And second, since a dictionary is not ordered, we cannot be certain that Dave's age will always be stored at the second \"index\" of the dictionary. And so, when we call on a value in a dictionary, rather than calling on the second value, as we would in a list or tuple, we instead call on the name of the key to get its value. This brings us to the important idea of indexing. "
      ]
    },
    {
      "cell_type": "markdown",
      "id": "80c2d0ca",
      "metadata": {
        "id": "80c2d0ca"
      },
      "source": [
        "Indexing is a way to refer to particular points within a string or compound data types. This is important for when we want to edit or reference one of these data types. Indexing is simple."
      ]
    },
    {
      "cell_type": "code",
      "execution_count": null,
      "id": "7694381d",
      "metadata": {
        "scrolled": true,
        "id": "7694381d"
      },
      "outputs": [],
      "source": [
        "print(numberList)\n",
        "print(numberList[2])"
      ]
    },
    {
      "cell_type": "markdown",
      "id": "14dd480f",
      "metadata": {
        "id": "14dd480f"
      },
      "source": [
        "Printing the numberList prints the entire list. But by simply specifying the exact index we want to print within the list between brackets, we can print a specific index. Notice that the index 2 calls on the THIRD element in the list. This is because all data types in Python are zero-indexed - the first element of a list, string, tuple, etc., is at index 0.\n",
        "\n",
        "We can take indexing one step further to print multiple indices. For example we could print the numbers 2 through 6 as follows:"
      ]
    },
    {
      "cell_type": "code",
      "execution_count": null,
      "id": "36109d12",
      "metadata": {
        "scrolled": true,
        "id": "36109d12"
      },
      "outputs": [],
      "source": [
        "print(numberList[2:7])"
      ]
    },
    {
      "cell_type": "markdown",
      "id": "9b1ffba5",
      "metadata": {
        "id": "9b1ffba5"
      },
      "source": [
        "The second number in our index bracket represents the stopping point of our index. In other words, the code above tells us that we should print the second through seventh elements of our list, NOT including the seventh element. So, in general, print(alist[a;b]) will print the elements at indices [a,b) in alist. "
      ]
    },
    {
      "cell_type": "markdown",
      "id": "fe108248",
      "metadata": {
        "id": "fe108248"
      },
      "source": [
        "What if we wanted to print every even number in our list. We can do this by specifying a third \"jump\" value in our index brackets:"
      ]
    },
    {
      "cell_type": "code",
      "execution_count": null,
      "id": "0824e35d",
      "metadata": {
        "scrolled": true,
        "id": "0824e35d"
      },
      "outputs": [],
      "source": [
        "print(numberList[0:9:2])"
      ]
    },
    {
      "cell_type": "markdown",
      "id": "43db21ba",
      "metadata": {
        "id": "43db21ba"
      },
      "source": [
        "Note that if you don't include all (or any) of these three indexing parameters, Python will automatically input a default value for each of them. See if you can figure out what they are and prove to yourself that the following lines of code and their outputs make sense."
      ]
    },
    {
      "cell_type": "code",
      "execution_count": null,
      "id": "b5ef4d3e",
      "metadata": {
        "scrolled": false,
        "id": "b5ef4d3e"
      },
      "outputs": [],
      "source": [
        "print(numberList[4:8])\n",
        "print(numberList[2::2])\n",
        "print(numberList[:4:3])\n",
        "print(numberList[:4])\n",
        "print(numberList[::4])\n",
        "print(numberList[3:])\n",
        "print(numberList[3])\n",
        "print(numberList[::])\n",
        "print(numberList)"
      ]
    },
    {
      "cell_type": "markdown",
      "id": "eccdf8ae",
      "metadata": {
        "id": "eccdf8ae"
      },
      "source": [
        "##**Section 1.1.4: Loops**\n"
      ]
    },
    {
      "cell_type": "markdown",
      "id": "d68e9261",
      "metadata": {
        "id": "d68e9261"
      },
      "source": [
        "There are two main types of loops in Python, the for loop and the while loop. The for loop executes one time FOR every time a condition is true, while a while loop executes WHILE a condition remains true. The similarities between the two should be apparent. Typically a for loop is used when we know how many times we want to run a block of code (ex. 5 times, or once FOR every element in a list), while a while loop is used when we want to run a block of code, until something happens (ex. continue running NBA season simulations UNTIL the Knicks win a championship). Obviously these are not hard restrictions (we could run a block of code once FOR each element in a list or keep running it WHILE we have more elements in the list (until we run out of elements)), but it's a solid guideline to follow."
      ]
    },
    {
      "cell_type": "markdown",
      "id": "4c6b3e59",
      "metadata": {
        "id": "4c6b3e59"
      },
      "source": [
        "The syntax for both of these loops is pretty straightforward."
      ]
    },
    {
      "cell_type": "code",
      "execution_count": null,
      "id": "83f69df3",
      "metadata": {
        "id": "83f69df3"
      },
      "outputs": [],
      "source": [
        "## This loop will run five times (running once for each integer in the range [0,5)), printing out a new int each time.\n",
        "for i in range(5):\n",
        "    print(i)\n"
      ]
    },
    {
      "cell_type": "code",
      "execution_count": null,
      "id": "14634a46",
      "metadata": {
        "id": "14634a46"
      },
      "outputs": [],
      "source": [
        "## We could also print each element in a list using similar logic.\n",
        "for i in range(len(numberList)):\n",
        "    print(numberList[i])"
      ]
    },
    {
      "cell_type": "code",
      "execution_count": null,
      "id": "3143cc08",
      "metadata": {
        "id": "3143cc08"
      },
      "outputs": [],
      "source": [
        "## Python also allows us to simplify our code using the following syntax.\n",
        "for element in numberList:\n",
        "    print(element)\n"
      ]
    },
    {
      "cell_type": "markdown",
      "id": "c41481fc",
      "metadata": {
        "id": "c41481fc"
      },
      "source": [
        "Here, \"element\" is just a dummy reference. We could use any word in its place, as long as we are consistent throughout our code."
      ]
    },
    {
      "cell_type": "code",
      "execution_count": null,
      "id": "567f4b6d",
      "metadata": {
        "id": "567f4b6d"
      },
      "outputs": [],
      "source": [
        "## This works too...\n",
        "for peanutButterJellySandwich in numberList:\n",
        "    print(peanutButterJellySandwich)\n",
        "\n",
        "## ...but this might make more sense\n",
        "for number in numberList:\n",
        "    print(number)"
      ]
    },
    {
      "cell_type": "markdown",
      "id": "a8e43443",
      "metadata": {
        "id": "a8e43443"
      },
      "source": [
        "The same logic applies to tuples, strings, and dictionaries, although for dictionaries, since they are not ordered, we must loop through using the \"for key in dictionary\" syntax rather than index incrementation."
      ]
    },
    {
      "cell_type": "code",
      "execution_count": null,
      "id": "11ffdb8f",
      "metadata": {
        "id": "11ffdb8f"
      },
      "outputs": [],
      "source": [
        "## for strings (and tuples)\n",
        "\n",
        "for i in range(len(noSeriously)):\n",
        "    print(noSeriously[i])\n",
        "\n",
        "for char in noSeriously:\n",
        "    print(char)"
      ]
    },
    {
      "cell_type": "code",
      "execution_count": null,
      "id": "db54ffb6",
      "metadata": {
        "id": "db54ffb6"
      },
      "outputs": [],
      "source": [
        "## and for dictionaries. Here we loop through our keys, so if we want to print our values, we have to call the index.\n",
        "for key in davesDict:\n",
        "    print(davesDict[key])\n",
        "    \n",
        "## if we just wanted to print the names of our keys, we could do this. Note the difference.\n",
        "for key in davesDict:\n",
        "    print(key)"
      ]
    },
    {
      "cell_type": "markdown",
      "id": "9c989a49",
      "metadata": {
        "id": "9c989a49"
      },
      "source": [
        "Indenting"
      ]
    },
    {
      "cell_type": "markdown",
      "id": "e9cd97ef",
      "metadata": {
        "id": "e9cd97ef"
      },
      "source": [
        "Unlike in other languages, in Python, proper indenting is not just good practice, it is necessary for code to function. For example, in Python, loops do not use braces to define where a loop begins and ends. Rather, it uses indentation levels. Observe the following for loop."
      ]
    },
    {
      "cell_type": "code",
      "execution_count": null,
      "id": "c81a7874",
      "metadata": {
        "id": "c81a7874"
      },
      "outputs": [],
      "source": [
        "listA = [1,2,3,4,5]\n",
        "\n",
        "for element in listA:\n",
        "    print(element)"
      ]
    },
    {
      "cell_type": "markdown",
      "id": "d92ba38d",
      "metadata": {
        "id": "d92ba38d"
      },
      "source": [
        "If were to write our print statement at the same indentation level as the header for our for loop, the code would not run as expected because we would have no statements within our for loop:"
      ]
    },
    {
      "cell_type": "code",
      "execution_count": null,
      "id": "05a40bed",
      "metadata": {
        "scrolled": true,
        "id": "05a40bed"
      },
      "outputs": [],
      "source": [
        "for element in listA:\n",
        "print(element)"
      ]
    },
    {
      "cell_type": "markdown",
      "id": "ba064f09",
      "metadata": {
        "id": "ba064f09"
      },
      "source": [
        "And as expected, running the improperly indented code results in an error."
      ]
    },
    {
      "cell_type": "markdown",
      "id": "62e2abf3",
      "metadata": {
        "id": "62e2abf3"
      },
      "source": [
        "##**Section 1.1.4: Creating Functions**\n"
      ]
    },
    {
      "cell_type": "markdown",
      "id": "498e9fa0",
      "metadata": {
        "id": "498e9fa0"
      },
      "source": [
        "Now let's do something a little more interesting. Let's create a function to actually do something. Let's start with something simple. Let's write a function that increments each value in a list by 1. Then we can test it on our numberList."
      ]
    },
    {
      "cell_type": "code",
      "execution_count": null,
      "id": "08ccb02e",
      "metadata": {
        "id": "08ccb02e"
      },
      "outputs": [],
      "source": [
        "## each function will be defined using the def keyword.\n",
        "## they will also always have parentheses after their name.\n",
        "## if the function has parameters (inputs), the parameters will be listed in those parentheses.\n",
        "\n",
        "def listIncrementer(ourList):\n",
        "    for i in range(len(ourList)):\n",
        "        ourList[i] += 1"
      ]
    },
    {
      "cell_type": "markdown",
      "id": "7095e9f8",
      "metadata": {
        "id": "7095e9f8"
      },
      "source": [
        "It's that simple. We've defined a function that takes in a list. Here we used the dummy reference \"ourList\" to refer to the inputted list, but again, we can use any name as long as we are consistent. Then our function loops through each element in the inputted list and adds 1 to each element. \n",
        "\n",
        "Note: The \"+= a\" syntax is shorthand for adding a value \"a\" to an element. We could also have said \"ourList[i] += 1\"."
      ]
    },
    {
      "cell_type": "markdown",
      "id": "733eb6ee",
      "metadata": {
        "id": "733eb6ee"
      },
      "source": [
        "Now let's try running our function on numberList. First let's print numberList to see what it looks like right now:"
      ]
    },
    {
      "cell_type": "code",
      "execution_count": null,
      "id": "57f6387e",
      "metadata": {
        "scrolled": true,
        "id": "57f6387e"
      },
      "outputs": [],
      "source": [
        "print(numberList)"
      ]
    },
    {
      "cell_type": "markdown",
      "id": "ce2a959b",
      "metadata": {
        "id": "ce2a959b"
      },
      "source": [
        "Now let's call our function with numberList as the parameter (since numberList is the list we want to increment), and then print numberList again."
      ]
    },
    {
      "cell_type": "code",
      "execution_count": null,
      "id": "2969af99",
      "metadata": {
        "id": "2969af99"
      },
      "outputs": [],
      "source": [
        "listIncrementer(numberList)\n",
        "print(numberList)"
      ]
    },
    {
      "cell_type": "markdown",
      "id": "0fa0ed4b",
      "metadata": {
        "id": "0fa0ed4b"
      },
      "source": [
        "Easy. Now let's try writing a function that has an explicitly defined return value. A return value is the value assigned to a function. For example if we wrote a function that checked if the number 6 is in a list, we might want to return a boolean that tells us whether or not 6 is in our list. The return value does not get printed, but we could print it if we wanted to. Let's see it in action. Let's write a function that counts how many times a vowel appears in a string."
      ]
    },
    {
      "cell_type": "code",
      "execution_count": null,
      "id": "f2463f5c",
      "metadata": {
        "id": "f2463f5c"
      },
      "outputs": [],
      "source": [
        "def vowelsInString(ourString):\n",
        "    counter = 0\n",
        "    for char in ourString:\n",
        "        ## we'll ignore the letter y for now.\n",
        "        if char == \"a\" or char == \"e\" or char == \"i\" or char == \"o\" or char == \"u\":\n",
        "            counter += 1\n",
        "    return counter"
      ]
    },
    {
      "cell_type": "markdown",
      "id": "b52d4f38",
      "metadata": {
        "id": "b52d4f38"
      },
      "source": [
        "A little trickier, but still pretty straightforward. Our function takes in a string, and then checks if each character in said string is an \"a\", \"e\", \"i\", \"o\", or \"u\". If it is, we add 1 to our counter, and if it isn't, we do nothing. Then we return our counter. Now let's run our function on the string from earlier. "
      ]
    },
    {
      "cell_type": "code",
      "execution_count": null,
      "id": "53ced669",
      "metadata": {
        "scrolled": true,
        "id": "53ced669"
      },
      "outputs": [],
      "source": [
        "vowelsInString(noSeriously)"
      ]
    },
    {
      "cell_type": "markdown",
      "id": "2973df82",
      "metadata": {
        "id": "2973df82"
      },
      "source": [
        "If we want, we can print our return value to the shell:"
      ]
    },
    {
      "cell_type": "code",
      "execution_count": null,
      "id": "71cb92df",
      "metadata": {
        "id": "71cb92df"
      },
      "outputs": [],
      "source": [
        "print(vowelsInString(noSeriously))"
      ]
    },
    {
      "cell_type": "markdown",
      "id": "7b255f71",
      "metadata": {
        "id": "7b255f71"
      },
      "source": [
        "Hmm. That doesn't look right. I count 6 vowels in our string. Ah. We missed the capital I. Let's modify our function and try again."
      ]
    },
    {
      "cell_type": "code",
      "execution_count": null,
      "id": "78a6c845",
      "metadata": {
        "id": "78a6c845"
      },
      "outputs": [],
      "source": [
        "def modifiedVowelsInString(ourString):\n",
        "    counter = 0\n",
        "    for char in ourString:\n",
        "        if char in [\"a\", \"e\", \"i\", \"o\", \"u\", \"A\", \"E\", \"I\", \"O\", \"U\"]:\n",
        "            counter += 1\n",
        "    return counter"
      ]
    },
    {
      "cell_type": "markdown",
      "id": "e9e254fe",
      "metadata": {
        "id": "e9e254fe"
      },
      "source": [
        "Notice that we replaced our series of \"ORs\" with a list of vowels to simplify our code. Now we use the keyword in to check if each element in our string is a vowel by defining a list of vowels.\n",
        "\n",
        "Let's try using our modified function and print its return value."
      ]
    },
    {
      "cell_type": "code",
      "execution_count": null,
      "id": "2cef46ec",
      "metadata": {
        "scrolled": true,
        "id": "2cef46ec"
      },
      "outputs": [],
      "source": [
        "print(modifiedVowelsInString(noSeriously))"
      ]
    },
    {
      "cell_type": "markdown",
      "id": "db4ffa57",
      "metadata": {
        "id": "db4ffa57"
      },
      "source": [
        "There we go. But before we finish, let's see if we can make our function even simpler."
      ]
    },
    {
      "cell_type": "code",
      "execution_count": null,
      "id": "cdfa9834",
      "metadata": {
        "id": "cdfa9834"
      },
      "outputs": [],
      "source": [
        "def evenBetterVowelChecker(ourString):\n",
        "    vowels = [\"a\", \"e\", \"i\", \"o\", \"u\"]\n",
        "    counter = 0\n",
        "    for char in ourString.lower():\n",
        "        if char in vowels:\n",
        "            counter += 1\n",
        "    return counter"
      ]
    },
    {
      "cell_type": "markdown",
      "id": "bbdaf92d",
      "metadata": {
        "id": "bbdaf92d"
      },
      "source": [
        "We made two key changes in our third iteration of this function. Firstly, we assigned our list of vowels to a variable called vowels. This means that if we wanted to add to our function and reference this list of vowels again, we can simply call on the variable vowels rather than retyping each vowel in a list again. (We cannot use this variable vowels outside of this function because we defined it within our function, making it a variable that is local to the function. If we defined it outside of the function, we would be able to reference it outside of the function. This is a good concept to explore further on your own.)\n",
        "\n",
        "You may have noticed that we only included lowercase vowels in our list of vowels. This is because we made a second change to our function. Rather than do double the work and add both lowercase and uppercase vowels to our vowels list, we simply made the inputted string all lowercase, and then checked for lowercase vowels. If the string had an uppercase vowel (as our did), it would be turned into a lowercase value and then found. We use the \"string method\" .lower() on our string to make it all lowercase. There are tons of useful string methods (and other methods) that you should check out after finishing this tutorial.\n",
        "\n",
        "Now let's run our function and print out its return value."
      ]
    },
    {
      "cell_type": "code",
      "execution_count": null,
      "id": "aa4cd182",
      "metadata": {
        "scrolled": true,
        "id": "aa4cd182"
      },
      "outputs": [],
      "source": [
        "print(evenBetterVowelChecker(noSeriously))"
      ]
    },
    {
      "cell_type": "markdown",
      "id": "4c9e0906",
      "metadata": {
        "id": "4c9e0906"
      },
      "source": [
        "Perfect."
      ]
    },
    {
      "cell_type": "markdown",
      "id": "5fa45e95",
      "metadata": {
        "id": "5fa45e95"
      },
      "source": [
        "Now you know the basics, so it's time to get out there and start programming!"
      ]
    }
  ],
  "metadata": {
    "kernelspec": {
      "display_name": "Python 3 (ipykernel)",
      "language": "python",
      "name": "python3"
    },
    "language_info": {
      "codemirror_mode": {
        "name": "ipython",
        "version": 3
      },
      "file_extension": ".py",
      "mimetype": "text/x-python",
      "name": "python",
      "nbconvert_exporter": "python",
      "pygments_lexer": "ipython3",
      "version": "3.10.6"
    },
    "colab": {
      "provenance": [],
      "toc_visible": true,
      "include_colab_link": true
    }
  },
  "nbformat": 4,
  "nbformat_minor": 5
}