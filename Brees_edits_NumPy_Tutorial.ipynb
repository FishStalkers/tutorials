{
  "nbformat": 4,
  "nbformat_minor": 0,
  "metadata": {
    "colab": {
      "provenance": [],
      "include_colab_link": true
    },
    "kernelspec": {
      "name": "python3",
      "display_name": "Python 3"
    },
    "language_info": {
      "name": "python"
    }
  },
  "cells": [
    {
      "cell_type": "markdown",
      "metadata": {
        "id": "view-in-github",
        "colab_type": "text"
      },
      "source": [
        "<a href=\"https://colab.research.google.com/github/FishStalkers/tutorials/blob/main/Brees_edits_NumPy_Tutorial.ipynb\" target=\"_parent\"><img src=\"https://colab.research.google.com/assets/colab-badge.svg\" alt=\"Open In Colab\"/></a>"
      ]
    },
    {
      "cell_type": "markdown",
      "source": [
        "NumPy is a Python library that consists of multidimensional array objects and variations thereof along with hundreds of potential math functions for use. The package is one of the most useful for scientific computing and its versatility and power make it a common tool used by scientists of many disciplines. \n",
        "\n",
        "**Note: you most likely only need one or two paragraph between code **"
      ],
      "metadata": {
        "id": "c4Wr5E75oqho"
      }
    },
    {
      "cell_type": "markdown",
      "source": [
        "**describe the data set here **"
      ],
      "metadata": {
        "id": "iwyZB3J8ZkXB"
      }
    },
    {
      "cell_type": "markdown",
      "source": [
        " The code below will install NumPy and load our dataset. "
      ],
      "metadata": {
        "id": "DwvuZvfIknBQ"
      }
    },
    {
      "cell_type": "code",
      "execution_count": null,
      "metadata": {
        "id": "tgJ1xxNMonLc"
      },
      "outputs": [],
      "source": [
        "import numpy as np\n",
        "from sklearn import datasets\n",
        "iris = datasets.load_iris()"
      ]
    },
    {
      "cell_type": "markdown",
      "source": [
        "**descirbe what you are doing here**"
      ],
      "metadata": {
        "id": "Bqp2ewZ8aBC2"
      }
    },
    {
      "cell_type": "code",
      "source": [
        "#instantiate an array of integers\n",
        "arr = np.array([0,1,2,3,4], dtype='int32')\n",
        "print(arr)"
      ],
      "metadata": {
        "colab": {
          "base_uri": "https://localhost:8080/"
        },
        "id": "Y17V2Dq-l6-6",
        "outputId": "6d25b6b6-82ff-45b5-f822-62566ce91964"
      },
      "execution_count": null,
      "outputs": [
        {
          "output_type": "stream",
          "name": "stdout",
          "text": [
            "[0 1 2 3 4]\n"
          ]
        }
      ]
    },
    {
      "cell_type": "markdown",
      "source": [
        "Our first instantiated array! The beauty of NumPy is that we don't have to stick to 1d arrays. We can create 2d and 3d arrays too. \n",
        "**you can create higher order arrary then 3d***"
      ],
      "metadata": {
        "id": "-aDRScXXm2rK"
      }
    },
    {
      "cell_type": "code",
      "source": [
        "arr1 = np.array([[0,1,2, 3],[1,2,3,4]])\n",
        "print(arr1)"
      ],
      "metadata": {
        "colab": {
          "base_uri": "https://localhost:8080/"
        },
        "id": "4IGYs0oBm110",
        "outputId": "4af4c787-8dd9-40b8-8359-7ebd85ee5cab"
      },
      "execution_count": null,
      "outputs": [
        {
          "output_type": "stream",
          "name": "stdout",
          "text": [
            "[[0 1 2 3]\n",
            " [1 2 3 4]]\n"
          ]
        }
      ]
    },
    {
      "cell_type": "code",
      "source": [
        "arr2 = np.array([[[2,17], [45, 78]], [[88, 92], [60, 76]],[[76,33],[20,18]]])\n",
        "print(arr2)"
      ],
      "metadata": {
        "colab": {
          "base_uri": "https://localhost:8080/"
        },
        "id": "JIxv5Tq9p35O",
        "outputId": "a1750a66-9547-4ad7-f71a-ed7ae28548af"
      },
      "execution_count": null,
      "outputs": [
        {
          "output_type": "stream",
          "name": "stdout",
          "text": [
            "[[[ 2 17]\n",
            "  [45 78]]\n",
            "\n",
            " [[88 92]\n",
            "  [60 76]]\n",
            "\n",
            " [[76 33]\n",
            "  [20 18]]]\n"
          ]
        }
      ]
    },
    {
      "cell_type": "markdown",
      "source": [
        "From these, we can obtain information about different properties of our arrays.\n",
        "**create a chart which give the defination of what this means? **"
      ],
      "metadata": {
        "id": "6RyTEw1mqXBx"
      }
    },
    {
      "cell_type": "code",
      "source": [
        "#Dimension (number of dimensions the array is in)\n",
        "\n",
        "print(arr1.ndim)\n",
        "\n",
        "#Shape (Number of rows, columns, etc)\n",
        "\n",
        "print(arr2.shape)\n",
        "\n",
        "#Type (data type)\n",
        "\n",
        "print(arr1.dtype)\n",
        "\n",
        "#Size\n",
        "\n",
        "print(arr2.size)\n",
        "\n",
        "#Total bytes used within array\n",
        "\n",
        "print(arr1.nbytes)"
      ],
      "metadata": {
        "colab": {
          "base_uri": "https://localhost:8080/"
        },
        "id": "NsvaWbA1qf-Z",
        "outputId": "168418fa-72e3-4733-f8aa-130e734bee79"
      },
      "execution_count": null,
      "outputs": [
        {
          "output_type": "stream",
          "name": "stdout",
          "text": [
            "2\n",
            "(3, 2, 2)\n",
            "int64\n",
            "12\n",
            "64\n"
          ]
        }
      ]
    },
    {
      "cell_type": "markdown",
      "source": [
        "We can also create matrices. Let's create a 0s matrix, a 1s matrix, and a matrix with random values.** what might we use matrices for? create a chart for these different functions**"
      ],
      "metadata": {
        "id": "ksr810Slx4Ef"
      }
    },
    {
      "cell_type": "code",
      "source": [
        "np.zeros((2,2))\n"
      ],
      "metadata": {
        "colab": {
          "base_uri": "https://localhost:8080/"
        },
        "id": "DtzFSQUm0b1y",
        "outputId": "e2717b3e-bb32-4457-8b87-84fdf3843cc6"
      },
      "execution_count": null,
      "outputs": [
        {
          "output_type": "execute_result",
          "data": {
            "text/plain": [
              "array([[0., 0.],\n",
              "       [0., 0.]])"
            ]
          },
          "metadata": {},
          "execution_count": 7
        }
      ]
    },
    {
      "cell_type": "code",
      "source": [
        "np.ones((2,3,2))"
      ],
      "metadata": {
        "colab": {
          "base_uri": "https://localhost:8080/"
        },
        "id": "KU04MlAg032Z",
        "outputId": "89476391-42f5-478e-bfa1-ce9c46939de7"
      },
      "execution_count": null,
      "outputs": [
        {
          "output_type": "execute_result",
          "data": {
            "text/plain": [
              "array([[[1., 1.],\n",
              "        [1., 1.],\n",
              "        [1., 1.]],\n",
              "\n",
              "       [[1., 1.],\n",
              "        [1., 1.],\n",
              "        [1., 1.]]])"
            ]
          },
          "metadata": {},
          "execution_count": 8
        }
      ]
    },
    {
      "cell_type": "code",
      "source": [
        "np.full((2,3), 2)"
      ],
      "metadata": {
        "colab": {
          "base_uri": "https://localhost:8080/"
        },
        "id": "pvZxrMaR1rDV",
        "outputId": "35507e7e-fc37-4a38-8e6b-be7c2db5cbc3"
      },
      "execution_count": null,
      "outputs": [
        {
          "output_type": "execute_result",
          "data": {
            "text/plain": [
              "array([[2, 2, 2],\n",
              "       [2, 2, 2]])"
            ]
          },
          "metadata": {},
          "execution_count": 9
        }
      ]
    },
    {
      "cell_type": "code",
      "source": [
        "np.identity(3)"
      ],
      "metadata": {
        "colab": {
          "base_uri": "https://localhost:8080/"
        },
        "id": "ej4B9Gi91061",
        "outputId": "3cccd39b-9933-420a-f413-78da4b5a59f7"
      },
      "execution_count": null,
      "outputs": [
        {
          "output_type": "execute_result",
          "data": {
            "text/plain": [
              "array([[1., 0., 0.],\n",
              "       [0., 1., 0.],\n",
              "       [0., 0., 1.]])"
            ]
          },
          "metadata": {},
          "execution_count": 10
        }
      ]
    },
    {
      "cell_type": "markdown",
      "source": [
        "Knowing what we know now about creating arrays and displaying array properties, let's take a preliminary look at our Iris dataset. "
      ],
      "metadata": {
        "id": "4Jd1t2dLr8YA"
      }
    },
    {
      "cell_type": "code",
      "source": [
        "print(iris.data.ndim)\n",
        "print(iris.data.shape)\n",
        "print(iris.data.size)\n",
        "print(iris.DESCR)\n"
      ],
      "metadata": {
        "colab": {
          "base_uri": "https://localhost:8080/"
        },
        "id": "Brwz8h1tr8-m",
        "outputId": "ca3529df-b3fc-4681-8d26-141a54ff0804"
      },
      "execution_count": null,
      "outputs": [
        {
          "output_type": "stream",
          "name": "stdout",
          "text": [
            "2\n",
            "(150, 4)\n",
            "600\n",
            ".. _iris_dataset:\n",
            "\n",
            "Iris plants dataset\n",
            "--------------------\n",
            "\n",
            "**Data Set Characteristics:**\n",
            "\n",
            "    :Number of Instances: 150 (50 in each of three classes)\n",
            "    :Number of Attributes: 4 numeric, predictive attributes and the class\n",
            "    :Attribute Information:\n",
            "        - sepal length in cm\n",
            "        - sepal width in cm\n",
            "        - petal length in cm\n",
            "        - petal width in cm\n",
            "        - class:\n",
            "                - Iris-Setosa\n",
            "                - Iris-Versicolour\n",
            "                - Iris-Virginica\n",
            "                \n",
            "    :Summary Statistics:\n",
            "\n",
            "    ============== ==== ==== ======= ===== ====================\n",
            "                    Min  Max   Mean    SD   Class Correlation\n",
            "    ============== ==== ==== ======= ===== ====================\n",
            "    sepal length:   4.3  7.9   5.84   0.83    0.7826\n",
            "    sepal width:    2.0  4.4   3.05   0.43   -0.4194\n",
            "    petal length:   1.0  6.9   3.76   1.76    0.9490  (high!)\n",
            "    petal width:    0.1  2.5   1.20   0.76    0.9565  (high!)\n",
            "    ============== ==== ==== ======= ===== ====================\n",
            "\n",
            "    :Missing Attribute Values: None\n",
            "    :Class Distribution: 33.3% for each of 3 classes.\n",
            "    :Creator: R.A. Fisher\n",
            "    :Donor: Michael Marshall (MARSHALL%PLU@io.arc.nasa.gov)\n",
            "    :Date: July, 1988\n",
            "\n",
            "The famous Iris database, first used by Sir R.A. Fisher. The dataset is taken\n",
            "from Fisher's paper. Note that it's the same as in R, but not as in the UCI\n",
            "Machine Learning Repository, which has two wrong data points.\n",
            "\n",
            "This is perhaps the best known database to be found in the\n",
            "pattern recognition literature.  Fisher's paper is a classic in the field and\n",
            "is referenced frequently to this day.  (See Duda & Hart, for example.)  The\n",
            "data set contains 3 classes of 50 instances each, where each class refers to a\n",
            "type of iris plant.  One class is linearly separable from the other 2; the\n",
            "latter are NOT linearly separable from each other.\n",
            "\n",
            ".. topic:: References\n",
            "\n",
            "   - Fisher, R.A. \"The use of multiple measurements in taxonomic problems\"\n",
            "     Annual Eugenics, 7, Part II, 179-188 (1936); also in \"Contributions to\n",
            "     Mathematical Statistics\" (John Wiley, NY, 1950).\n",
            "   - Duda, R.O., & Hart, P.E. (1973) Pattern Classification and Scene Analysis.\n",
            "     (Q327.D83) John Wiley & Sons.  ISBN 0-471-22361-1.  See page 218.\n",
            "   - Dasarathy, B.V. (1980) \"Nosing Around the Neighborhood: A New System\n",
            "     Structure and Classification Rule for Recognition in Partially Exposed\n",
            "     Environments\".  IEEE Transactions on Pattern Analysis and Machine\n",
            "     Intelligence, Vol. PAMI-2, No. 1, 67-71.\n",
            "   - Gates, G.W. (1972) \"The Reduced Nearest Neighbor Rule\".  IEEE Transactions\n",
            "     on Information Theory, May 1972, 431-433.\n",
            "   - See also: 1988 MLC Proceedings, 54-64.  Cheeseman et al\"s AUTOCLASS II\n",
            "     conceptual clustering system finds 3 classes in the data.\n",
            "   - Many, many more ...\n"
          ]
        }
      ]
    },
    {
      "cell_type": "markdown",
      "source": [
        "Great! Now that we know how to look at basic properties, let's look at how to access information within our array. After all, thats what we want to do, right? **create a graph to look at the properties of the iris dataset**"
      ],
      "metadata": {
        "id": "FutM6Rlfwdqc"
      }
    },
    {
      "cell_type": "code",
      "source": [
        "dset = iris.data\n",
        "#gets data at row 2 column 3 within the data set\n",
        "print(dset[2,3])\n",
        "#gets the 0th row\n",
        "print(dset[0,:])\n",
        "#gets the 4th column\n",
        "print(dset[:,3])\n",
        "#gets the dataset with just the first 2 rows and first 3 columns\n",
        "print(dset[0:2,0:3])\n"
      ],
      "metadata": {
        "colab": {
          "base_uri": "https://localhost:8080/"
        },
        "id": "_hY0fiRA2OwI",
        "outputId": "f072a8a1-f91a-422e-cd15-7e4ec80150c4"
      },
      "execution_count": null,
      "outputs": [
        {
          "output_type": "stream",
          "name": "stdout",
          "text": [
            "0.2\n",
            "[5.1 3.5 1.4 0.2]\n",
            "[0.2 0.2 0.2 0.2 0.2 0.4 0.3 0.2 0.2 0.1 0.2 0.2 0.1 0.1 0.2 0.4 0.4 0.3\n",
            " 0.3 0.3 0.2 0.4 0.2 0.5 0.2 0.2 0.4 0.2 0.2 0.2 0.2 0.4 0.1 0.2 0.2 0.2\n",
            " 0.2 0.1 0.2 0.2 0.3 0.3 0.2 0.6 0.4 0.3 0.2 0.2 0.2 0.2 1.4 1.5 1.5 1.3\n",
            " 1.5 1.3 1.6 1.  1.3 1.4 1.  1.5 1.  1.4 1.3 1.4 1.5 1.  1.5 1.1 1.8 1.3\n",
            " 1.5 1.2 1.3 1.4 1.4 1.7 1.5 1.  1.1 1.  1.2 1.6 1.5 1.6 1.5 1.3 1.3 1.3\n",
            " 1.2 1.4 1.2 1.  1.3 1.2 1.3 1.3 1.1 1.3 2.5 1.9 2.1 1.8 2.2 2.1 1.7 1.8\n",
            " 1.8 2.5 2.  1.9 2.1 2.  2.4 2.3 1.8 2.2 2.3 1.5 2.3 2.  2.  1.8 2.1 1.8\n",
            " 1.8 1.8 2.1 1.6 1.9 2.  2.2 1.5 1.4 2.3 2.4 1.8 1.8 2.1 2.4 2.3 1.9 2.3\n",
            " 2.5 2.3 1.9 2.  2.3 1.8]\n",
            "[[5.1 3.5 1.4]\n",
            " [4.9 3.  1.4]]\n"
          ]
        }
      ]
    },
    {
      "cell_type": "markdown",
      "source": [
        "A QR Factorization of a matrix is a matrix decomposed into two matrices, a Q orthogonal matrix and an R upper triangular matrix. This definition can be useful to solve linear least squares problems. **more explanation of what this is and when we might use it **"
      ],
      "metadata": {
        "id": "nrwluUzMKRZ0"
      }
    },
    {
      "cell_type": "code",
      "source": [
        "#QR Factorization\n",
        "\n",
        "q,r = np.linalg.qr(dset)\n",
        "print(q)\n",
        "print(\"\\n\")\n",
        "print(r)"
      ],
      "metadata": {
        "colab": {
          "base_uri": "https://localhost:8080/"
        },
        "id": "SnmHeabGDmQk",
        "outputId": "4e84a0b3-9724-43b3-fc7b-825d03486b26"
      },
      "execution_count": null,
      "outputs": [
        {
          "output_type": "stream",
          "name": "stdout",
          "text": [
            "[[-7.05626410e-02 -1.12834741e-01 -5.35604521e-02 -4.85100071e-03]\n",
            " [-6.77954786e-02 -6.24183863e-02 -1.20670136e-01  1.78165913e-02]\n",
            " [-6.50283162e-02 -1.00753125e-01 -5.35114961e-02  2.22950789e-03]\n",
            " [-6.36447350e-02 -9.45630387e-02 -3.17963126e-02 -4.54412513e-02]\n",
            " [-6.91790598e-02 -1.32002110e-01 -1.39976581e-02 -2.41171190e-02]\n",
            " [-7.47133846e-02 -1.44083726e-01  9.88728158e-03  8.60478546e-03]\n",
            " [-6.36447350e-02 -1.32599221e-01  1.89089989e-02 -5.87823649e-03]\n",
            " [-6.91790598e-02 -1.06644655e-01 -4.38122165e-02 -2.95766068e-02]\n",
            " [-6.08775726e-02 -8.21828669e-02 -4.82006851e-02 -2.60570041e-02]\n",
            " [-6.77954786e-02 -7.50971138e-02 -8.78124351e-02 -5.67177541e-02]\n",
            " [-7.47133846e-02 -1.18726271e-01 -5.58281204e-02 -1.37119623e-02]\n",
            " [-6.64118974e-02 -1.19621938e-01  5.49881298e-03 -7.35683311e-02]\n",
            " [-6.64118974e-02 -6.89070279e-02 -1.01998095e-01 -3.55530539e-02]\n",
            " [-5.94939914e-02 -1.01350236e-01 -4.45387348e-02 -1.93340227e-02]\n",
            " [-8.02477094e-02 -1.30807887e-01 -1.03744868e-01  7.09881415e-02]\n",
            " [-7.88641282e-02 -1.88011439e-01  3.43910291e-02  4.23507853e-02]\n",
            " [-7.47133846e-02 -1.44083726e-01 -3.79805099e-02  1.00385398e-01]\n",
            " [-7.05626410e-02 -1.12834741e-01 -5.35604521e-02  3.79953589e-02]\n",
            " [-7.88641282e-02 -1.11939073e-01 -6.70195940e-02  6.07111530e-03]\n",
            " [-7.05626410e-02 -1.50870923e-01  2.10787552e-02 -1.11782921e-02]\n",
            " [-7.47133846e-02 -8.06900883e-02 -9.45664841e-02 -3.33737706e-02]\n",
            " [-7.05626410e-02 -1.38192196e-01  1.88002053e-04  4.04109001e-02]\n",
            " [-6.36447350e-02 -1.57956676e-01  1.28227137e-02  2.55703510e-02]\n",
            " [-7.05626410e-02 -8.74772856e-02 -5.94411147e-02  7.23382841e-02]\n",
            " [-6.64118974e-02 -1.19621938e-01  4.13996566e-02 -1.42403790e-01]\n",
            " [-6.91790598e-02 -5.59297447e-02 -1.15408281e-01 -1.75504293e-02]\n",
            " [-6.91790598e-02 -1.06644655e-01 -3.18452687e-02  3.31709593e-02]\n",
            " [-7.19462222e-02 -1.06346099e-01 -6.02655450e-02 -1.72728682e-02]\n",
            " [-7.19462222e-02 -9.36673715e-02 -9.31232460e-02  1.44151175e-02]\n",
            " [-6.50283162e-02 -1.00753125e-01 -1.76106525e-02 -6.66059514e-02]\n",
            " [-6.64118974e-02 -8.15857554e-02 -5.71734464e-02 -4.73398332e-02]\n",
            " [-7.47133846e-02 -8.06900883e-02 -1.18500380e-01  9.82092548e-02]\n",
            " [-7.19462222e-02 -1.82418464e-01  6.50789738e-02 -1.12576224e-01]\n",
            " [-7.60969658e-02 -1.75631267e-01  1.79866566e-02 -2.39576868e-02]\n",
            " [-6.77954786e-02 -7.50971138e-02 -8.78124351e-02 -1.38713945e-02]\n",
            " [-6.91790598e-02 -8.12871997e-02 -1.21494566e-01  5.67445178e-02]\n",
            " [-7.60969658e-02 -8.68801742e-02 -1.40215563e-01  6.01872948e-02]\n",
            " [-6.77954786e-02 -1.38490751e-01  4.67438270e-03 -7.74867642e-02]\n",
            " [-6.08775726e-02 -9.48615944e-02 -3.92768799e-02 -1.18546837e-02]\n",
            " [-7.05626410e-02 -1.00156013e-01 -6.24842573e-02 -1.90533212e-02]\n",
            " [-6.91790598e-02 -1.19323382e-01 -4.68553591e-02  5.04172264e-02]\n",
            " [-6.22611538e-02  3.78139829e-04 -2.04184193e-01  1.02714790e-01]\n",
            " [-6.08775726e-02 -1.20219049e-01  2.50462640e-03 -2.93403489e-02]\n",
            " [-6.91790598e-02 -1.19323382e-01 -1.09545155e-02  1.10120846e-01]\n",
            " [-7.05626410e-02 -1.50870923e-01  6.89465466e-02 -6.01125449e-02]\n",
            " [-6.64118974e-02 -6.89070279e-02 -1.01998095e-01  5.01396653e-02]\n",
            " [-7.05626410e-02 -1.50870923e-01  3.30457030e-02 -7.69698048e-02]\n",
            " [-6.36447350e-02 -1.07241766e-01 -2.28725074e-02 -3.12389308e-02]\n",
            " [-7.33298034e-02 -1.25214912e-01 -3.71560796e-02 -2.42352479e-02]\n",
            " [-6.91790598e-02 -9.39659272e-02 -7.66699175e-02  2.11137896e-03]\n",
            " [-9.68506837e-02  4.84856326e-02 -7.60922075e-02 -2.17138134e-02]\n",
            " [-8.85491966e-02  9.55378288e-03  1.20061416e-02  3.88313876e-03]\n",
            " [-9.54671025e-02  5.46757185e-02 -5.43770241e-02 -2.65382130e-02]\n",
            " [-7.60969658e-02  6.52645560e-02 -6.77970085e-02  1.68921084e-02]\n",
            " [-8.99327778e-02  6.67573345e-02 -7.82619638e-02  2.64326018e-02]\n",
            " [-7.88641282e-02  1.48482016e-02  5.91474148e-02 -1.20501249e-01]\n",
            " [-8.71656154e-02 -9.61358625e-03  7.55028313e-02 -1.84269261e-02]\n",
            " [-6.77954786e-02  1.36539788e-02 -1.86426455e-02 -2.29134450e-02]\n",
            " [-9.13163590e-02  6.05672486e-02 -7.60432515e-02 -5.74796644e-02]\n",
            " [-7.19462222e-02 -4.91627892e-03  5.98151786e-02  1.61424337e-02]\n",
            " [-6.91790598e-02  7.08575304e-02 -9.69438031e-02 -2.33091351e-02]\n",
            " [-8.16312906e-02  2.46802983e-03  2.76839959e-02  3.75878353e-02]\n",
            " [-8.30148718e-02  1.10386492e-01 -1.82047966e-01 -5.02877098e-02]\n",
            " [-8.43984530e-02  2.81240406e-02  2.92839004e-02 -9.01948859e-02]\n",
            " [-7.74805470e-02 -4.31916750e-03 -8.99232197e-03  6.67390105e-02]\n",
            " [-9.26999401e-02  4.16984352e-02 -7.68676818e-02  2.42946217e-02]\n",
            " [-7.74805470e-02 -1.69978950e-02  1.19600962e-01 -6.28174808e-02]\n",
            " [-8.02477094e-02  3.40155708e-02 -2.82831706e-02 -1.37993597e-01]\n",
            " [-8.57820342e-02  1.23363775e-01 -1.59557308e-01  7.02648939e-02]\n",
            " [-7.74805470e-02  4.63957426e-02 -5.66544909e-02 -5.28178374e-02]\n",
            " [-8.16312906e-02 -2.28894252e-02  1.41267189e-01  1.09703302e-02]\n",
            " [-8.43984530e-02  4.08027681e-02 -7.53754877e-02  3.63176588e-02]\n",
            " [-8.71656154e-02  9.18162338e-02 -6.76892980e-02 -3.72209308e-02]\n",
            " [-8.43984530e-02  4.08027681e-02  8.39314729e-03 -1.67144773e-01]\n",
            " [-8.85491966e-02  4.75899654e-02 -7.46000135e-02 -9.69077633e-03]\n",
            " [-9.13163590e-02  4.78885211e-02 -7.90863941e-02  2.25141687e-02]\n",
            " [-9.40835213e-02  8.62232594e-02 -1.10344191e-01 -3.07342072e-02]\n",
            " [-9.26999401e-02  5.43771627e-02 -2.59567478e-02  2.39056145e-02]\n",
            " [-8.30148718e-02  2.16353990e-02  2.40220455e-02 -1.19815057e-02]\n",
            " [-7.88641282e-02  4.02056567e-02 -1.02303570e-01 -2.10313165e-03]\n",
            " [-7.60969658e-02  5.25858285e-02 -7.08401511e-02 -3.16531373e-02]\n",
            " [-7.60969658e-02  5.25858285e-02 -8.28070989e-02 -5.15543438e-02]\n",
            " [-8.02477094e-02  3.40155708e-02 -5.22170663e-02 -6.41057188e-03]\n",
            " [-8.30148718e-02  4.69928540e-02  5.40422264e-02 -8.93203995e-02]\n",
            " [-7.47133846e-02 -2.99751782e-02  1.56945044e-01 -8.38640520e-02]\n",
            " [-8.30148718e-02 -4.17582386e-02  1.28475811e-01 -1.28493093e-02]\n",
            " [-9.26999401e-02  4.16984352e-02 -4.09668382e-02 -1.69447799e-03]\n",
            " [-8.71656154e-02  1.17173689e-01 -1.69305544e-01  9.29778079e-03]\n",
            " [-7.74805470e-02 -1.69978950e-02  7.17331705e-02 -5.67295876e-02]\n",
            " [-7.60969658e-02  3.99071009e-02 -2.60155022e-02 -5.93556917e-04]\n",
            " [-7.60969658e-02  2.72283734e-02  4.27430424e-02 -1.43963362e-01]\n",
            " [-8.43984530e-02  1.54453131e-02  3.82077057e-02 -7.59925655e-02]\n",
            " [-8.02477094e-02  4.66942983e-02 -6.11408716e-02 -2.06128923e-02]\n",
            " [-6.91790598e-02  3.28213479e-02 -5.82054394e-02 -3.64732676e-03]\n",
            " [-7.74805470e-02  2.10382875e-02  2.10278589e-02 -5.34462428e-02]\n",
            " [-7.88641282e-02 -1.05092534e-02  6.50280775e-02 -1.11997815e-01]\n",
            " [-7.88641282e-02  2.16947412e-03  4.41373244e-02 -6.04086225e-02]\n",
            " [-8.57820342e-02  3.46126822e-02 -3.72559318e-02 -3.07373475e-02]\n",
            " [-7.05626410e-02  1.39525345e-02 -7.09968176e-02  1.01072112e-01]\n",
            " [-7.88641282e-02  1.48482016e-02  1.12796234e-02 -2.87206367e-02]\n",
            " [-8.71656154e-02 -9.61358625e-03  2.31073154e-01  6.89033200e-02]\n",
            " [-8.02477094e-02  3.40155708e-02  9.13863081e-02  1.81721081e-02]\n",
            " [-9.82342649e-02  8.03317292e-02  7.05761972e-03  3.08778175e-02]\n",
            " [-8.71656154e-02  4.11013238e-02  9.96423495e-02 -1.04269254e-01]\n",
            " [-8.99327778e-02  4.13998795e-02  1.07122917e-01  3.35296165e-02]\n",
            " [-1.05152171e-01  1.12774937e-01 -2.53394933e-03 -7.71218262e-02]\n",
            " [-6.77954786e-02  9.75251259e-04  1.45851482e-01 -7.07359764e-03]\n",
            " [-1.01001427e-01  1.05987740e-01 -3.30942360e-03 -1.59652470e-01]\n",
            " [-9.26999401e-02  1.17770800e-01 -3.46749305e-02 -7.30950875e-02]\n",
            " [-9.96178461e-02  1.07480057e-02  1.37663993e-01  1.14439239e-01]\n",
            " [-8.99327778e-02  1.60424245e-02  6.51357880e-02  9.09673038e-02]\n",
            " [-8.85491966e-02  7.29474204e-02  3.28795888e-03  3.54215155e-02]\n",
            " [-9.40835213e-02  6.08658044e-02  1.52059507e-02  9.10885731e-02]\n",
            " [-7.88641282e-02  5.28843842e-02  5.63098948e-02  9.09260005e-02]\n",
            " [-8.02477094e-02  2.13368432e-02  1.12277061e-01  2.23661074e-01]\n",
            " [-8.85491966e-02  9.55378288e-03  1.07741725e-01  1.63092791e-01]\n",
            " [-8.99327778e-02  4.13998795e-02  7.12220732e-02 -6.90203626e-02]\n",
            " [-1.06535752e-01  1.78337588e-02  1.57886983e-01 -1.16639995e-01]\n",
            " [-1.06535752e-01  1.69978489e-01 -6.88681591e-02 -1.47699502e-02]\n",
            " [-8.30148718e-02  1.10386492e-01 -6.23784871e-02 -6.55074428e-02]\n",
            " [-9.54671025e-02  4.19969909e-02  6.22493119e-02  1.23928606e-01]\n",
            " [-7.74805470e-02  8.35956002e-03  1.25687247e-01  7.71193701e-02]\n",
            " [-1.06535752e-01  1.44621034e-01 -5.10205485e-02 -1.14904388e-01]\n",
            " [-8.71656154e-02  6.64587788e-02 -2.59077918e-02  7.38324827e-02]\n",
            " [-9.26999401e-02  1.63409802e-02  1.20484147e-01  8.44648334e-03]\n",
            " [-9.96178461e-02  6.14629158e-02  4.21340330e-02 -1.27568794e-01]\n",
            " [-8.57820342e-02  4.72914097e-02  1.68805434e-03  7.75115176e-02]\n",
            " [-8.43984530e-02  1.54453131e-02  7.41085493e-02  2.65574136e-02]\n",
            " [-8.85491966e-02  6.02686929e-02  6.00795556e-02  4.35359428e-02]\n",
            " [-9.96178461e-02  8.68203708e-02 -2.35813690e-02 -1.49885542e-01]\n",
            " [-1.02385009e-01  1.25155109e-01 -6.68061133e-02 -5.16496859e-02]\n",
            " [-1.09302915e-01  3.08110420e-02  8.46420575e-02 -1.12450684e-01]\n",
            " [-8.85491966e-02  6.02686929e-02  6.00795556e-02  8.63823024e-02]\n",
            " [-8.71656154e-02  5.37800513e-02  1.89168571e-02 -1.09339735e-01]\n",
            " [-8.43984530e-02  6.61602231e-02  7.43141718e-02 -2.70472766e-01]\n",
            " [-1.06535752e-01  1.19263579e-01 -8.10407295e-02  1.33819944e-01]\n",
            " [-8.71656154e-02 -2.22923138e-02  2.04096115e-01  1.09094740e-01]\n",
            " [-8.85491966e-02  2.22325104e-02  1.10784867e-01 -8.82864808e-02]\n",
            " [-8.30148718e-02  8.95667145e-03  8.08136422e-02  3.89792811e-02]\n",
            " [-9.54671025e-02  5.46757185e-02  5.45771518e-03  1.15814179e-01]\n",
            " [-9.26999401e-02  4.16984352e-02  6.67356925e-02  1.77416381e-01]\n",
            " [-9.54671025e-02  5.46757185e-02 -3.04431284e-02  2.70342358e-01]\n",
            " [-8.02477094e-02  3.40155708e-02  9.13863081e-02  1.81721081e-02]\n",
            " [-9.40835213e-02  3.55083493e-02  1.04855248e-01  6.75150146e-02]\n",
            " [-9.26999401e-02  1.63409802e-02  1.20484147e-01  1.79831922e-01]\n",
            " [-9.26999401e-02  5.43771627e-02 -2.02285204e-03  2.35093466e-01]\n",
            " [-8.71656154e-02  9.18162338e-02 -5.57223501e-02  1.11219355e-01]\n",
            " [-8.99327778e-02  4.13998795e-02  3.53212296e-02  8.55078159e-02]\n",
            " [-8.57820342e-02 -2.87809554e-02  1.98834260e-01  1.01615401e-01]\n",
            " [-8.16312906e-02  2.46802983e-03  1.35386527e-01 -4.03794638e-02]]\n",
            "\n",
            "\n",
            "[[-72.27620632 -36.98907477 -48.20064828 -15.60873291]\n",
            " [  0.          -7.88722685  13.76876634   5.76407773]\n",
            " [  0.           0.           8.3563496    4.47500611]\n",
            " [  0.           0.           0.           2.33392057]]\n"
          ]
        }
      ]
    },
    {
      "cell_type": "markdown",
      "source": [
        "The above code snipped is the QR decomposition for the Iris dataset. Now, knowing how to calculate it using NumPy, take the QR decomposition of the first 20 rows and the 4 columns. "
      ],
      "metadata": {
        "id": "fhXtyJKFMEOl"
      }
    },
    {
      "cell_type": "code",
      "source": [
        "#QR Example\n",
        "\n",
        "#reduced = dset[0:15, 0:4]\n",
        "#a,b = np.linalg.qr(reduced)\n",
        "#print(a,b)"
      ],
      "metadata": {
        "colab": {
          "base_uri": "https://localhost:8080/"
        },
        "id": "PLLPXDplMb9j",
        "outputId": "cc208cc6-8ae4-438c-dde8-9c7a2ce35c59"
      },
      "execution_count": null,
      "outputs": [
        {
          "output_type": "stream",
          "name": "stdout",
          "text": [
            "[[-0.26719154  0.03662755 -0.10805339 -0.02095792]\n",
            " [-0.25671344 -0.51332522 -0.02123156  0.45578013]\n",
            " [-0.24623534 -0.0047896  -0.08421544  0.08910074]\n",
            " [-0.24099629 -0.05294704  0.28310894 -0.03309335]\n",
            " [-0.26195249  0.29089536 -0.05915492 -0.24490457]\n",
            " [-0.28290869  0.3323125   0.23856879  0.53712314]\n",
            " [-0.24099629  0.40069084  0.12703173  0.17910707]\n",
            " [-0.26195249 -0.0115299   0.09849016 -0.0619381 ]\n",
            " [-0.23051819 -0.14926192  0.21385356  0.12858803]\n",
            " [-0.25671344 -0.36211259  0.14111715 -0.28478107]\n",
            " [-0.28290869  0.02988725 -0.08612862 -0.09078284]\n",
            " [-0.25147439  0.19458047  0.35393219 -0.32686493]\n",
            " [-0.25147439 -0.41027004  0.02609904 -0.16333342]\n",
            " [-0.22527914  0.10500589 -0.21959045 -0.37897399]\n",
            " [-0.30386489  0.07130439 -0.75308988  0.12401415]] [[-1.90874304e+01 -1.30085608e+01 -5.49209599e+00 -7.79570622e-01]\n",
            " [ 0.00000000e+00  6.61320433e-01 -6.44893860e-03  1.64682849e-01]\n",
            " [ 0.00000000e+00  0.00000000e+00  6.21964697e-01  9.58018142e-02]\n",
            " [ 0.00000000e+00  0.00000000e+00  0.00000000e+00  1.89660796e-01]]\n"
          ]
        }
      ]
    },
    {
      "cell_type": "markdown",
      "source": [
        "Now, let's see if we can calculate the singular value decomposition of  a matrix. The SVD splits an m x n matrix into 3 component matrices and has useful applications in data analysis. Let's compute the SVD of the dataset. "
      ],
      "metadata": {
        "id": "WkZ2BDbUNRP-"
      }
    },
    {
      "cell_type": "code",
      "source": [
        "#SVD\n",
        "u,s,v = np.linalg.svd(dset)\n",
        "print(u)\n",
        "print(\"\\n\")\n",
        "print(s)\n",
        "print(\"\\n\")\n",
        "print(v)"
      ],
      "metadata": {
        "colab": {
          "base_uri": "https://localhost:8080/"
        },
        "id": "BpKZSg3zDqIb",
        "outputId": "55f81216-40e5-4797-d162-cd9acd28fd47"
      },
      "execution_count": null,
      "outputs": [
        {
          "output_type": "stream",
          "name": "stdout",
          "text": [
            "[[-0.06161685  0.12961144  0.0021386  ... -0.09343429 -0.09573864\n",
            "  -0.08085465]\n",
            " [-0.05807094  0.11101978  0.07067239 ...  0.03690405 -0.03153954\n",
            "   0.01309526]\n",
            " [-0.05676305  0.11796647  0.00434255 ...  0.03066199  0.19531473\n",
            "   0.13569909]\n",
            " ...\n",
            " [-0.0940593  -0.0498297  -0.04144001 ...  0.98181631 -0.02194514\n",
            "  -0.00894446]\n",
            " [-0.09488961 -0.05610123 -0.21297821 ... -0.02155617  0.94178018\n",
            "  -0.02971961]\n",
            " [-0.08847836 -0.0515697  -0.09575285 ... -0.0086052  -0.03021088\n",
            "   0.9736599 ]]\n",
            "[95.95991387 17.76103366  3.46093093  1.88482631]\n",
            "[[-0.75110816 -0.38008617 -0.51300886 -0.16790754]\n",
            " [ 0.2841749   0.5467445  -0.70866455 -0.34367081]\n",
            " [ 0.50215472 -0.67524332 -0.05916621 -0.53701625]\n",
            " [ 0.32081425 -0.31725607 -0.48074507  0.75187165]]\n"
          ]
        }
      ]
    },
    {
      "cell_type": "markdown",
      "source": [
        "Now, your turn to try it. Calculate the SVD of the sliced dataset that includes the first 10 rows and the first 4 columns."
      ],
      "metadata": {
        "id": "L3oRHW_EOlDA"
      }
    },
    {
      "cell_type": "code",
      "source": [
        "#SVD Example\n",
        "\n",
        "#a,b,c = np.linalg.svd(reduced)\n",
        "#print(a)\n",
        "#print(\"\\n\")\n",
        "#print(b)\n",
        "#print(\"\\n\")\n",
        "#print(c)"
      ],
      "metadata": {
        "colab": {
          "base_uri": "https://localhost:8080/"
        },
        "id": "6g49-hqoOLHy",
        "outputId": "7e86093e-082d-488c-c236-721eee67fa19"
      },
      "execution_count": null,
      "outputs": [
        {
          "output_type": "stream",
          "name": "stdout",
          "text": [
            "[[-0.26704521 -0.11066054 -0.03140721  0.01738833 -0.27368054 -0.53925713\n",
            "  -0.41198453 -0.26083093 -0.25566703 -0.11460699 -0.25865731 -0.27885163\n",
            "  -0.10885347 -0.13097278 -0.2439751 ]\n",
            " [-0.24875324  0.24820627 -0.39495006 -0.5080559   0.30925677 -0.12744394\n",
            "   0.14728436 -0.04610544 -0.26423189 -0.2006681   0.01347605  0.24650459\n",
            "  -0.29590604  0.25999895 -0.02273523]\n",
            " [-0.24562987 -0.06894253 -0.04048153 -0.09465784 -0.1201167   0.29660856\n",
            "   0.13542884  0.05903985  0.20407795  0.05986168 -0.12950022  0.27452809\n",
            "  -0.03491378 -0.29946226 -0.75618706]\n",
            " [-0.24188986  0.27024534  0.0926867   0.04465838 -0.17570798  0.44405184\n",
            "   0.18435967 -0.13386487 -0.02503556 -0.43123888 -0.10857974 -0.3687045\n",
            "  -0.30966316 -0.29705879  0.24381636]\n",
            " [-0.26597027 -0.20045092  0.18219998  0.26944236  0.84864853  0.00812578\n",
            "  -0.07213261 -0.05961446  0.01176123 -0.04628431 -0.08159977 -0.13907341\n",
            "  -0.01540374 -0.14601188 -0.06647277]\n",
            " [-0.28960987  0.03225769  0.46586622 -0.48367292 -0.01922978  0.3552744\n",
            "  -0.39785911 -0.05230328 -0.14291226  0.23690868  0.002849   -0.05561721\n",
            "   0.21933544  0.21275693  0.05893199]\n",
            " [-0.24797307 -0.09844068  0.42338694 -0.12810564 -0.08812514 -0.35752236\n",
            "   0.73531197 -0.05020344 -0.06142366  0.12913866 -0.0290604  -0.10463574\n",
            "   0.13850565  0.05088619  0.01851608]\n",
            " [-0.26233172  0.09095929  0.02901518  0.06599456 -0.0522895  -0.12285622\n",
            "  -0.09016181  0.93093273 -0.07908121 -0.05512788 -0.04799315 -0.10312937\n",
            "  -0.03928111 -0.01095293  0.03498103]\n",
            " [-0.22954244  0.26078087 -0.00470604 -0.13025915  0.01914956 -0.25609683\n",
            "  -0.13050786 -0.06537434  0.86485804 -0.01850744 -0.01408482 -0.06724286\n",
            "  -0.01642744  0.10341084  0.10511901]\n",
            " [-0.25189408  0.30920797 -0.27378903  0.25302371 -0.0146693   0.07015169\n",
            "   0.05647972 -0.08771805 -0.10366331  0.78057029 -0.05558678 -0.11971646\n",
            "  -0.19113118 -0.04886644  0.09777763]\n",
            " [-0.28277359 -0.08832677 -0.03465634  0.08733073 -0.08348153 -0.04179836\n",
            "  -0.05670928 -0.05634764 -0.03045041 -0.04959331  0.92963032 -0.06699999\n",
            "  -0.04442344 -0.07949933 -0.08899809]\n",
            " [-0.25654329  0.20278874  0.30304475  0.36665482 -0.11082969 -0.09467698\n",
            "  -0.11344222 -0.1035273  -0.09069925 -0.11724897 -0.05072847  0.7383155\n",
            "  -0.04835525 -0.04686514  0.21855205]\n",
            " [-0.24523363  0.23569171 -0.35885832  0.12020995  0.00540842  0.05249698\n",
            "   0.05876897 -0.06945753 -0.09153987 -0.17949892 -0.05304414 -0.05127068\n",
            "   0.8261683  -0.03484598  0.0143794 ]\n",
            " [-0.22540841 -0.24135891 -0.07388649  0.37295561 -0.14144576  0.21574841\n",
            "   0.06366408 -0.04501101  0.05363764 -0.12741556 -0.09533819 -0.09084236\n",
            "  -0.10363515  0.77760296 -0.1479473 ]\n",
            " [-0.30029501 -0.68031696 -0.31656538 -0.16346308 -0.11494831  0.08987949\n",
            "   0.01115932  0.01669741  0.1132109   0.06906095 -0.11208572  0.16375637\n",
            "   0.00109708 -0.2013751   0.44815683]]\n",
            "\n",
            "\n",
            "[23.7587713   0.63235987  0.55599654  0.17825525]\n",
            "\n",
            "\n",
            "[[-0.8032737  -0.5478802  -0.23128667 -0.03294128]\n",
            " [ 0.08138027 -0.48641806  0.86992511 -0.00224318]\n",
            " [-0.55956531  0.62808326  0.40446434  0.35889647]\n",
            " [-0.18712368  0.26217586  0.16169533 -0.9327932 ]]\n"
          ]
        }
      ]
    },
    {
      "cell_type": "markdown",
      "source": [
        "overall notes: \n",
        "1.) missing examples\n",
        "examples need to relate to biology\n",
        "\n",
        "2.) missing images you need to generate images of the topics you are discussing or reference supporting images from online\n",
        "\n",
        "3.) remember anything taken from online must be cited\n",
        "\n",
        "4.) you need to add information on tranpose and inverse matrics before svd and QR\n",
        "\n",
        "5.) you should briefly show the math of the function you are discussing \n"
      ],
      "metadata": {
        "id": "9P_SK4Hkblsr"
      }
    },
    {
      "cell_type": "code",
      "source": [],
      "metadata": {
        "id": "ubkY0_pTbtI7"
      },
      "execution_count": null,
      "outputs": []
    }
  ]
}