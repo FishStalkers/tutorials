{
 "cells": [
  {
   "cell_type": "markdown",
   "id": "d0524643",
   "metadata": {},
   "source": [
    "# Object-Oriented Programming in Python Tutorial"
   ]
  },
  {
   "cell_type": "markdown",
   "id": "fdb1792f",
   "metadata": {},
   "source": [
    "### So What is Object-Oriented Programming (OOP)?"
   ]
  },
  {
   "cell_type": "markdown",
   "id": "9b840bcc",
   "metadata": {},
   "source": [
    "Object-oriented programming is a type of programming that breaks down problems into the existance and interactions of different classes of objects. For example we might represent a company's work environment as the existance of employees and supervisors and the interactions within and between members of each class.\n",
    "\n",
    "For example, we could create a person object with attributes like their age, height, weight, and more. Moreover, we could also create actions that person might take like getting older, changing jobs, or spending money.\n",
    "\n",
    "Object-oriented programming allows us to create new, complex types of data (classes) and then create instances of those classes (objects) that we can use to solve real-life problems.\n"
   ]
  },
  {
   "cell_type": "markdown",
   "id": "51864337",
   "metadata": {},
   "source": [
    "##### Building Classes"
   ]
  },
  {
   "cell_type": "markdown",
   "id": "49d1f6fe",
   "metadata": {},
   "source": [
    "A class is the framework for any particular type of object. For example, two different people, let's say Derek and Angela might both be instance (essentially members) of the Person class. They would have the same attributes (e.g. height, weight, sex, eye color, clothing, etc.), but may have different values for each of these attributes. Here, Derek and Angela are two different objects, but both derive their archetypes from the Person class. It's easy to see the advantage of creating a class. We can easily create plenty of people without having to continuously redefine our attributes for each person. We do the heavy-lifting one time when creating the class, and then simply input our values for each object of the class when defining that object."
   ]
  },
  {
   "cell_type": "markdown",
   "id": "938645f1",
   "metadata": {},
   "source": [
    "Let's build our Person class below. The first step is defining and initializing our class."
   ]
  },
  {
   "cell_type": "markdown",
   "id": "813e8f69",
   "metadata": {},
   "source": [
    "In order to create a class, we must define the class and then initialize it by first defining certain attributes that a member of that class would possess and then setting initial values for them. This pattern of defining and initializing should feel very familiar as it is analogous to creating a variable in Python."
   ]
  },
  {
   "cell_type": "markdown",
   "id": "a7e16317",
   "metadata": {},
   "source": [
    "Defining a class is simple: "
   ]
  },
  {
   "cell_type": "code",
   "execution_count": null,
   "id": "2cae3951",
   "metadata": {
    "scrolled": false
   },
   "outputs": [],
   "source": [
    "class Person:\n",
    "    def __init__(self, name, age, height, weight, sex, likesSports, salary, profession = \"Student\"):"
   ]
  },
  {
   "cell_type": "markdown",
   "id": "6bc60a5c",
   "metadata": {},
   "source": [
    "Every method must first contain the parameter \"self\". This allows a class to store information for several objects. After that we can define any number of attributes that we want an instance of our class to have.\n",
    "\n",
    "Notice that our last attribute, \"profession\", is set equal to \"Student\". This is what we call a default parameter. If a user attempts to create an object that is a instance of the Person class, they must input values for each parameter defined in the \\__init\\__ method, EXCEPT default parameters. In our example, if no value is inputted for the \"profession\" attribute, it will take on the value \"Student\" by default. However, if a value is inputted, say \"Data Scientist\", for example, the user input will override the default value.\n",
    "\n",
    "Now we can't stop at simply defining our attributes as the inputs for our \\__init\\__ method, as we have not defined a place for user inputs to be stored. In order to do that we must assign those user inputs to variables just as we would within a function in procedural programming:"
   ]
  },
  {
   "cell_type": "code",
   "execution_count": null,
   "id": "7c46c11f",
   "metadata": {},
   "outputs": [],
   "source": [
    "class Person:\n",
    "    def __init__(self, name, age, height, weight, sex, likesSports, salary, profession = \"Student\"):\n",
    "        self.name = name\n",
    "        self.age = age\n",
    "        self.height = height\n",
    "        self.weight = weight\n",
    "        self.sex = sex\n",
    "        self.likesSports = likesSports\n",
    "        self.salary = salary\n",
    "        self.profession = profession\n",
    "        if age >= 22:\n",
    "            self.bankAccount = (age - 22) * salary * 0.25\n",
    "        else:\n",
    "            self.bankAccount = 500\n",
    "        self.friends = []"
   ]
  },
  {
   "cell_type": "markdown",
   "id": "158cc44d",
   "metadata": {},
   "source": [
    "We have now assigned each of our inputs to variables. Notice how each variable starts with the word \"self\". This allows each variable to be assigned to its corresponding object. For example if we created Derek and set his age to 22, then this information would be stored in the variable Derek.age. Angela.age would contain Angela's age and so on.\n",
    "\n",
    "Note: Choosing the word \"self\" is not mandatory, but it is convention and improves code readibility.\n",
    "\n",
    "Now turn your attention to our final variable \"self.friends\". Notice how this variable does not derive its value from a parameter. Rather it is ALWAYS set to equal []. This is similar to a default parameter in that we the programmer can set its initial value, but unlike a default parameter, its value cannot be overriden."
   ]
  },
  {
   "cell_type": "markdown",
   "id": "5c78a607",
   "metadata": {},
   "source": [
    "So far we have defined what we call instance attributes. These are attributes whose values are unique to each instance of a class. For example, Derek is 22, but Angela might be 23. Derek and Angela are still both instances of the class Person, but their ages are different. This is not to say that their ages must be different, simply that they can be. An important consequence of this fact is that changing the value of instance variable does not change all instances of that variable. For example, if Angela turns 24 on January 1st, Derek's age does not also change (unless his birthday is also January 1st, of course)."
   ]
  },
  {
   "cell_type": "markdown",
   "id": "3a17d3bc",
   "metadata": {},
   "source": [
    "If we instead want to define an attribute that is the same across all instances of a class, we can define what we call a class attribute. These attributes are defined directly below the class header."
   ]
  },
  {
   "cell_type": "code",
   "execution_count": 9,
   "id": "2ac13a6e",
   "metadata": {},
   "outputs": [],
   "source": [
    "class Person:\n",
    "    species = \"Homo sapien\"\n",
    "    accelerationDueToGravity = 9.81\n",
    "    \n",
    "    def __init__(self, name, age, height, weight, sex, likesSports, salary, profession=\"Student\"):\n",
    "        self.name = name\n",
    "        self.age = age\n",
    "        self.height = height\n",
    "        self.weight = weight\n",
    "        self.sex = sex\n",
    "        self.likesSports = True\n",
    "        self.profession = profession\n",
    "        self.salary = salary\n",
    "        if age >= 22:\n",
    "            self.bankAccount = (age - 22) * salary * 0.25\n",
    "        else:\n",
    "            self.bankAccount = 500\n",
    "        self.friends = []"
   ]
  },
  {
   "cell_type": "markdown",
   "id": "66b1c4a0",
   "metadata": {},
   "source": [
    "The above code reveals an important aspect of class attributes: they can save quite a bit of memory. See we've defined the acceleration due to gravity for each of our people as 9.81, but this does not have to be true for all of our people. For example, the acceleration due to gravity at the ISS is less than 9.81. So if we want our class to include instances where acceleration due to gravity is not 9.81, we would need to define this attribute as an instance attribute and define its valuable for each instance of the class. But, if we were to assume that every person in our class is on Earth, we could set this is as a class attribute just once, saving us time and memory."
   ]
  },
  {
   "cell_type": "markdown",
   "id": "619317fc",
   "metadata": {},
   "source": [
    "###### Defining more methods"
   ]
  },
  {
   "cell_type": "markdown",
   "id": "a566c0a6",
   "metadata": {},
   "source": [
    "Now that we have defined our \\__init\\__ method, we can move onto defining the other methods for our class. Let's define a method called getPromotion."
   ]
  },
  {
   "cell_type": "code",
   "execution_count": null,
   "id": "91821d25",
   "metadata": {},
   "outputs": [],
   "source": [
    "    def getPromotion(self):\n",
    "        self.profession = \"Senior \" + self.profession\n",
    "        self.salary += 10000"
   ]
  },
  {
   "cell_type": "markdown",
   "id": "8895e188",
   "metadata": {},
   "source": [
    "Pretty simple right? We simply define the method and the parameters it takes and then, within the method, define the actions that invoking the method would cause. Let's try it again, but this time let's create a getFired method."
   ]
  },
  {
   "cell_type": "code",
   "execution_count": null,
   "id": "3572e6fd",
   "metadata": {},
   "outputs": [],
   "source": [
    "    def getFired(self, onGoodTerms):\n",
    "        self.profession = \"Unemployed\"\n",
    "        if onGoodTerms:\n",
    "            self.bankAccount += self.salary * (2/12)\n",
    "        self.salary = 0"
   ]
  },
  {
   "cell_type": "markdown",
   "id": "a9b8d937",
   "metadata": {},
   "source": [
    "Now here, our method takes in another parameter other than \"self\". This is because our method requires us to note whether or not our individual was fired on good (perhaps they were let go due to a company's poor finances) or on bad terms. This parameter determines whether or not is paid severance, which we can see by the if-statement within the method."
   ]
  },
  {
   "cell_type": "markdown",
   "id": "f793f6ac",
   "metadata": {},
   "source": [
    "Before we finish we have just a few more methods we must be aware of. These are known as dunder methods and they have a few special purposes. Here's an example of the \\__str\\__ method. To see what the method does, let's first create a Person object and then try to print it to the console. To create an object of a class we simply do the following."
   ]
  },
  {
   "cell_type": "code",
   "execution_count": 16,
   "id": "7437f501",
   "metadata": {},
   "outputs": [],
   "source": [
    "Derek = Person(\"Derek\", 22, 68, 165, \"M\", True, 8500)"
   ]
  },
  {
   "cell_type": "markdown",
   "id": "d37fe16a",
   "metadata": {},
   "source": [
    "Here we've created a Person object that is a 22 (year) old male clocking in at a towering 68 (inches) and 165 (pounds). This Person object is a student (since we didn't enter a value for the profession parameter, it takes on the default value we set for it), likes sports, and earns 8500 (dollars per year). Beyond creating this object, we've also assigned it to the variable Derek."
   ]
  },
  {
   "cell_type": "markdown",
   "id": "33c79694",
   "metadata": {},
   "source": [
    "Now let's print the object to the console:"
   ]
  },
  {
   "cell_type": "code",
   "execution_count": 11,
   "id": "aaccdbc5",
   "metadata": {},
   "outputs": [
    {
     "name": "stdout",
     "output_type": "stream",
     "text": [
      "<__main__.Person object at 0x0000026D0DA104C0>\n"
     ]
    }
   ],
   "source": [
    "print(Derek)"
   ]
  },
  {
   "cell_type": "markdown",
   "id": "cc2cd499",
   "metadata": {},
   "source": [
    "Well that's (probably) not terribly helpful. Printing the object just tells us what class the object belongs to and its memory location. What if we wanted to see a description of the object instead? Well, we can if we simply define the \\__str\\__ method for the Person class. This dunder method allows us to create our own unique return statement that will be printed out when an object  is printed. Let's define one here:"
   ]
  },
  {
   "cell_type": "code",
   "execution_count": 12,
   "id": "3dd4a3b3",
   "metadata": {},
   "outputs": [],
   "source": [
    "    def __str__(self):\n",
    "        return f\"{self.name} is a {self.age} year old individual that makes {self.salary} dollars per year and has {self.bankAccount} dollars in their bank ac \""
   ]
  },
  {
   "cell_type": "markdown",
   "id": "9e4aa79a",
   "metadata": {},
   "source": [
    "So now are class looks like this:"
   ]
  },
  {
   "cell_type": "code",
   "execution_count": 15,
   "id": "dd405f76",
   "metadata": {},
   "outputs": [],
   "source": [
    "class Person:\n",
    "    species = \"Homo sapien\"\n",
    "    accelerationDueToGravity = 9.81\n",
    "    \n",
    "    def __init__(self, name, age, height, weight, sex, likesSports, salary, profession=\"Student\"):\n",
    "        self.name = name\n",
    "        self.age = age\n",
    "        self.height = height\n",
    "        self.weight = weight\n",
    "        self.sex = sex\n",
    "        self.likesSports = True\n",
    "        self.profession = profession\n",
    "        self.salary = salary\n",
    "        if age >= 22:\n",
    "            self.bankAccount = (age - 22) * salary * 0.25\n",
    "        else:\n",
    "            self.bankAccount = 500\n",
    "        self.friends = []\n",
    "    \n",
    "    def getPromotion(self):\n",
    "        self.profession = \"Senior \" + self.profession\n",
    "        self.salary += 10000\n",
    "        \n",
    "    def getFired(self, onGoodTerms):\n",
    "        self.profession = \"Unemployed\"\n",
    "        if onGoodTerms:\n",
    "            self.bankAccount += self.salary * (2/12)\n",
    "        self.salary = 0\n",
    "    \n",
    "    def __str__(self):\n",
    "        return f\"{self.name} is a {self.age} year old individual that makes {self.salary} dollars per year and has {self.bankAccount} dollars in their bank account.\""
   ]
  },
  {
   "cell_type": "markdown",
   "id": "03778362",
   "metadata": {},
   "source": [
    "And now let's try to print our object again."
   ]
  },
  {
   "cell_type": "code",
   "execution_count": 18,
   "id": "0b06b97b",
   "metadata": {},
   "outputs": [
    {
     "name": "stdout",
     "output_type": "stream",
     "text": [
      "Derek is a 22 year old individual that makes 8500 dollars per year and has 0.0 dollars in their bank account.\n"
     ]
    }
   ],
   "source": [
    "Derek = Person(\"Derek\", 22, 68, 165, \"M\", True, 8500)\n",
    "print(Derek) "
   ]
  },
  {
   "cell_type": "markdown",
   "id": "ed4e11ee",
   "metadata": {},
   "source": [
    "There, that's better. Now let's try to invoke some other methods too. First let's define another Person object for us to use."
   ]
  },
  {
   "cell_type": "code",
   "execution_count": 19,
   "id": "7bb4daa4",
   "metadata": {},
   "outputs": [],
   "source": [
    "Angela = Person(\"Angela\", 23, 63, 135, \"F\", True, 85000, \"Junior Software Engineer\")"
   ]
  },
  {
   "cell_type": "markdown",
   "id": "d4b8ce7a",
   "metadata": {},
   "source": [
    "Okay, cool. Now let's have fun. Let's say that Angela's been doing really well at her job. Let's use the getPromotion method on her. Invoking methods in Python is pretty simple:"
   ]
  },
  {
   "cell_type": "code",
   "execution_count": 20,
   "id": "ea98eb39",
   "metadata": {},
   "outputs": [],
   "source": [
    "Angela.getPromotion()"
   ]
  },
  {
   "cell_type": "markdown",
   "id": "61fc5fdf",
   "metadata": {},
   "source": [
    "Now if we check Angela's attributes, we should see that her job title and salary have changed."
   ]
  },
  {
   "cell_type": "code",
   "execution_count": 21,
   "id": "d216c990",
   "metadata": {},
   "outputs": [
    {
     "name": "stdout",
     "output_type": "stream",
     "text": [
      "Angela is a 23 year old individual that makes 95000 dollars per year and has 21250.0 dollars in their bank account.\n"
     ]
    }
   ],
   "source": [
    "print(Angela)"
   ]
  },
  {
   "cell_type": "markdown",
   "id": "24a6ed01",
   "metadata": {},
   "source": [
    "And indeed they have."
   ]
  },
  {
   "cell_type": "markdown",
   "id": "961b9661",
   "metadata": {},
   "source": [
    "Now let's check the equality of our objects. Let's create a third Person object with the same attributes as Angela."
   ]
  },
  {
   "cell_type": "code",
   "execution_count": 22,
   "id": "8136ae7c",
   "metadata": {},
   "outputs": [],
   "source": [
    "Adria = Person(\"Adria\", 23, 63, 135, \"F\", True, 95000, \"Senior Junior Software Engineer\")"
   ]
  },
  {
   "cell_type": "markdown",
   "id": "6b1f1a1e",
   "metadata": {},
   "source": [
    "Are Adria and Angela equal? After all, all of their attributes are identical."
   ]
  },
  {
   "cell_type": "code",
   "execution_count": 24,
   "id": "9e9ab496",
   "metadata": {},
   "outputs": [
    {
     "name": "stdout",
     "output_type": "stream",
     "text": [
      "False\n"
     ]
    }
   ],
   "source": [
    "print(Adria == Angela)"
   ]
  },
  {
   "cell_type": "markdown",
   "id": "efbd615b",
   "metadata": {},
   "source": [
    "No, they aren't. Why is that? Well, by default, the equality operator checks if two objects point to the same memory location. Since Adria and Angela are distinct objects, they have different memory locations and they are determined to be unequal."
   ]
  },
  {
   "cell_type": "markdown",
   "id": "b6858799",
   "metadata": {},
   "source": [
    "But what if we want them to be equal? We can again use a dunder method to accomplish that."
   ]
  },
  {
   "cell_type": "markdown",
   "id": "1c0bc550",
   "metadata": {},
   "source": [
    "Let's define two Person objects as equal if they have the same salary. To do that we define our \\__eq\\__ dunder method as follows."
   ]
  },
  {
   "cell_type": "code",
   "execution_count": 25,
   "id": "4303a6b0",
   "metadata": {},
   "outputs": [],
   "source": [
    "def __eq__(self, otherPerson):\n",
    "        return self.salary == otherPerson.salary"
   ]
  },
  {
   "cell_type": "markdown",
   "id": "c4f63e7c",
   "metadata": {},
   "source": [
    "Now let's again check if Adria and Angela are equal with our class and objects now looking like this:"
   ]
  },
  {
   "cell_type": "code",
   "execution_count": 27,
   "id": "9d225f2a",
   "metadata": {},
   "outputs": [],
   "source": [
    "class Person:\n",
    "    species = \"Homo sapien\"\n",
    "    accelerationDueToGravity = 9.81\n",
    "    \n",
    "    def __init__(self, name, age, height, weight, sex, likesSports, salary, profession=\"Student\"):\n",
    "        self.name = name\n",
    "        self.age = age\n",
    "        self.height = height\n",
    "        self.weight = weight\n",
    "        self.sex = sex\n",
    "        self.likesSports = True\n",
    "        self.profession = profession\n",
    "        self.salary = salary\n",
    "        if age >= 22:\n",
    "            self.bankAccount = (age - 22) * salary * 0.25\n",
    "        else:\n",
    "            self.bankAccount = 500\n",
    "        self.friends = []\n",
    "    \n",
    "    def getPromotion(self):\n",
    "        self.profession = \"Senior \" + self.profession\n",
    "        self.salary += 10000\n",
    "        \n",
    "    def getFired(self, onGoodTerms):\n",
    "        self.profession = \"Unemployed\"\n",
    "        if onGoodTerms:\n",
    "            self.bankAccount += self.salary * (2/12)\n",
    "        self.salary = 0\n",
    "    \n",
    "    def __str__(self):\n",
    "        return f\"{self.name} is a {self.age} year old individual that makes {self.salary} dollars per year and has {self.bankAccount} dollars in their bank account.\"\n",
    "    \n",
    "    def __eq__(self, otherPerson):\n",
    "        return self.salary == otherPerson.salary"
   ]
  },
  {
   "cell_type": "code",
   "execution_count": 30,
   "id": "b8315879",
   "metadata": {},
   "outputs": [],
   "source": [
    "Derek = Person(\"Derek\", 22, 68, 165, \"M\", True, 8500)\n",
    "Angela = Person(\"Angela\", 23, 63, 135, \"F\", True, 95000, \"Senior Junior Software Engineer\")\n",
    "Adria = Person(\"Adria\", 23, 63, 135, \"F\", True, 95000, \"Senior Junior Software Engineer\")"
   ]
  },
  {
   "cell_type": "code",
   "execution_count": 31,
   "id": "fb4473bf",
   "metadata": {},
   "outputs": [
    {
     "name": "stdout",
     "output_type": "stream",
     "text": [
      "True\n"
     ]
    }
   ],
   "source": [
    "print(Adria == Angela) "
   ]
  },
  {
   "cell_type": "markdown",
   "id": "82896312",
   "metadata": {},
   "source": [
    "And now they are since Adria and Angela have the same salary. And if Adria receives a promotion of her own and sees her salary go up, Adria and Angela will no longer be equal."
   ]
  },
  {
   "cell_type": "code",
   "execution_count": 32,
   "id": "34fc4f25",
   "metadata": {},
   "outputs": [
    {
     "name": "stdout",
     "output_type": "stream",
     "text": [
      "False\n"
     ]
    }
   ],
   "source": [
    "Adria.getPromotion() \n",
    "print(Adria == Angela)"
   ]
  },
  {
   "cell_type": "markdown",
   "id": "e56209d5",
   "metadata": {},
   "source": [
    "##### In Summary"
   ]
  },
  {
   "cell_type": "markdown",
   "id": "059c3587",
   "metadata": {},
   "source": [
    "It's pretty easy to see the potential that object-oriented programming has and its efficiency as problems and data types get more and more complex. OOP allows us to break down problems to tiny chunks, giving us the ability to efficiently solve problems that can't be solved efficiently with Python's primitive data types (integers, floats, strings, and booleans) or built-in compound data types (lists, dictionaries, and tuple)."
   ]
  }
 ],
 "metadata": {
  "kernelspec": {
   "display_name": "Python 3 (ipykernel)",
   "language": "python",
   "name": "python3"
  },
  "language_info": {
   "codemirror_mode": {
    "name": "ipython",
    "version": 3
   },
   "file_extension": ".py",
   "mimetype": "text/x-python",
   "name": "python",
   "nbconvert_exporter": "python",
   "pygments_lexer": "ipython3",
   "version": "3.10.6"
  }
 },
 "nbformat": 4,
 "nbformat_minor": 5
}
