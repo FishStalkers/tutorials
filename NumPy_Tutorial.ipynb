{
  "nbformat": 4,
  "nbformat_minor": 0,
  "metadata": {
    "colab": {
      "provenance": []
    },
    "kernelspec": {
      "name": "python3",
      "display_name": "Python 3"
    },
    "language_info": {
      "name": "python"
    }
  },
  "cells": [
    {
      "cell_type": "markdown",
      "source": [
        "Hi, welcome to our tutorial for NumPy. First, let's discuss what NumPy is. NumPy is a Python library that consists of multidimensional array objects and variations thereof along with hundreds of potential math functions for use. The package is one of the most useful for scientific computing and its versatility and power make it a common tool used by scientists of many disciplines. "
      ],
      "metadata": {
        "id": "c4Wr5E75oqho"
      }
    },
    {
      "cell_type": "markdown",
      "source": [
        "What makes NumPy so special is that it's optimized for math, both syntactically for the user and operationally for the computer. Syntactically, you can multiply arrays with each other using syntax very similar to mathematical notation. However, in Python lists, you must iterate through two lists and multiply each individual element together. Within a computer, NumPy consists of fixed type arrays, which consume less memory compared to regular Python lists and only hold data of one type. In contrast, Python lists contain object values, types, and reference counts, all of which are stored in individual bytes. Not only does this allow the computer to cut down on memory usage, but because NumPy arrays are of the same type, there is no need for the type checking used in Python lists, which cuts down on performance cost. Another performance optimization NumPy uses is that all array values within the same array are stored contiguously in memory, instead of using references to various memory locations like the typical Python list. (Include SIMD Vector processing and effective cache utilization? )"
      ],
      "metadata": {
        "id": "g5gAZNjGhb-M"
      }
    },
    {
      "cell_type": "markdown",
      "source": [
        "Let's dig a little deeper into what more NumPy can offer compared to typical Python lists. First, we can compare the common operations. Both NumPy and Python lists allow for insertion and deletion at a specific index and appendication and concatenation at the end of the data structure. However, NumPy's powerful capabilities extend beyond this. NumPy allows for array multiplication (easily), plotting, and even for use as a potential backend in simple applications. Lastly, NumPy's computational capabilities are crucial in developing machine learning programs. "
      ],
      "metadata": {
        "id": "CVmHdlzLjaQ_"
      }
    },
    {
      "cell_type": "markdown",
      "source": [
        "With all these distinctions in mind and a clear understanding of **why** NumPy is important, let's get into the installation. The code below will install NumPy and load our dataset. "
      ],
      "metadata": {
        "id": "DwvuZvfIknBQ"
      }
    },
    {
      "cell_type": "code",
      "execution_count": 1,
      "metadata": {
        "id": "tgJ1xxNMonLc"
      },
      "outputs": [],
      "source": [
        "import numpy as np\n",
        "from sklearn import datasets\n",
        "iris = datasets.load_iris()"
      ]
    },
    {
      "cell_type": "markdown",
      "source": [
        "Great! (note about pip install?) So now we have imported NumPy as well as a dataset to use for our examples. Let's go ahead and learn some basic syntax about NumPy arrays and their various properties."
      ],
      "metadata": {
        "id": "G4xvivR3lkmf"
      }
    },
    {
      "cell_type": "code",
      "source": [
        "#instantiate an array of integers\n",
        "arr = np.array([0,1,2,3,4], dtype='int32')\n",
        "print(arr)"
      ],
      "metadata": {
        "colab": {
          "base_uri": "https://localhost:8080/"
        },
        "id": "Y17V2Dq-l6-6",
        "outputId": "3fedcf54-9e65-4385-d5d4-bc1448dfe45c"
      },
      "execution_count": 44,
      "outputs": [
        {
          "output_type": "stream",
          "name": "stdout",
          "text": [
            "[0 1 2 3 4]\n"
          ]
        }
      ]
    },
    {
      "cell_type": "markdown",
      "source": [
        "Our first instantiated array! The beauty of NumPy is that we don't have to stick to 1d arrays. We can create 2d and 3d arrays too. "
      ],
      "metadata": {
        "id": "-aDRScXXm2rK"
      }
    },
    {
      "cell_type": "code",
      "source": [
        "arr1 = np.array([[0,1,2, 3],[1,2,3,4]])\n",
        "print(arr1)"
      ],
      "metadata": {
        "colab": {
          "base_uri": "https://localhost:8080/"
        },
        "id": "4IGYs0oBm110",
        "outputId": "da309ce3-d8d7-4281-9bdc-4c4286e844dc"
      },
      "execution_count": 45,
      "outputs": [
        {
          "output_type": "stream",
          "name": "stdout",
          "text": [
            "[[0 1 2 3]\n",
            " [1 2 3 4]]\n"
          ]
        }
      ]
    },
    {
      "cell_type": "code",
      "source": [
        "arr2 = np.array([[[2,17], [45, 78]], [[88, 92], [60, 76]],[[76,33],[20,18]]])\n",
        "print(arr2)"
      ],
      "metadata": {
        "colab": {
          "base_uri": "https://localhost:8080/"
        },
        "id": "JIxv5Tq9p35O",
        "outputId": "43a3d5b8-e935-495b-d1ea-532f05a180f1"
      },
      "execution_count": 46,
      "outputs": [
        {
          "output_type": "stream",
          "name": "stdout",
          "text": [
            "[[[ 2 17]\n",
            "  [45 78]]\n",
            "\n",
            " [[88 92]\n",
            "  [60 76]]\n",
            "\n",
            " [[76 33]\n",
            "  [20 18]]]\n"
          ]
        }
      ]
    },
    {
      "cell_type": "markdown",
      "source": [
        "From these, we can obtain information about different properties of our instantiated arrays."
      ],
      "metadata": {
        "id": "6RyTEw1mqXBx"
      }
    },
    {
      "cell_type": "code",
      "source": [
        "#Dimension (number of dimensions the array is in)\n",
        "\n",
        "print(arr1.ndim)\n",
        "\n",
        "#Shape (Number of rows, columns, etc)\n",
        "\n",
        "print(arr2.shape)\n",
        "\n",
        "#Type (data type)\n",
        "\n",
        "print(arr1.dtype)\n",
        "\n",
        "#Size\n",
        "\n",
        "print(arr2.size)\n",
        "\n",
        "#Total bytes used within array\n",
        "\n",
        "print(arr1.nbytes)"
      ],
      "metadata": {
        "colab": {
          "base_uri": "https://localhost:8080/"
        },
        "id": "NsvaWbA1qf-Z",
        "outputId": "0d298441-dd05-4815-e4ce-d13867ca0573"
      },
      "execution_count": 47,
      "outputs": [
        {
          "output_type": "stream",
          "name": "stdout",
          "text": [
            "2\n",
            "(3, 2, 2)\n",
            "int64\n",
            "12\n",
            "64\n"
          ]
        }
      ]
    },
    {
      "cell_type": "markdown",
      "source": [
        "We can also instantiate certain matrices of mathematical significance. Let's instantiate a 0s matrix, a 1s matrix, and a matrix with random values."
      ],
      "metadata": {
        "id": "ksr810Slx4Ef"
      }
    },
    {
      "cell_type": "code",
      "source": [
        "np.zeros((2,2))\n"
      ],
      "metadata": {
        "colab": {
          "base_uri": "https://localhost:8080/"
        },
        "id": "DtzFSQUm0b1y",
        "outputId": "033f992c-e64a-47c3-b43c-346e2b27e4c0"
      },
      "execution_count": 48,
      "outputs": [
        {
          "output_type": "execute_result",
          "data": {
            "text/plain": [
              "array([[0., 0.],\n",
              "       [0., 0.]])"
            ]
          },
          "metadata": {},
          "execution_count": 48
        }
      ]
    },
    {
      "cell_type": "code",
      "source": [
        "np.ones((2,3,2))"
      ],
      "metadata": {
        "colab": {
          "base_uri": "https://localhost:8080/"
        },
        "id": "KU04MlAg032Z",
        "outputId": "4e18f567-e305-4370-fd17-6edae964c83d"
      },
      "execution_count": 49,
      "outputs": [
        {
          "output_type": "execute_result",
          "data": {
            "text/plain": [
              "array([[[1., 1.],\n",
              "        [1., 1.],\n",
              "        [1., 1.]],\n",
              "\n",
              "       [[1., 1.],\n",
              "        [1., 1.],\n",
              "        [1., 1.]]])"
            ]
          },
          "metadata": {},
          "execution_count": 49
        }
      ]
    },
    {
      "cell_type": "code",
      "source": [
        "np.full((2,3), 2)"
      ],
      "metadata": {
        "colab": {
          "base_uri": "https://localhost:8080/"
        },
        "id": "pvZxrMaR1rDV",
        "outputId": "b9547590-05af-4faf-e53f-3513c93cdf7b"
      },
      "execution_count": 50,
      "outputs": [
        {
          "output_type": "execute_result",
          "data": {
            "text/plain": [
              "array([[2, 2, 2],\n",
              "       [2, 2, 2]])"
            ]
          },
          "metadata": {},
          "execution_count": 50
        }
      ]
    },
    {
      "cell_type": "code",
      "source": [
        "np.identity(3)"
      ],
      "metadata": {
        "colab": {
          "base_uri": "https://localhost:8080/"
        },
        "id": "ej4B9Gi91061",
        "outputId": "9ff65ec6-4b51-4a20-8e07-65f099cb9ad7"
      },
      "execution_count": 51,
      "outputs": [
        {
          "output_type": "execute_result",
          "data": {
            "text/plain": [
              "array([[1., 0., 0.],\n",
              "       [0., 1., 0.],\n",
              "       [0., 0., 1.]])"
            ]
          },
          "metadata": {},
          "execution_count": 51
        }
      ]
    },
    {
      "cell_type": "markdown",
      "source": [
        "Knowing what we know now about creating arrays and displaying array properties, let's take a preliminary look at our Iris dataset. "
      ],
      "metadata": {
        "id": "4Jd1t2dLr8YA"
      }
    },
    {
      "cell_type": "code",
      "source": [
        "print(iris.data.ndim)\n",
        "print(iris.data.shape)\n",
        "print(iris.data.size)\n",
        "print(iris.DESCR)\n"
      ],
      "metadata": {
        "colab": {
          "base_uri": "https://localhost:8080/"
        },
        "id": "Brwz8h1tr8-m",
        "outputId": "d8960e1d-59cf-47ac-d1ad-c213a7940c38"
      },
      "execution_count": 52,
      "outputs": [
        {
          "output_type": "stream",
          "name": "stdout",
          "text": [
            "2\n",
            "(150, 4)\n",
            "600\n",
            ".. _iris_dataset:\n",
            "\n",
            "Iris plants dataset\n",
            "--------------------\n",
            "\n",
            "**Data Set Characteristics:**\n",
            "\n",
            "    :Number of Instances: 150 (50 in each of three classes)\n",
            "    :Number of Attributes: 4 numeric, predictive attributes and the class\n",
            "    :Attribute Information:\n",
            "        - sepal length in cm\n",
            "        - sepal width in cm\n",
            "        - petal length in cm\n",
            "        - petal width in cm\n",
            "        - class:\n",
            "                - Iris-Setosa\n",
            "                - Iris-Versicolour\n",
            "                - Iris-Virginica\n",
            "                \n",
            "    :Summary Statistics:\n",
            "\n",
            "    ============== ==== ==== ======= ===== ====================\n",
            "                    Min  Max   Mean    SD   Class Correlation\n",
            "    ============== ==== ==== ======= ===== ====================\n",
            "    sepal length:   4.3  7.9   5.84   0.83    0.7826\n",
            "    sepal width:    2.0  4.4   3.05   0.43   -0.4194\n",
            "    petal length:   1.0  6.9   3.76   1.76    0.9490  (high!)\n",
            "    petal width:    0.1  2.5   1.20   0.76    0.9565  (high!)\n",
            "    ============== ==== ==== ======= ===== ====================\n",
            "\n",
            "    :Missing Attribute Values: None\n",
            "    :Class Distribution: 33.3% for each of 3 classes.\n",
            "    :Creator: R.A. Fisher\n",
            "    :Donor: Michael Marshall (MARSHALL%PLU@io.arc.nasa.gov)\n",
            "    :Date: July, 1988\n",
            "\n",
            "The famous Iris database, first used by Sir R.A. Fisher. The dataset is taken\n",
            "from Fisher's paper. Note that it's the same as in R, but not as in the UCI\n",
            "Machine Learning Repository, which has two wrong data points.\n",
            "\n",
            "This is perhaps the best known database to be found in the\n",
            "pattern recognition literature.  Fisher's paper is a classic in the field and\n",
            "is referenced frequently to this day.  (See Duda & Hart, for example.)  The\n",
            "data set contains 3 classes of 50 instances each, where each class refers to a\n",
            "type of iris plant.  One class is linearly separable from the other 2; the\n",
            "latter are NOT linearly separable from each other.\n",
            "\n",
            ".. topic:: References\n",
            "\n",
            "   - Fisher, R.A. \"The use of multiple measurements in taxonomic problems\"\n",
            "     Annual Eugenics, 7, Part II, 179-188 (1936); also in \"Contributions to\n",
            "     Mathematical Statistics\" (John Wiley, NY, 1950).\n",
            "   - Duda, R.O., & Hart, P.E. (1973) Pattern Classification and Scene Analysis.\n",
            "     (Q327.D83) John Wiley & Sons.  ISBN 0-471-22361-1.  See page 218.\n",
            "   - Dasarathy, B.V. (1980) \"Nosing Around the Neighborhood: A New System\n",
            "     Structure and Classification Rule for Recognition in Partially Exposed\n",
            "     Environments\".  IEEE Transactions on Pattern Analysis and Machine\n",
            "     Intelligence, Vol. PAMI-2, No. 1, 67-71.\n",
            "   - Gates, G.W. (1972) \"The Reduced Nearest Neighbor Rule\".  IEEE Transactions\n",
            "     on Information Theory, May 1972, 431-433.\n",
            "   - See also: 1988 MLC Proceedings, 54-64.  Cheeseman et al\"s AUTOCLASS II\n",
            "     conceptual clustering system finds 3 classes in the data.\n",
            "   - Many, many more ...\n"
          ]
        }
      ]
    },
    {
      "cell_type": "markdown",
      "source": [
        "Great! Now that we know how to look at basic properties, let's look at how to access information within our array. After all, thats what we want to do, right?"
      ],
      "metadata": {
        "id": "FutM6Rlfwdqc"
      }
    },
    {
      "cell_type": "code",
      "source": [
        "dset = iris.data\n",
        "#gets data at row 2 column 3 within the data set\n",
        "print(dset[2,3])\n",
        "#gets the 0th row\n",
        "print(dset[0,:])\n",
        "#gets the 4th column\n",
        "print(dset[:,3])\n",
        "#gets the dataset with just the first 2 rows and first 3 columns\n",
        "print(dset[0:2,0:3])\n"
      ],
      "metadata": {
        "colab": {
          "base_uri": "https://localhost:8080/"
        },
        "id": "_hY0fiRA2OwI",
        "outputId": "f7983975-b72f-4b31-9246-acc5858c49ea"
      },
      "execution_count": 53,
      "outputs": [
        {
          "output_type": "stream",
          "name": "stdout",
          "text": [
            "0.2\n",
            "[5.1 3.5 1.4 0.2]\n",
            "[0.2 0.2 0.2 0.2 0.2 0.4 0.3 0.2 0.2 0.1 0.2 0.2 0.1 0.1 0.2 0.4 0.4 0.3\n",
            " 0.3 0.3 0.2 0.4 0.2 0.5 0.2 0.2 0.4 0.2 0.2 0.2 0.2 0.4 0.1 0.2 0.2 0.2\n",
            " 0.2 0.1 0.2 0.2 0.3 0.3 0.2 0.6 0.4 0.3 0.2 0.2 0.2 0.2 1.4 1.5 1.5 1.3\n",
            " 1.5 1.3 1.6 1.  1.3 1.4 1.  1.5 1.  1.4 1.3 1.4 1.5 1.  1.5 1.1 1.8 1.3\n",
            " 1.5 1.2 1.3 1.4 1.4 1.7 1.5 1.  1.1 1.  1.2 1.6 1.5 1.6 1.5 1.3 1.3 1.3\n",
            " 1.2 1.4 1.2 1.  1.3 1.2 1.3 1.3 1.1 1.3 2.5 1.9 2.1 1.8 2.2 2.1 1.7 1.8\n",
            " 1.8 2.5 2.  1.9 2.1 2.  2.4 2.3 1.8 2.2 2.3 1.5 2.3 2.  2.  1.8 2.1 1.8\n",
            " 1.8 1.8 2.1 1.6 1.9 2.  2.2 1.5 1.4 2.3 2.4 1.8 1.8 2.1 2.4 2.3 1.9 2.3\n",
            " 2.5 2.3 1.9 2.  2.3 1.8]\n",
            "[[5.1 3.5 1.4]\n",
            " [4.9 3.  1.4]]\n"
          ]
        }
      ]
    }
  ]
}