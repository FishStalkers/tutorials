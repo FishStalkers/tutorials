{
  "cells": [
    {
      "cell_type": "markdown",
      "metadata": {
        "id": "view-in-github",
        "colab_type": "text"
      },
      "source": [
        "<a href=\"https://colab.research.google.com/github/FishStalkers/tutorials/blob/main/Pandas_v2.ipynb\" target=\"_parent\"><img src=\"https://colab.research.google.com/assets/colab-badge.svg\" alt=\"Open In Colab\"/></a>"
      ]
    },
    {
      "cell_type": "markdown",
      "source": [
        "#Welcome to the *Mathematics and Computer Science Symposium* workshop: **Introduction to Pandas** \n",
        "\n",
        "Authors: Eddy, Arushi, Breanna Shi\n",
        "\n",
        "### We will be going over topics that will help better your understanding of machine learning. We will be focusing on Pandas as they and their operations that are most applicable to ML. \n",
        "\n",
        "#### **For your continued education on pandas, we recommend the following resources:** \n",
        "1.) [Python Pandas Course](https://www.udemy.com/course/python-pandas-for-your-grandpa/?ranMID=39197&ranEAID=JVFxdTr9V80&ranSiteID=JVFxdTr9V80-9SBThd3hniNHdwMTHxmYcg&LSNPUBID=JVFxdTr9V80&utm_source=aff-campaign&utm_medium=udemyads)\n",
        "\n",
        "2.) [Core Python Pandas Course](https://www.udemy.com/course/learn-core-python-numpy-and-pandas/?ranMID=39197&ranEAID=CuIbQrBnhiw&ranSiteID=CuIbQrBnhiw-WDhbWDYjoG4cQhU8aHggbg&LSNPUBID=CuIbQrBnhiw&utm_source=aff-campaign&utm_medium=udemyads)\n",
        "\n",
        "3.) [w3 Resources Pandas tutorial](https://www.w3schools.com/python/pandas/default.asp)\n",
        "\n",
        "4.) [Coursera Course for Pandas](https://www.coursera.org/learn/data-analysis-python?irclickid=wejWUTVuSxyNUT-w-hR-gQcmUkATPqyG0zYwQs0&irgwc=1&utm_medium=partners&utm_source=impact&utm_campaign=3294490&utm_content=b2c)\n",
        "\n",
        "5.) [Online Pandas tutorial](https://www.educative.io/blog/python-pandas-tutorial?utm_campaign=brand_educative&utm_source=google&utm_medium=ppc&utm_content=performance_max&eid=5082902844932096&utm_term=&utm_campaign=%5BNew%5D+Performance+Max&utm_source=adwords&utm_medium=ppc&hsa_acc=5451446008&hsa_cam=18511913007&hsa_grp=&hsa_ad=&hsa_src=x&hsa_tgt=&hsa_kw=&hsa_mt=&hsa_net=adwords&hsa_ver=3&gclid=CjwKCAjwitShBhA6EiwAq3RqA8qxfWqUWUwdEu_sdsDAwh1sbIyM1njDs0Us6jjsRQKG2vQl4-8L_RoCC6kQAvD_BwE)"
      ],
      "metadata": {
        "id": "KV2sztm_YSV_"
      },
      "id": "KV2sztm_YSV_"
    },
    {
      "cell_type": "markdown",
      "id": "d367ab01",
      "metadata": {
        "id": "d367ab01"
      },
      "source": [
        "##**Section 1.1: Introduction and Installation**\n",
        "“Pandas” is a very popular library in python, mostly used when working with large datasets. It’s especially helpful when working with relational/labeled data as it makes it both easy and intuitive. It's also common to be working with both pandas and numpy as they contain useful functions that can be used on one another. \n",
        "\n",
        "## Installation\n",
        "The installation process is the same as numPy and if you have Anaconda installed, numPy and Pandas may have been auto-installed as well. To make sure you’re updated to the latest version or have them installed, simply run: \n"
      ]
    },
    {
      "cell_type": "code",
      "execution_count": null,
      "id": "b8f32f9c",
      "metadata": {
        "id": "b8f32f9c"
      },
      "outputs": [],
      "source": [
        "conda install numpy\n",
        "conda install pandas"
      ]
    },
    {
      "cell_type": "markdown",
      "id": "fcf1a8c2",
      "metadata": {
        "id": "fcf1a8c2"
      },
      "source": [
        "Similarly, you can use pip to by running: "
      ]
    },
    {
      "cell_type": "code",
      "execution_count": 1,
      "id": "4787c569",
      "metadata": {
        "colab": {
          "base_uri": "https://localhost:8080/",
          "height": 130
        },
        "id": "4787c569",
        "outputId": "42a38b0f-4519-4274-8033-162648813a0f"
      },
      "outputs": [
        {
          "output_type": "error",
          "ename": "SyntaxError",
          "evalue": "ignored",
          "traceback": [
            "\u001b[0;36m  File \u001b[0;32m\"<ipython-input-1-df5f5870d135>\"\u001b[0;36m, line \u001b[0;32m1\u001b[0m\n\u001b[0;31m    pip install numpy\u001b[0m\n\u001b[0m        ^\u001b[0m\n\u001b[0;31mSyntaxError\u001b[0m\u001b[0;31m:\u001b[0m invalid syntax\n"
          ]
        }
      ],
      "source": [
        "pip install numpy\n",
        "pip install pandas"
      ]
    },
    {
      "cell_type": "markdown",
      "id": "122edabf",
      "metadata": {
        "id": "122edabf"
      },
      "source": [
        "Once you've installed these libraries onto your system, you can access these libraries by adding these few lines of code (using np and pd to make future function calls much more simple)"
      ]
    },
    {
      "cell_type": "code",
      "execution_count": null,
      "id": "d52de165",
      "metadata": {
        "id": "d52de165"
      },
      "outputs": [],
      "source": [
        "import pandas as pd\n",
        "import numpy as np"
      ]
    },
    {
      "cell_type": "markdown",
      "id": "9543bc90",
      "metadata": {
        "id": "9543bc90"
      },
      "source": [
        "##**Section 1.2: Pandas - Series and Dataframes** \n",
        "\n",
        "Pandas Series are very similar to numpy ndarrays but they offer a little more practical usage, especially when it comes to working with labeled data. Series enable users to index data by customized labels. For example, an numPy array creates an array of inputted data that is indexed starting [0, 1, 2, ...]. Series are also indexed in the same way by default, [0, 1, 2, ...], but can be set to customized values such as \"age\" or \"height.\""
      ]
    },
    {
      "cell_type": "code",
      "execution_count": null,
      "id": "1eb553d4",
      "metadata": {
        "id": "1eb553d4",
        "outputId": "c42f440f-d082-4c62-ba7b-b5138a83fd72"
      },
      "outputs": [
        {
          "name": "stdout",
          "output_type": "stream",
          "text": [
            "[21 32 43]\n"
          ]
        }
      ],
      "source": [
        "exampleArray = np.array([21, 32, 43])\n",
        "print(exampleArray)"
      ]
    },
    {
      "cell_type": "code",
      "execution_count": null,
      "id": "d4cb15d1",
      "metadata": {
        "id": "d4cb15d1",
        "outputId": "e1f8c362-51a5-4d09-ca90-2e9da10bdeaf"
      },
      "outputs": [
        {
          "name": "stdout",
          "output_type": "stream",
          "text": [
            "0        soccer\n",
            "1    basketball\n",
            "2      baseball\n",
            "dtype: object\n"
          ]
        }
      ],
      "source": [
        "hobbies = np.array([\"soccer\",\"basketball\",\"baseball\"])\n",
        "series1 = pd.Series(hobbies)\n",
        "print(series1)"
      ]
    },
    {
      "cell_type": "code",
      "execution_count": null,
      "id": "9f715792",
      "metadata": {
        "scrolled": true,
        "id": "9f715792",
        "outputId": "e7ebbccb-a033-4f2c-c950-c07f405b12c6"
      },
      "outputs": [
        {
          "name": "stdout",
          "output_type": "stream",
          "text": [
            "Emma          soccer\n",
            "Swetha    basketball\n",
            "Serajh      baseball\n",
            "dtype: object\n"
          ]
        }
      ],
      "source": [
        "hobbies = np.array([\"soccer\",\"basketball\",\"baseball\"])\n",
        "series1 = pd.Series(hobbies,index=['Emma', 'Swetha', 'Serajh'])\n",
        "print(series1)"
      ]
    },
    {
      "cell_type": "markdown",
      "id": "880eb6ef",
      "metadata": {
        "id": "880eb6ef"
      },
      "source": [
        "Pandas Dataframes build off of these series and can display multiple columns where each column acts as a series. Each column must be of the same data type and each column must have the same number of elements (rows). This can be thought of just as a matrix.\n",
        "\n",
        "There are many different ways to fill dataframes, but for the purposes of this example, we’ll use lists of lists where each nested list is a row of data. Columns is a keyword that's passed in to create custom column names."
      ]
    },
    {
      "cell_type": "code",
      "execution_count": null,
      "id": "f5078682",
      "metadata": {
        "id": "f5078682",
        "outputId": "3386d5a7-a43f-46f3-e403-237862034a92"
      },
      "outputs": [
        {
          "name": "stdout",
          "output_type": "stream",
          "text": [
            "     name   feature  age\n",
            "0   Rohan  Handsome   18\n",
            "1  Daniel    Strong   19\n",
            "2   Aaron     Smart   18\n"
          ]
        }
      ],
      "source": [
        "dataf = pd.DataFrame([\n",
        "    ['Rohan','Handsome',18],\n",
        "    ['Daniel', 'Strong',19],\n",
        "    ['Aaron', 'Smart',18]\n",
        "    ],\n",
        "    columns=['name','feature','age'])\n",
        "\n",
        "print(dataf)"
      ]
    },
    {
      "cell_type": "markdown",
      "id": "bf20f518",
      "metadata": {
        "id": "bf20f518"
      },
      "source": [
        "###**Activity 1: Working with Datasets**\n",
        "To begin working with data, we must first load and read some structured file such as a csv file. CSV stands for “Comma-Separated Values” and it's a way to exchange structured information, like the contents of a spreadsheet, among programs that can't necessarily talk to one another directly.\n",
        "\n",
        "To read a csv file, we would execute the following line of code where we assign the data to the variable \"dataset\" and read some file \"file.csv\" stored somewhere on the user's desktop."
      ]
    },
    {
      "cell_type": "code",
      "execution_count": null,
      "id": "63927320",
      "metadata": {
        "scrolled": false,
        "id": "63927320"
      },
      "outputs": [],
      "source": [
        "dataset = pd.read_csv(\"Fish.csv\")"
      ]
    },
    {
      "cell_type": "code",
      "execution_count": null,
      "id": "c10e0183",
      "metadata": {
        "id": "c10e0183",
        "outputId": "9d175ad4-ca6e-4393-fd81-7e92e3aec1e7"
      },
      "outputs": [
        {
          "data": {
            "text/html": [
              "<div>\n",
              "<style scoped>\n",
              "    .dataframe tbody tr th:only-of-type {\n",
              "        vertical-align: middle;\n",
              "    }\n",
              "\n",
              "    .dataframe tbody tr th {\n",
              "        vertical-align: top;\n",
              "    }\n",
              "\n",
              "    .dataframe thead th {\n",
              "        text-align: right;\n",
              "    }\n",
              "</style>\n",
              "<table border=\"1\" class=\"dataframe\">\n",
              "  <thead>\n",
              "    <tr style=\"text-align: right;\">\n",
              "      <th></th>\n",
              "      <th>Species</th>\n",
              "      <th>Weight</th>\n",
              "      <th>Length1</th>\n",
              "      <th>Length2</th>\n",
              "      <th>Length3</th>\n",
              "      <th>Height</th>\n",
              "      <th>Width</th>\n",
              "    </tr>\n",
              "  </thead>\n",
              "  <tbody>\n",
              "    <tr>\n",
              "      <th>0</th>\n",
              "      <td>Bream</td>\n",
              "      <td>242.0</td>\n",
              "      <td>23.2</td>\n",
              "      <td>25.4</td>\n",
              "      <td>30.0</td>\n",
              "      <td>11.5200</td>\n",
              "      <td>4.0200</td>\n",
              "    </tr>\n",
              "    <tr>\n",
              "      <th>1</th>\n",
              "      <td>Bream</td>\n",
              "      <td>290.0</td>\n",
              "      <td>24.0</td>\n",
              "      <td>26.3</td>\n",
              "      <td>31.2</td>\n",
              "      <td>12.4800</td>\n",
              "      <td>4.3056</td>\n",
              "    </tr>\n",
              "    <tr>\n",
              "      <th>2</th>\n",
              "      <td>Bream</td>\n",
              "      <td>340.0</td>\n",
              "      <td>23.9</td>\n",
              "      <td>26.5</td>\n",
              "      <td>31.1</td>\n",
              "      <td>12.3778</td>\n",
              "      <td>4.6961</td>\n",
              "    </tr>\n",
              "    <tr>\n",
              "      <th>3</th>\n",
              "      <td>Bream</td>\n",
              "      <td>363.0</td>\n",
              "      <td>26.3</td>\n",
              "      <td>29.0</td>\n",
              "      <td>33.5</td>\n",
              "      <td>12.7300</td>\n",
              "      <td>4.4555</td>\n",
              "    </tr>\n",
              "    <tr>\n",
              "      <th>4</th>\n",
              "      <td>Bream</td>\n",
              "      <td>430.0</td>\n",
              "      <td>26.5</td>\n",
              "      <td>29.0</td>\n",
              "      <td>34.0</td>\n",
              "      <td>12.4440</td>\n",
              "      <td>5.1340</td>\n",
              "    </tr>\n",
              "    <tr>\n",
              "      <th>...</th>\n",
              "      <td>...</td>\n",
              "      <td>...</td>\n",
              "      <td>...</td>\n",
              "      <td>...</td>\n",
              "      <td>...</td>\n",
              "      <td>...</td>\n",
              "      <td>...</td>\n",
              "    </tr>\n",
              "    <tr>\n",
              "      <th>154</th>\n",
              "      <td>Smelt</td>\n",
              "      <td>12.2</td>\n",
              "      <td>11.5</td>\n",
              "      <td>12.2</td>\n",
              "      <td>13.4</td>\n",
              "      <td>2.0904</td>\n",
              "      <td>1.3936</td>\n",
              "    </tr>\n",
              "    <tr>\n",
              "      <th>155</th>\n",
              "      <td>Smelt</td>\n",
              "      <td>13.4</td>\n",
              "      <td>11.7</td>\n",
              "      <td>12.4</td>\n",
              "      <td>13.5</td>\n",
              "      <td>2.4300</td>\n",
              "      <td>1.2690</td>\n",
              "    </tr>\n",
              "    <tr>\n",
              "      <th>156</th>\n",
              "      <td>Smelt</td>\n",
              "      <td>12.2</td>\n",
              "      <td>12.1</td>\n",
              "      <td>13.0</td>\n",
              "      <td>13.8</td>\n",
              "      <td>2.2770</td>\n",
              "      <td>1.2558</td>\n",
              "    </tr>\n",
              "    <tr>\n",
              "      <th>157</th>\n",
              "      <td>Smelt</td>\n",
              "      <td>19.7</td>\n",
              "      <td>13.2</td>\n",
              "      <td>14.3</td>\n",
              "      <td>15.2</td>\n",
              "      <td>2.8728</td>\n",
              "      <td>2.0672</td>\n",
              "    </tr>\n",
              "    <tr>\n",
              "      <th>158</th>\n",
              "      <td>Smelt</td>\n",
              "      <td>19.9</td>\n",
              "      <td>13.8</td>\n",
              "      <td>15.0</td>\n",
              "      <td>16.2</td>\n",
              "      <td>2.9322</td>\n",
              "      <td>1.8792</td>\n",
              "    </tr>\n",
              "  </tbody>\n",
              "</table>\n",
              "<p>159 rows × 7 columns</p>\n",
              "</div>"
            ],
            "text/plain": [
              "    Species  Weight  Length1  Length2  Length3   Height   Width\n",
              "0     Bream   242.0     23.2     25.4     30.0  11.5200  4.0200\n",
              "1     Bream   290.0     24.0     26.3     31.2  12.4800  4.3056\n",
              "2     Bream   340.0     23.9     26.5     31.1  12.3778  4.6961\n",
              "3     Bream   363.0     26.3     29.0     33.5  12.7300  4.4555\n",
              "4     Bream   430.0     26.5     29.0     34.0  12.4440  5.1340\n",
              "..      ...     ...      ...      ...      ...      ...     ...\n",
              "154   Smelt    12.2     11.5     12.2     13.4   2.0904  1.3936\n",
              "155   Smelt    13.4     11.7     12.4     13.5   2.4300  1.2690\n",
              "156   Smelt    12.2     12.1     13.0     13.8   2.2770  1.2558\n",
              "157   Smelt    19.7     13.2     14.3     15.2   2.8728  2.0672\n",
              "158   Smelt    19.9     13.8     15.0     16.2   2.9322  1.8792\n",
              "\n",
              "[159 rows x 7 columns]"
            ]
          },
          "execution_count": 10,
          "metadata": {},
          "output_type": "execute_result"
        }
      ],
      "source": [
        "dataset"
      ]
    },
    {
      "cell_type": "markdown",
      "id": "011052ef",
      "metadata": {
        "id": "011052ef"
      },
      "source": [
        "**\n",
        "for formatting purposes\n",
        "**"
      ]
    },
    {
      "cell_type": "code",
      "execution_count": null,
      "id": "2ba34067",
      "metadata": {
        "scrolled": true,
        "id": "2ba34067",
        "outputId": "cf4a1908-f104-419f-ddcd-b35394325768"
      },
      "outputs": [
        {
          "data": {
            "text/html": [
              "<div>\n",
              "<style scoped>\n",
              "    .dataframe tbody tr th:only-of-type {\n",
              "        vertical-align: middle;\n",
              "    }\n",
              "\n",
              "    .dataframe tbody tr th {\n",
              "        vertical-align: top;\n",
              "    }\n",
              "\n",
              "    .dataframe thead th {\n",
              "        text-align: right;\n",
              "    }\n",
              "</style>\n",
              "<table border=\"1\" class=\"dataframe\">\n",
              "  <thead>\n",
              "    <tr style=\"text-align: right;\">\n",
              "      <th></th>\n",
              "      <th>Species</th>\n",
              "      <th>Weight</th>\n",
              "      <th>Length1</th>\n",
              "      <th>Length2</th>\n",
              "      <th>Length3</th>\n",
              "      <th>Height</th>\n",
              "      <th>Width</th>\n",
              "    </tr>\n",
              "  </thead>\n",
              "  <tbody>\n",
              "    <tr>\n",
              "      <th>0</th>\n",
              "      <td>Bream</td>\n",
              "      <td>242.0</td>\n",
              "      <td>23.2</td>\n",
              "      <td>25.4</td>\n",
              "      <td>30.0</td>\n",
              "      <td>11.5200</td>\n",
              "      <td>4.0200</td>\n",
              "    </tr>\n",
              "    <tr>\n",
              "      <th>1</th>\n",
              "      <td>Bream</td>\n",
              "      <td>290.0</td>\n",
              "      <td>24.0</td>\n",
              "      <td>26.3</td>\n",
              "      <td>31.2</td>\n",
              "      <td>12.4800</td>\n",
              "      <td>4.3056</td>\n",
              "    </tr>\n",
              "    <tr>\n",
              "      <th>2</th>\n",
              "      <td>Bream</td>\n",
              "      <td>340.0</td>\n",
              "      <td>23.9</td>\n",
              "      <td>26.5</td>\n",
              "      <td>31.1</td>\n",
              "      <td>12.3778</td>\n",
              "      <td>4.6961</td>\n",
              "    </tr>\n",
              "    <tr>\n",
              "      <th>3</th>\n",
              "      <td>Bream</td>\n",
              "      <td>363.0</td>\n",
              "      <td>26.3</td>\n",
              "      <td>29.0</td>\n",
              "      <td>33.5</td>\n",
              "      <td>12.7300</td>\n",
              "      <td>4.4555</td>\n",
              "    </tr>\n",
              "    <tr>\n",
              "      <th>4</th>\n",
              "      <td>Bream</td>\n",
              "      <td>430.0</td>\n",
              "      <td>26.5</td>\n",
              "      <td>29.0</td>\n",
              "      <td>34.0</td>\n",
              "      <td>12.4440</td>\n",
              "      <td>5.1340</td>\n",
              "    </tr>\n",
              "    <tr>\n",
              "      <th>5</th>\n",
              "      <td>Bream</td>\n",
              "      <td>450.0</td>\n",
              "      <td>26.8</td>\n",
              "      <td>29.7</td>\n",
              "      <td>34.7</td>\n",
              "      <td>13.6024</td>\n",
              "      <td>4.9274</td>\n",
              "    </tr>\n",
              "    <tr>\n",
              "      <th>6</th>\n",
              "      <td>Bream</td>\n",
              "      <td>500.0</td>\n",
              "      <td>26.8</td>\n",
              "      <td>29.7</td>\n",
              "      <td>34.5</td>\n",
              "      <td>14.1795</td>\n",
              "      <td>5.2785</td>\n",
              "    </tr>\n",
              "    <tr>\n",
              "      <th>7</th>\n",
              "      <td>Bream</td>\n",
              "      <td>390.0</td>\n",
              "      <td>27.6</td>\n",
              "      <td>30.0</td>\n",
              "      <td>35.0</td>\n",
              "      <td>12.6700</td>\n",
              "      <td>4.6900</td>\n",
              "    </tr>\n",
              "    <tr>\n",
              "      <th>8</th>\n",
              "      <td>Bream</td>\n",
              "      <td>450.0</td>\n",
              "      <td>27.6</td>\n",
              "      <td>30.0</td>\n",
              "      <td>35.1</td>\n",
              "      <td>14.0049</td>\n",
              "      <td>4.8438</td>\n",
              "    </tr>\n",
              "    <tr>\n",
              "      <th>9</th>\n",
              "      <td>Bream</td>\n",
              "      <td>500.0</td>\n",
              "      <td>28.5</td>\n",
              "      <td>30.7</td>\n",
              "      <td>36.2</td>\n",
              "      <td>14.2266</td>\n",
              "      <td>4.9594</td>\n",
              "    </tr>\n",
              "  </tbody>\n",
              "</table>\n",
              "</div>"
            ],
            "text/plain": [
              "  Species  Weight  Length1  Length2  Length3   Height   Width\n",
              "0   Bream   242.0     23.2     25.4     30.0  11.5200  4.0200\n",
              "1   Bream   290.0     24.0     26.3     31.2  12.4800  4.3056\n",
              "2   Bream   340.0     23.9     26.5     31.1  12.3778  4.6961\n",
              "3   Bream   363.0     26.3     29.0     33.5  12.7300  4.4555\n",
              "4   Bream   430.0     26.5     29.0     34.0  12.4440  5.1340\n",
              "5   Bream   450.0     26.8     29.7     34.7  13.6024  4.9274\n",
              "6   Bream   500.0     26.8     29.7     34.5  14.1795  5.2785\n",
              "7   Bream   390.0     27.6     30.0     35.0  12.6700  4.6900\n",
              "8   Bream   450.0     27.6     30.0     35.1  14.0049  4.8438\n",
              "9   Bream   500.0     28.5     30.7     36.2  14.2266  4.9594"
            ]
          },
          "execution_count": 11,
          "metadata": {},
          "output_type": "execute_result"
        }
      ],
      "source": [
        "dataset.head(10)"
      ]
    },
    {
      "cell_type": "code",
      "execution_count": null,
      "id": "9ea28aab",
      "metadata": {
        "id": "9ea28aab",
        "outputId": "41331f4f-6e25-4e24-e314-6a5273d8be08"
      },
      "outputs": [
        {
          "data": {
            "text/html": [
              "<div>\n",
              "<style scoped>\n",
              "    .dataframe tbody tr th:only-of-type {\n",
              "        vertical-align: middle;\n",
              "    }\n",
              "\n",
              "    .dataframe tbody tr th {\n",
              "        vertical-align: top;\n",
              "    }\n",
              "\n",
              "    .dataframe thead th {\n",
              "        text-align: right;\n",
              "    }\n",
              "</style>\n",
              "<table border=\"1\" class=\"dataframe\">\n",
              "  <thead>\n",
              "    <tr style=\"text-align: right;\">\n",
              "      <th></th>\n",
              "      <th>Species</th>\n",
              "      <th>Weight</th>\n",
              "      <th>Length1</th>\n",
              "      <th>Length2</th>\n",
              "      <th>Length3</th>\n",
              "      <th>Height</th>\n",
              "      <th>Width</th>\n",
              "    </tr>\n",
              "  </thead>\n",
              "  <tbody>\n",
              "    <tr>\n",
              "      <th>149</th>\n",
              "      <td>Smelt</td>\n",
              "      <td>9.8</td>\n",
              "      <td>10.7</td>\n",
              "      <td>11.2</td>\n",
              "      <td>12.4</td>\n",
              "      <td>2.0832</td>\n",
              "      <td>1.2772</td>\n",
              "    </tr>\n",
              "    <tr>\n",
              "      <th>150</th>\n",
              "      <td>Smelt</td>\n",
              "      <td>8.7</td>\n",
              "      <td>10.8</td>\n",
              "      <td>11.3</td>\n",
              "      <td>12.6</td>\n",
              "      <td>1.9782</td>\n",
              "      <td>1.2852</td>\n",
              "    </tr>\n",
              "    <tr>\n",
              "      <th>151</th>\n",
              "      <td>Smelt</td>\n",
              "      <td>10.0</td>\n",
              "      <td>11.3</td>\n",
              "      <td>11.8</td>\n",
              "      <td>13.1</td>\n",
              "      <td>2.2139</td>\n",
              "      <td>1.2838</td>\n",
              "    </tr>\n",
              "    <tr>\n",
              "      <th>152</th>\n",
              "      <td>Smelt</td>\n",
              "      <td>9.9</td>\n",
              "      <td>11.3</td>\n",
              "      <td>11.8</td>\n",
              "      <td>13.1</td>\n",
              "      <td>2.2139</td>\n",
              "      <td>1.1659</td>\n",
              "    </tr>\n",
              "    <tr>\n",
              "      <th>153</th>\n",
              "      <td>Smelt</td>\n",
              "      <td>9.8</td>\n",
              "      <td>11.4</td>\n",
              "      <td>12.0</td>\n",
              "      <td>13.2</td>\n",
              "      <td>2.2044</td>\n",
              "      <td>1.1484</td>\n",
              "    </tr>\n",
              "    <tr>\n",
              "      <th>154</th>\n",
              "      <td>Smelt</td>\n",
              "      <td>12.2</td>\n",
              "      <td>11.5</td>\n",
              "      <td>12.2</td>\n",
              "      <td>13.4</td>\n",
              "      <td>2.0904</td>\n",
              "      <td>1.3936</td>\n",
              "    </tr>\n",
              "    <tr>\n",
              "      <th>155</th>\n",
              "      <td>Smelt</td>\n",
              "      <td>13.4</td>\n",
              "      <td>11.7</td>\n",
              "      <td>12.4</td>\n",
              "      <td>13.5</td>\n",
              "      <td>2.4300</td>\n",
              "      <td>1.2690</td>\n",
              "    </tr>\n",
              "    <tr>\n",
              "      <th>156</th>\n",
              "      <td>Smelt</td>\n",
              "      <td>12.2</td>\n",
              "      <td>12.1</td>\n",
              "      <td>13.0</td>\n",
              "      <td>13.8</td>\n",
              "      <td>2.2770</td>\n",
              "      <td>1.2558</td>\n",
              "    </tr>\n",
              "    <tr>\n",
              "      <th>157</th>\n",
              "      <td>Smelt</td>\n",
              "      <td>19.7</td>\n",
              "      <td>13.2</td>\n",
              "      <td>14.3</td>\n",
              "      <td>15.2</td>\n",
              "      <td>2.8728</td>\n",
              "      <td>2.0672</td>\n",
              "    </tr>\n",
              "    <tr>\n",
              "      <th>158</th>\n",
              "      <td>Smelt</td>\n",
              "      <td>19.9</td>\n",
              "      <td>13.8</td>\n",
              "      <td>15.0</td>\n",
              "      <td>16.2</td>\n",
              "      <td>2.9322</td>\n",
              "      <td>1.8792</td>\n",
              "    </tr>\n",
              "  </tbody>\n",
              "</table>\n",
              "</div>"
            ],
            "text/plain": [
              "    Species  Weight  Length1  Length2  Length3  Height   Width\n",
              "149   Smelt     9.8     10.7     11.2     12.4  2.0832  1.2772\n",
              "150   Smelt     8.7     10.8     11.3     12.6  1.9782  1.2852\n",
              "151   Smelt    10.0     11.3     11.8     13.1  2.2139  1.2838\n",
              "152   Smelt     9.9     11.3     11.8     13.1  2.2139  1.1659\n",
              "153   Smelt     9.8     11.4     12.0     13.2  2.2044  1.1484\n",
              "154   Smelt    12.2     11.5     12.2     13.4  2.0904  1.3936\n",
              "155   Smelt    13.4     11.7     12.4     13.5  2.4300  1.2690\n",
              "156   Smelt    12.2     12.1     13.0     13.8  2.2770  1.2558\n",
              "157   Smelt    19.7     13.2     14.3     15.2  2.8728  2.0672\n",
              "158   Smelt    19.9     13.8     15.0     16.2  2.9322  1.8792"
            ]
          },
          "execution_count": 12,
          "metadata": {},
          "output_type": "execute_result"
        }
      ],
      "source": [
        "dataset.tail(10)"
      ]
    },
    {
      "cell_type": "code",
      "execution_count": null,
      "id": "9b83ae56",
      "metadata": {
        "id": "9b83ae56",
        "outputId": "342e4315-8c78-4af2-86d9-d74dd0e518e8"
      },
      "outputs": [
        {
          "data": {
            "text/plain": [
              "RangeIndex(start=0, stop=159, step=1)"
            ]
          },
          "execution_count": 13,
          "metadata": {},
          "output_type": "execute_result"
        }
      ],
      "source": [
        "dataset.index"
      ]
    },
    {
      "cell_type": "code",
      "execution_count": null,
      "id": "20afe134",
      "metadata": {
        "id": "20afe134",
        "outputId": "2361708f-012b-4a73-9708-a951b20b4256"
      },
      "outputs": [
        {
          "data": {
            "text/plain": [
              "Index(['Species', 'Weight', 'Length1', 'Length2', 'Length3', 'Height',\n",
              "       'Width'],\n",
              "      dtype='object')"
            ]
          },
          "execution_count": 14,
          "metadata": {},
          "output_type": "execute_result"
        }
      ],
      "source": [
        "dataset.columns"
      ]
    },
    {
      "cell_type": "markdown",
      "id": "35660db8",
      "metadata": {
        "id": "35660db8"
      },
      "source": [
        "#### Pandas has four accessors in total:\n",
        "\n",
        " - .loc[] accepts the labels of rows and columns and returns Series or DataFrames. You can use it to get entire rows or columns, as well as their parts.\n",
        "\n",
        " - .iloc[] accepts the zero-based indices of rows and columns and returns Series or DataFrames. You can use it to get entire rows or columns, or their parts.\n",
        "\n",
        " - .at[] accepts the labels of rows and columns and returns a single data value.\n",
        "\n",
        " - .iat[] accepts the zero-based indices of rows and columns and returns a single data value."
      ]
    },
    {
      "cell_type": "code",
      "execution_count": null,
      "id": "f8f5933a",
      "metadata": {
        "id": "f8f5933a",
        "outputId": "d27a2abe-4f22-483b-e749-d9ead8135ca4"
      },
      "outputs": [
        {
          "data": {
            "text/plain": [
              "242.0"
            ]
          },
          "execution_count": 15,
          "metadata": {},
          "output_type": "execute_result"
        }
      ],
      "source": [
        "dataset.loc[0, \"Weight\"]"
      ]
    },
    {
      "cell_type": "code",
      "execution_count": null,
      "id": "13afb754",
      "metadata": {
        "id": "13afb754",
        "outputId": "4e55d129-3eac-480c-8d49-0d0cc9220110"
      },
      "outputs": [
        {
          "data": {
            "text/plain": [
              "0      23.2\n",
              "1      24.0\n",
              "2      23.9\n",
              "3      26.3\n",
              "4      26.5\n",
              "       ... \n",
              "154    11.5\n",
              "155    11.7\n",
              "156    12.1\n",
              "157    13.2\n",
              "158    13.8\n",
              "Name: Length1, Length: 159, dtype: float64"
            ]
          },
          "execution_count": 16,
          "metadata": {},
          "output_type": "execute_result"
        }
      ],
      "source": [
        "dataset.loc[:, \"Length1\"]"
      ]
    },
    {
      "cell_type": "code",
      "execution_count": null,
      "id": "95e965fb",
      "metadata": {
        "id": "95e965fb",
        "outputId": "79abe026-e002-4cac-fe73-27157f04846b"
      },
      "outputs": [
        {
          "data": {
            "text/plain": [
              "30.7"
            ]
          },
          "execution_count": 17,
          "metadata": {},
          "output_type": "execute_result"
        }
      ],
      "source": [
        "#Same as accessing \"Length2\"\n",
        "dataset.iloc[9, 3]"
      ]
    },
    {
      "cell_type": "code",
      "execution_count": null,
      "id": "2c9feba5",
      "metadata": {
        "id": "2c9feba5",
        "outputId": "86d691e4-bf91-4463-871c-451054bc8b7a"
      },
      "outputs": [
        {
          "data": {
            "text/plain": [
              "Species    Bream\n",
              "Weight     242.0\n",
              "Length1     23.2\n",
              "Length2     25.4\n",
              "Length3     30.0\n",
              "Height     11.52\n",
              "Width       4.02\n",
              "Name: 0, dtype: object"
            ]
          },
          "execution_count": 18,
          "metadata": {},
          "output_type": "execute_result"
        }
      ],
      "source": [
        "#Looking at just the first row\n",
        "dataset.iloc[0, :]"
      ]
    },
    {
      "cell_type": "markdown",
      "id": "8671e76d",
      "metadata": {
        "id": "8671e76d"
      },
      "source": [
        "## **Section 1.3: Sums, Differences, and Averages**\n",
        "When working with data sets, it’s important to begin learning the basic functions and methods such as adding, subtracting, and averaging. To get the sum, use dataFrame.sum() to get the sum of a pandas dataframe for both rows and columns. By default, the axis property is set to axis=0 where sum() will take the column sum, but we can change that to axis=1 to get the row totals. Keep in mind that when taking the sum of each row, the elements must be of the same type."
      ]
    },
    {
      "cell_type": "code",
      "execution_count": null,
      "id": "80994416",
      "metadata": {
        "id": "80994416",
        "outputId": "29018837-3c1a-4a04-b84a-8ad433a37d4f"
      },
      "outputs": [
        {
          "data": {
            "text/plain": [
              "Species    BreamBreamBreamBreamBreamBreamBreamBreamBreamB...\n",
              "Weight                                               63333.9\n",
              "Length1                                               4173.3\n",
              "Length2                                               4518.1\n",
              "Length3                                               4965.1\n",
              "Height                                              1426.388\n",
              "Width                                               702.3802\n",
              "dtype: object"
            ]
          },
          "execution_count": 19,
          "metadata": {},
          "output_type": "execute_result"
        }
      ],
      "source": [
        "sumCol = dataset.sum()\n",
        "sumCol"
      ]
    },
    {
      "cell_type": "code",
      "execution_count": null,
      "id": "9f8da505",
      "metadata": {
        "id": "9f8da505",
        "outputId": "d580398a-f318-42c2-87fd-0a2708fc722a"
      },
      "outputs": [
        {
          "data": {
            "text/plain": [
              "0      336.1400\n",
              "1      388.2856\n",
              "2      438.5739\n",
              "3      468.9855\n",
              "4      537.0780\n",
              "         ...   \n",
              "154     52.7840\n",
              "155     54.6990\n",
              "156     54.6328\n",
              "157     67.3400\n",
              "158     69.7114\n",
              "Length: 159, dtype: float64"
            ]
          },
          "execution_count": 20,
          "metadata": {},
          "output_type": "execute_result"
        }
      ],
      "source": [
        "#USing the iloc accessor to summ only the numeric values\n",
        "sumRow = dataset.iloc[:,1:].sum(axis=1)\n",
        "sumRow"
      ]
    },
    {
      "cell_type": "markdown",
      "id": "e084afcc",
      "metadata": {
        "id": "e084afcc"
      },
      "source": [
        "***Taking the average is very similar where we use dataFrame.mean() to get the mean value of each column. Changing the axis property will change from column <-----> row."
      ]
    },
    {
      "cell_type": "code",
      "execution_count": null,
      "id": "e0fd5f66",
      "metadata": {
        "id": "e0fd5f66",
        "outputId": "99d53445-53ae-4ea6-a670-9c224a246675"
      },
      "outputs": [
        {
          "data": {
            "text/plain": [
              "Weight     398.326415\n",
              "Length1     26.247170\n",
              "Length2     28.415723\n",
              "Length3     31.227044\n",
              "Height       8.970994\n",
              "Width        4.417486\n",
              "dtype: float64"
            ]
          },
          "execution_count": 21,
          "metadata": {},
          "output_type": "execute_result"
        }
      ],
      "source": [
        "#USing the iloc accessor to take the mean of only the numeric values\n",
        "average = dataset.iloc[:,1:].mean()\n",
        "average"
      ]
    },
    {
      "cell_type": "markdown",
      "id": "8f70725e",
      "metadata": {
        "id": "8f70725e"
      },
      "source": [
        "***When subtracting columns, the most simple method would be to call individual columns with a subtraction sign between. "
      ]
    },
    {
      "cell_type": "code",
      "execution_count": null,
      "id": "dace823a",
      "metadata": {
        "id": "dace823a",
        "outputId": "fd5b7976-b2bf-48b1-e376-dbb4db5a2fa0"
      },
      "outputs": [
        {
          "data": {
            "text/html": [
              "<div>\n",
              "<style scoped>\n",
              "    .dataframe tbody tr th:only-of-type {\n",
              "        vertical-align: middle;\n",
              "    }\n",
              "\n",
              "    .dataframe tbody tr th {\n",
              "        vertical-align: top;\n",
              "    }\n",
              "\n",
              "    .dataframe thead th {\n",
              "        text-align: right;\n",
              "    }\n",
              "</style>\n",
              "<table border=\"1\" class=\"dataframe\">\n",
              "  <thead>\n",
              "    <tr style=\"text-align: right;\">\n",
              "      <th></th>\n",
              "      <th>Species</th>\n",
              "      <th>Weight</th>\n",
              "      <th>Length1</th>\n",
              "      <th>Length2</th>\n",
              "      <th>Length3</th>\n",
              "      <th>Height</th>\n",
              "      <th>Width</th>\n",
              "      <th>len_diff</th>\n",
              "    </tr>\n",
              "  </thead>\n",
              "  <tbody>\n",
              "    <tr>\n",
              "      <th>0</th>\n",
              "      <td>Bream</td>\n",
              "      <td>242.0</td>\n",
              "      <td>23.2</td>\n",
              "      <td>25.4</td>\n",
              "      <td>30.0</td>\n",
              "      <td>11.5200</td>\n",
              "      <td>4.0200</td>\n",
              "      <td>-2.2</td>\n",
              "    </tr>\n",
              "    <tr>\n",
              "      <th>1</th>\n",
              "      <td>Bream</td>\n",
              "      <td>290.0</td>\n",
              "      <td>24.0</td>\n",
              "      <td>26.3</td>\n",
              "      <td>31.2</td>\n",
              "      <td>12.4800</td>\n",
              "      <td>4.3056</td>\n",
              "      <td>-2.3</td>\n",
              "    </tr>\n",
              "    <tr>\n",
              "      <th>2</th>\n",
              "      <td>Bream</td>\n",
              "      <td>340.0</td>\n",
              "      <td>23.9</td>\n",
              "      <td>26.5</td>\n",
              "      <td>31.1</td>\n",
              "      <td>12.3778</td>\n",
              "      <td>4.6961</td>\n",
              "      <td>-2.6</td>\n",
              "    </tr>\n",
              "    <tr>\n",
              "      <th>3</th>\n",
              "      <td>Bream</td>\n",
              "      <td>363.0</td>\n",
              "      <td>26.3</td>\n",
              "      <td>29.0</td>\n",
              "      <td>33.5</td>\n",
              "      <td>12.7300</td>\n",
              "      <td>4.4555</td>\n",
              "      <td>-2.7</td>\n",
              "    </tr>\n",
              "    <tr>\n",
              "      <th>4</th>\n",
              "      <td>Bream</td>\n",
              "      <td>430.0</td>\n",
              "      <td>26.5</td>\n",
              "      <td>29.0</td>\n",
              "      <td>34.0</td>\n",
              "      <td>12.4440</td>\n",
              "      <td>5.1340</td>\n",
              "      <td>-2.5</td>\n",
              "    </tr>\n",
              "    <tr>\n",
              "      <th>...</th>\n",
              "      <td>...</td>\n",
              "      <td>...</td>\n",
              "      <td>...</td>\n",
              "      <td>...</td>\n",
              "      <td>...</td>\n",
              "      <td>...</td>\n",
              "      <td>...</td>\n",
              "      <td>...</td>\n",
              "    </tr>\n",
              "    <tr>\n",
              "      <th>154</th>\n",
              "      <td>Smelt</td>\n",
              "      <td>12.2</td>\n",
              "      <td>11.5</td>\n",
              "      <td>12.2</td>\n",
              "      <td>13.4</td>\n",
              "      <td>2.0904</td>\n",
              "      <td>1.3936</td>\n",
              "      <td>-0.7</td>\n",
              "    </tr>\n",
              "    <tr>\n",
              "      <th>155</th>\n",
              "      <td>Smelt</td>\n",
              "      <td>13.4</td>\n",
              "      <td>11.7</td>\n",
              "      <td>12.4</td>\n",
              "      <td>13.5</td>\n",
              "      <td>2.4300</td>\n",
              "      <td>1.2690</td>\n",
              "      <td>-0.7</td>\n",
              "    </tr>\n",
              "    <tr>\n",
              "      <th>156</th>\n",
              "      <td>Smelt</td>\n",
              "      <td>12.2</td>\n",
              "      <td>12.1</td>\n",
              "      <td>13.0</td>\n",
              "      <td>13.8</td>\n",
              "      <td>2.2770</td>\n",
              "      <td>1.2558</td>\n",
              "      <td>-0.9</td>\n",
              "    </tr>\n",
              "    <tr>\n",
              "      <th>157</th>\n",
              "      <td>Smelt</td>\n",
              "      <td>19.7</td>\n",
              "      <td>13.2</td>\n",
              "      <td>14.3</td>\n",
              "      <td>15.2</td>\n",
              "      <td>2.8728</td>\n",
              "      <td>2.0672</td>\n",
              "      <td>-1.1</td>\n",
              "    </tr>\n",
              "    <tr>\n",
              "      <th>158</th>\n",
              "      <td>Smelt</td>\n",
              "      <td>19.9</td>\n",
              "      <td>13.8</td>\n",
              "      <td>15.0</td>\n",
              "      <td>16.2</td>\n",
              "      <td>2.9322</td>\n",
              "      <td>1.8792</td>\n",
              "      <td>-1.2</td>\n",
              "    </tr>\n",
              "  </tbody>\n",
              "</table>\n",
              "<p>159 rows × 8 columns</p>\n",
              "</div>"
            ],
            "text/plain": [
              "    Species  Weight  Length1  Length2  Length3   Height   Width  len_diff\n",
              "0     Bream   242.0     23.2     25.4     30.0  11.5200  4.0200      -2.2\n",
              "1     Bream   290.0     24.0     26.3     31.2  12.4800  4.3056      -2.3\n",
              "2     Bream   340.0     23.9     26.5     31.1  12.3778  4.6961      -2.6\n",
              "3     Bream   363.0     26.3     29.0     33.5  12.7300  4.4555      -2.7\n",
              "4     Bream   430.0     26.5     29.0     34.0  12.4440  5.1340      -2.5\n",
              "..      ...     ...      ...      ...      ...      ...     ...       ...\n",
              "154   Smelt    12.2     11.5     12.2     13.4   2.0904  1.3936      -0.7\n",
              "155   Smelt    13.4     11.7     12.4     13.5   2.4300  1.2690      -0.7\n",
              "156   Smelt    12.2     12.1     13.0     13.8   2.2770  1.2558      -0.9\n",
              "157   Smelt    19.7     13.2     14.3     15.2   2.8728  2.0672      -1.1\n",
              "158   Smelt    19.9     13.8     15.0     16.2   2.9322  1.8792      -1.2\n",
              "\n",
              "[159 rows x 8 columns]"
            ]
          },
          "execution_count": 22,
          "metadata": {},
          "output_type": "execute_result"
        }
      ],
      "source": [
        "#Creating a new column \"len_diff\" where we subtracted \"Length1\" from \"Length2\"\n",
        "dataset[\"len_diff\"] = dataset[\"Length1\"] - dataset[\"Length2\"]\n",
        "dataset"
      ]
    },
    {
      "cell_type": "markdown",
      "id": "0072b462",
      "metadata": {
        "id": "0072b462"
      },
      "source": [
        "### **Activity 2: Apply Function**\n",
        "The apply function is a very usefull method in the pandas library that enables users to pass a function and apply it on every single value of the Pandas series. This in turn helps to segregate data according to the conditions required due to which it is efficiently used in data science and machine learning. To use this mehtod, use \"dataframe.apply(func, axis=0)\" where func is the function that you wish to pass on to the dataframe."
      ]
    },
    {
      "cell_type": "code",
      "execution_count": null,
      "id": "2f102e7d",
      "metadata": {
        "id": "2f102e7d",
        "outputId": "63a3cce9-cf26-4592-cf4b-5d2a22fa0656"
      },
      "outputs": [
        {
          "data": {
            "text/html": [
              "<div>\n",
              "<style scoped>\n",
              "    .dataframe tbody tr th:only-of-type {\n",
              "        vertical-align: middle;\n",
              "    }\n",
              "\n",
              "    .dataframe tbody tr th {\n",
              "        vertical-align: top;\n",
              "    }\n",
              "\n",
              "    .dataframe thead th {\n",
              "        text-align: right;\n",
              "    }\n",
              "</style>\n",
              "<table border=\"1\" class=\"dataframe\">\n",
              "  <thead>\n",
              "    <tr style=\"text-align: right;\">\n",
              "      <th></th>\n",
              "      <th>Species</th>\n",
              "      <th>Weight</th>\n",
              "      <th>Length1</th>\n",
              "      <th>Length2</th>\n",
              "      <th>Length3</th>\n",
              "      <th>Height</th>\n",
              "      <th>Width</th>\n",
              "      <th>len_diff</th>\n",
              "    </tr>\n",
              "  </thead>\n",
              "  <tbody>\n",
              "    <tr>\n",
              "      <th>0</th>\n",
              "      <td>Bream</td>\n",
              "      <td>242.0</td>\n",
              "      <td>23.2</td>\n",
              "      <td>25.4</td>\n",
              "      <td>30.0</td>\n",
              "      <td>11.5200</td>\n",
              "      <td>4.0200</td>\n",
              "      <td>-2.2</td>\n",
              "    </tr>\n",
              "    <tr>\n",
              "      <th>1</th>\n",
              "      <td>Bream</td>\n",
              "      <td>290.0</td>\n",
              "      <td>24.0</td>\n",
              "      <td>26.3</td>\n",
              "      <td>31.2</td>\n",
              "      <td>12.4800</td>\n",
              "      <td>4.3056</td>\n",
              "      <td>-2.3</td>\n",
              "    </tr>\n",
              "    <tr>\n",
              "      <th>2</th>\n",
              "      <td>Bream</td>\n",
              "      <td>340.0</td>\n",
              "      <td>23.9</td>\n",
              "      <td>26.5</td>\n",
              "      <td>31.1</td>\n",
              "      <td>12.3778</td>\n",
              "      <td>4.6961</td>\n",
              "      <td>-2.6</td>\n",
              "    </tr>\n",
              "    <tr>\n",
              "      <th>3</th>\n",
              "      <td>Bream</td>\n",
              "      <td>363.0</td>\n",
              "      <td>26.3</td>\n",
              "      <td>29.0</td>\n",
              "      <td>33.5</td>\n",
              "      <td>12.7300</td>\n",
              "      <td>4.4555</td>\n",
              "      <td>-2.7</td>\n",
              "    </tr>\n",
              "    <tr>\n",
              "      <th>4</th>\n",
              "      <td>Bream</td>\n",
              "      <td>430.0</td>\n",
              "      <td>26.5</td>\n",
              "      <td>29.0</td>\n",
              "      <td>34.0</td>\n",
              "      <td>12.4440</td>\n",
              "      <td>5.1340</td>\n",
              "      <td>-2.5</td>\n",
              "    </tr>\n",
              "    <tr>\n",
              "      <th>...</th>\n",
              "      <td>...</td>\n",
              "      <td>...</td>\n",
              "      <td>...</td>\n",
              "      <td>...</td>\n",
              "      <td>...</td>\n",
              "      <td>...</td>\n",
              "      <td>...</td>\n",
              "      <td>...</td>\n",
              "    </tr>\n",
              "    <tr>\n",
              "      <th>154</th>\n",
              "      <td>Smelt</td>\n",
              "      <td>12.2</td>\n",
              "      <td>11.5</td>\n",
              "      <td>12.2</td>\n",
              "      <td>13.4</td>\n",
              "      <td>2.0904</td>\n",
              "      <td>1.3936</td>\n",
              "      <td>-0.7</td>\n",
              "    </tr>\n",
              "    <tr>\n",
              "      <th>155</th>\n",
              "      <td>Smelt</td>\n",
              "      <td>13.4</td>\n",
              "      <td>11.7</td>\n",
              "      <td>12.4</td>\n",
              "      <td>13.5</td>\n",
              "      <td>2.4300</td>\n",
              "      <td>1.2690</td>\n",
              "      <td>-0.7</td>\n",
              "    </tr>\n",
              "    <tr>\n",
              "      <th>156</th>\n",
              "      <td>Smelt</td>\n",
              "      <td>12.2</td>\n",
              "      <td>12.1</td>\n",
              "      <td>13.0</td>\n",
              "      <td>13.8</td>\n",
              "      <td>2.2770</td>\n",
              "      <td>1.2558</td>\n",
              "      <td>-0.9</td>\n",
              "    </tr>\n",
              "    <tr>\n",
              "      <th>157</th>\n",
              "      <td>Smelt</td>\n",
              "      <td>19.7</td>\n",
              "      <td>13.2</td>\n",
              "      <td>14.3</td>\n",
              "      <td>15.2</td>\n",
              "      <td>2.8728</td>\n",
              "      <td>2.0672</td>\n",
              "      <td>-1.1</td>\n",
              "    </tr>\n",
              "    <tr>\n",
              "      <th>158</th>\n",
              "      <td>Smelt</td>\n",
              "      <td>19.9</td>\n",
              "      <td>13.8</td>\n",
              "      <td>15.0</td>\n",
              "      <td>16.2</td>\n",
              "      <td>2.9322</td>\n",
              "      <td>1.8792</td>\n",
              "      <td>-1.2</td>\n",
              "    </tr>\n",
              "  </tbody>\n",
              "</table>\n",
              "<p>159 rows × 8 columns</p>\n",
              "</div>"
            ],
            "text/plain": [
              "    Species  Weight  Length1  Length2  Length3   Height   Width  len_diff\n",
              "0     Bream   242.0     23.2     25.4     30.0  11.5200  4.0200      -2.2\n",
              "1     Bream   290.0     24.0     26.3     31.2  12.4800  4.3056      -2.3\n",
              "2     Bream   340.0     23.9     26.5     31.1  12.3778  4.6961      -2.6\n",
              "3     Bream   363.0     26.3     29.0     33.5  12.7300  4.4555      -2.7\n",
              "4     Bream   430.0     26.5     29.0     34.0  12.4440  5.1340      -2.5\n",
              "..      ...     ...      ...      ...      ...      ...     ...       ...\n",
              "154   Smelt    12.2     11.5     12.2     13.4   2.0904  1.3936      -0.7\n",
              "155   Smelt    13.4     11.7     12.4     13.5   2.4300  1.2690      -0.7\n",
              "156   Smelt    12.2     12.1     13.0     13.8   2.2770  1.2558      -0.9\n",
              "157   Smelt    19.7     13.2     14.3     15.2   2.8728  2.0672      -1.1\n",
              "158   Smelt    19.9     13.8     15.0     16.2   2.9322  1.8792      -1.2\n",
              "\n",
              "[159 rows x 8 columns]"
            ]
          },
          "execution_count": 24,
          "metadata": {},
          "output_type": "execute_result"
        }
      ],
      "source": [
        "dataset"
      ]
    },
    {
      "cell_type": "code",
      "execution_count": null,
      "id": "9370b883",
      "metadata": {
        "id": "9370b883",
        "outputId": "20be19ca-41b8-418d-d7ff-87827b7fe8d3"
      },
      "outputs": [
        {
          "data": {
            "text/plain": [
              "Length1     4173.3000\n",
              "Length2     4518.1000\n",
              "Length3     4965.1000\n",
              "Height      1426.3880\n",
              "Width        702.3802\n",
              "len_diff    -344.8000\n",
              "dtype: float64"
            ]
          },
          "execution_count": 30,
          "metadata": {},
          "output_type": "execute_result"
        }
      ],
      "source": [
        "newdata = dataset.iloc[:,2:].apply(np.sum)\n",
        "newdata"
      ]
    },
    {
      "cell_type": "code",
      "execution_count": null,
      "id": "c7899954",
      "metadata": {
        "id": "c7899954",
        "outputId": "75ee0881-747c-490a-c489-9ee416c9862c"
      },
      "outputs": [
        {
          "data": {
            "text/html": [
              "<div>\n",
              "<style scoped>\n",
              "    .dataframe tbody tr th:only-of-type {\n",
              "        vertical-align: middle;\n",
              "    }\n",
              "\n",
              "    .dataframe tbody tr th {\n",
              "        vertical-align: top;\n",
              "    }\n",
              "\n",
              "    .dataframe thead th {\n",
              "        text-align: right;\n",
              "    }\n",
              "</style>\n",
              "<table border=\"1\" class=\"dataframe\">\n",
              "  <thead>\n",
              "    <tr style=\"text-align: right;\">\n",
              "      <th></th>\n",
              "      <th>Length1</th>\n",
              "      <th>Length2</th>\n",
              "      <th>Length3</th>\n",
              "      <th>Height</th>\n",
              "      <th>Width</th>\n",
              "      <th>len_diff</th>\n",
              "    </tr>\n",
              "  </thead>\n",
              "  <tbody>\n",
              "    <tr>\n",
              "      <th>0</th>\n",
              "      <td>4.816638</td>\n",
              "      <td>5.039841</td>\n",
              "      <td>5.477226</td>\n",
              "      <td>3.394113</td>\n",
              "      <td>2.004994</td>\n",
              "      <td>NaN</td>\n",
              "    </tr>\n",
              "    <tr>\n",
              "      <th>1</th>\n",
              "      <td>4.898979</td>\n",
              "      <td>5.128353</td>\n",
              "      <td>5.585696</td>\n",
              "      <td>3.532704</td>\n",
              "      <td>2.074994</td>\n",
              "      <td>NaN</td>\n",
              "    </tr>\n",
              "    <tr>\n",
              "      <th>2</th>\n",
              "      <td>4.888763</td>\n",
              "      <td>5.147815</td>\n",
              "      <td>5.576737</td>\n",
              "      <td>3.518210</td>\n",
              "      <td>2.167049</td>\n",
              "      <td>NaN</td>\n",
              "    </tr>\n",
              "    <tr>\n",
              "      <th>3</th>\n",
              "      <td>5.128353</td>\n",
              "      <td>5.385165</td>\n",
              "      <td>5.787918</td>\n",
              "      <td>3.567913</td>\n",
              "      <td>2.110806</td>\n",
              "      <td>NaN</td>\n",
              "    </tr>\n",
              "    <tr>\n",
              "      <th>4</th>\n",
              "      <td>5.147815</td>\n",
              "      <td>5.385165</td>\n",
              "      <td>5.830952</td>\n",
              "      <td>3.527605</td>\n",
              "      <td>2.265833</td>\n",
              "      <td>NaN</td>\n",
              "    </tr>\n",
              "    <tr>\n",
              "      <th>...</th>\n",
              "      <td>...</td>\n",
              "      <td>...</td>\n",
              "      <td>...</td>\n",
              "      <td>...</td>\n",
              "      <td>...</td>\n",
              "      <td>...</td>\n",
              "    </tr>\n",
              "    <tr>\n",
              "      <th>154</th>\n",
              "      <td>3.391165</td>\n",
              "      <td>3.492850</td>\n",
              "      <td>3.660601</td>\n",
              "      <td>1.445822</td>\n",
              "      <td>1.180508</td>\n",
              "      <td>NaN</td>\n",
              "    </tr>\n",
              "    <tr>\n",
              "      <th>155</th>\n",
              "      <td>3.420526</td>\n",
              "      <td>3.521363</td>\n",
              "      <td>3.674235</td>\n",
              "      <td>1.558846</td>\n",
              "      <td>1.126499</td>\n",
              "      <td>NaN</td>\n",
              "    </tr>\n",
              "    <tr>\n",
              "      <th>156</th>\n",
              "      <td>3.478505</td>\n",
              "      <td>3.605551</td>\n",
              "      <td>3.714835</td>\n",
              "      <td>1.508973</td>\n",
              "      <td>1.120625</td>\n",
              "      <td>NaN</td>\n",
              "    </tr>\n",
              "    <tr>\n",
              "      <th>157</th>\n",
              "      <td>3.633180</td>\n",
              "      <td>3.781534</td>\n",
              "      <td>3.898718</td>\n",
              "      <td>1.694934</td>\n",
              "      <td>1.437776</td>\n",
              "      <td>NaN</td>\n",
              "    </tr>\n",
              "    <tr>\n",
              "      <th>158</th>\n",
              "      <td>3.714835</td>\n",
              "      <td>3.872983</td>\n",
              "      <td>4.024922</td>\n",
              "      <td>1.712367</td>\n",
              "      <td>1.370839</td>\n",
              "      <td>NaN</td>\n",
              "    </tr>\n",
              "  </tbody>\n",
              "</table>\n",
              "<p>159 rows × 6 columns</p>\n",
              "</div>"
            ],
            "text/plain": [
              "      Length1   Length2   Length3    Height     Width  len_diff\n",
              "0    4.816638  5.039841  5.477226  3.394113  2.004994       NaN\n",
              "1    4.898979  5.128353  5.585696  3.532704  2.074994       NaN\n",
              "2    4.888763  5.147815  5.576737  3.518210  2.167049       NaN\n",
              "3    5.128353  5.385165  5.787918  3.567913  2.110806       NaN\n",
              "4    5.147815  5.385165  5.830952  3.527605  2.265833       NaN\n",
              "..        ...       ...       ...       ...       ...       ...\n",
              "154  3.391165  3.492850  3.660601  1.445822  1.180508       NaN\n",
              "155  3.420526  3.521363  3.674235  1.558846  1.126499       NaN\n",
              "156  3.478505  3.605551  3.714835  1.508973  1.120625       NaN\n",
              "157  3.633180  3.781534  3.898718  1.694934  1.437776       NaN\n",
              "158  3.714835  3.872983  4.024922  1.712367  1.370839       NaN\n",
              "\n",
              "[159 rows x 6 columns]"
            ]
          },
          "execution_count": 31,
          "metadata": {},
          "output_type": "execute_result"
        }
      ],
      "source": [
        "newdata = dataset.iloc[:,2:].apply(np.sqrt)\n",
        "newdata"
      ]
    },
    {
      "cell_type": "code",
      "execution_count": null,
      "id": "57743d1b",
      "metadata": {
        "id": "57743d1b",
        "outputId": "48767150-7090-48e0-b827-e70dd8686361"
      },
      "outputs": [
        {
          "data": {
            "text/html": [
              "<div>\n",
              "<style scoped>\n",
              "    .dataframe tbody tr th:only-of-type {\n",
              "        vertical-align: middle;\n",
              "    }\n",
              "\n",
              "    .dataframe tbody tr th {\n",
              "        vertical-align: top;\n",
              "    }\n",
              "\n",
              "    .dataframe thead th {\n",
              "        text-align: right;\n",
              "    }\n",
              "</style>\n",
              "<table border=\"1\" class=\"dataframe\">\n",
              "  <thead>\n",
              "    <tr style=\"text-align: right;\">\n",
              "      <th></th>\n",
              "      <th>Length1</th>\n",
              "      <th>Length2</th>\n",
              "      <th>Length3</th>\n",
              "      <th>Height</th>\n",
              "      <th>Width</th>\n",
              "      <th>len_diff</th>\n",
              "    </tr>\n",
              "  </thead>\n",
              "  <tbody>\n",
              "    <tr>\n",
              "      <th>0</th>\n",
              "      <td>1.190233e+10</td>\n",
              "      <td>1.074187e+11</td>\n",
              "      <td>1.068647e+13</td>\n",
              "      <td>100709.961867</td>\n",
              "      <td>55.701106</td>\n",
              "      <td>0.110803</td>\n",
              "    </tr>\n",
              "    <tr>\n",
              "      <th>1</th>\n",
              "      <td>2.648912e+10</td>\n",
              "      <td>2.642073e+11</td>\n",
              "      <td>3.548035e+13</td>\n",
              "      <td>263023.852246</td>\n",
              "      <td>74.113670</td>\n",
              "      <td>0.100259</td>\n",
              "    </tr>\n",
              "    <tr>\n",
              "      <th>2</th>\n",
              "      <td>2.396835e+10</td>\n",
              "      <td>3.227036e+11</td>\n",
              "      <td>3.210394e+13</td>\n",
              "      <td>237470.812460</td>\n",
              "      <td>109.519214</td>\n",
              "      <td>0.074274</td>\n",
              "    </tr>\n",
              "    <tr>\n",
              "      <th>3</th>\n",
              "      <td>2.642073e+11</td>\n",
              "      <td>3.931334e+12</td>\n",
              "      <td>3.538874e+14</td>\n",
              "      <td>337729.311480</td>\n",
              "      <td>86.099190</td>\n",
              "      <td>0.067206</td>\n",
              "    </tr>\n",
              "    <tr>\n",
              "      <th>4</th>\n",
              "      <td>3.227036e+11</td>\n",
              "      <td>3.931334e+12</td>\n",
              "      <td>5.834617e+14</td>\n",
              "      <td>253723.406024</td>\n",
              "      <td>169.694540</td>\n",
              "      <td>0.082085</td>\n",
              "    </tr>\n",
              "    <tr>\n",
              "      <th>...</th>\n",
              "      <td>...</td>\n",
              "      <td>...</td>\n",
              "      <td>...</td>\n",
              "      <td>...</td>\n",
              "      <td>...</td>\n",
              "      <td>...</td>\n",
              "    </tr>\n",
              "    <tr>\n",
              "      <th>154</th>\n",
              "      <td>9.871577e+04</td>\n",
              "      <td>1.987892e+05</td>\n",
              "      <td>6.600032e+05</td>\n",
              "      <td>8.088150</td>\n",
              "      <td>4.029330</td>\n",
              "      <td>0.496585</td>\n",
              "    </tr>\n",
              "    <tr>\n",
              "      <th>155</th>\n",
              "      <td>1.205717e+05</td>\n",
              "      <td>2.428016e+05</td>\n",
              "      <td>7.294164e+05</td>\n",
              "      <td>11.358882</td>\n",
              "      <td>3.557293</td>\n",
              "      <td>0.496585</td>\n",
              "    </tr>\n",
              "    <tr>\n",
              "      <th>156</th>\n",
              "      <td>1.798719e+05</td>\n",
              "      <td>4.424134e+05</td>\n",
              "      <td>9.846091e+05</td>\n",
              "      <td>9.747394</td>\n",
              "      <td>3.510646</td>\n",
              "      <td>0.406570</td>\n",
              "    </tr>\n",
              "    <tr>\n",
              "      <th>157</th>\n",
              "      <td>5.403649e+05</td>\n",
              "      <td>1.623346e+06</td>\n",
              "      <td>3.992787e+06</td>\n",
              "      <td>17.686471</td>\n",
              "      <td>7.902665</td>\n",
              "      <td>0.332871</td>\n",
              "    </tr>\n",
              "    <tr>\n",
              "      <th>158</th>\n",
              "      <td>9.846091e+05</td>\n",
              "      <td>3.269017e+06</td>\n",
              "      <td>1.085352e+07</td>\n",
              "      <td>18.768877</td>\n",
              "      <td>6.548264</td>\n",
              "      <td>0.301194</td>\n",
              "    </tr>\n",
              "  </tbody>\n",
              "</table>\n",
              "<p>159 rows × 6 columns</p>\n",
              "</div>"
            ],
            "text/plain": [
              "          Length1       Length2       Length3         Height       Width  \\\n",
              "0    1.190233e+10  1.074187e+11  1.068647e+13  100709.961867   55.701106   \n",
              "1    2.648912e+10  2.642073e+11  3.548035e+13  263023.852246   74.113670   \n",
              "2    2.396835e+10  3.227036e+11  3.210394e+13  237470.812460  109.519214   \n",
              "3    2.642073e+11  3.931334e+12  3.538874e+14  337729.311480   86.099190   \n",
              "4    3.227036e+11  3.931334e+12  5.834617e+14  253723.406024  169.694540   \n",
              "..            ...           ...           ...            ...         ...   \n",
              "154  9.871577e+04  1.987892e+05  6.600032e+05       8.088150    4.029330   \n",
              "155  1.205717e+05  2.428016e+05  7.294164e+05      11.358882    3.557293   \n",
              "156  1.798719e+05  4.424134e+05  9.846091e+05       9.747394    3.510646   \n",
              "157  5.403649e+05  1.623346e+06  3.992787e+06      17.686471    7.902665   \n",
              "158  9.846091e+05  3.269017e+06  1.085352e+07      18.768877    6.548264   \n",
              "\n",
              "     len_diff  \n",
              "0    0.110803  \n",
              "1    0.100259  \n",
              "2    0.074274  \n",
              "3    0.067206  \n",
              "4    0.082085  \n",
              "..        ...  \n",
              "154  0.496585  \n",
              "155  0.496585  \n",
              "156  0.406570  \n",
              "157  0.332871  \n",
              "158  0.301194  \n",
              "\n",
              "[159 rows x 6 columns]"
            ]
          },
          "execution_count": 33,
          "metadata": {},
          "output_type": "execute_result"
        }
      ],
      "source": [
        "newdata = dataset.iloc[:,2:].apply(np.exp)\n",
        "newdata"
      ]
    }
  ],
  "metadata": {
    "kernelspec": {
      "display_name": "Python 3 (ipykernel)",
      "language": "python",
      "name": "python3"
    },
    "language_info": {
      "codemirror_mode": {
        "name": "ipython",
        "version": 3
      },
      "file_extension": ".py",
      "mimetype": "text/x-python",
      "name": "python",
      "nbconvert_exporter": "python",
      "pygments_lexer": "ipython3",
      "version": "3.9.13"
    },
    "colab": {
      "provenance": [],
      "toc_visible": true,
      "include_colab_link": true
    }
  },
  "nbformat": 4,
  "nbformat_minor": 5
}