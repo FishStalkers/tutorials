{
  "nbformat": 4,
  "nbformat_minor": 0,
  "metadata": {
    "colab": {
      "provenance": [],
      "toc_visible": true,
      "include_colab_link": true
    },
    "kernelspec": {
      "name": "python3",
      "display_name": "Python 3"
    },
    "language_info": {
      "name": "python"
    }
  },
  "cells": [
    {
      "cell_type": "markdown",
      "metadata": {
        "id": "view-in-github",
        "colab_type": "text"
      },
      "source": [
        "<a href=\"https://colab.research.google.com/github/FishStalkers/tutorials/blob/main/NumPyv3.ipynb\" target=\"_parent\"><img src=\"https://colab.research.google.com/assets/colab-badge.svg\" alt=\"Open In Colab\"/></a>"
      ]
    },
    {
      "cell_type": "markdown",
      "source": [
        "#Welcome to the *Mathematics and Computer Science Symposium* workshop: **Introduction to Numpy** \n",
        "\n",
        "Authors: Avinash, Arushi, Breanna Shi\n",
        "\n",
        "### We will be going over topics that will help better your understanding of machine learning. We will mostly be focusing matricies as they and their operations that are most applicable to ML. \n",
        "\n",
        "#### **For your continued education on Numpy, we recommend the following resources:** \n",
        "1.) [Official Numpy site](https://numpy.org/learn/)\n",
        "\n",
        "2.) [Numpy Tutorial](https://cs231n.github.io/python-numpy-tutorial/)\n",
        "\n",
        "3.) [Linear Algebra with ML](https://machinelearningmastery.com/start-here/#linear_algebra)\n",
        "\n",
        "4.) [Numpy Lecture Notes](https://scipy-lectures.org)\n",
        "\n",
        "5.) [w3 Resources](https://www.w3resource.com/python-exercises/numpy/index.php)"
      ],
      "metadata": {
        "id": "HU6QrcIOa5kR"
      }
    },
    {
      "cell_type": "markdown",
      "source": [
        "##**Section 1.1: What is Numpy?**\n",
        "\n"
      ],
      "metadata": {
        "id": "m4hN3GCbMjmG"
      }
    },
    {
      "cell_type": "markdown",
      "source": [
        "NumPy is a Python library that consists of multidimensional array objects and variations thereof along with hundreds of potential math functions for use. The package is one of the most useful for scientific computing and its versatility and power make it a common tool used by scientists of many disciplines. \n",
        "\n"
      ],
      "metadata": {
        "id": "c4Wr5E75oqho"
      }
    },
    {
      "cell_type": "markdown",
      "source": [
        "The dataset we will be using is arguably one of the most well known datasets used for teaching data science skills, the iris dataset. The dataset contains 3 classes, each with 50 instances. Each of the three classes corresponds to one of three different types of iris plants: Iris Setosa, Iris Versicolour, and Iris Virginica. Each instance also has 4 assosciated measurements: sepal length, sepal width, petal length, and petal width. These four associated measurements are listed in centimeters. "
      ],
      "metadata": {
        "id": "iwyZB3J8ZkXB"
      }
    },
    {
      "cell_type": "markdown",
      "source": [
        " The code below will install NumPy and load our dataset. "
      ],
      "metadata": {
        "id": "DwvuZvfIknBQ"
      }
    },
    {
      "cell_type": "code",
      "execution_count": null,
      "metadata": {
        "id": "tgJ1xxNMonLc"
      },
      "outputs": [],
      "source": [
        "import numpy as np\n",
        "from sklearn import datasets\n",
        "iris = datasets.load_iris()"
      ]
    },
    {
      "cell_type": "markdown",
      "source": [
        "##**Section 1.2: Instantiating Arrays**\n",
        "Here, we will create our first array in Numpy. We use the function below to specify our values, places within brackets. We can also specify our datatype, a 32-bit integer. We then print this to our console. \n"
      ],
      "metadata": {
        "id": "Bqp2ewZ8aBC2"
      }
    },
    {
      "cell_type": "code",
      "source": [
        "#instantiate an array of integers\n",
        "arr = np.array([0,1,2,3,4], dtype='int32')\n",
        "print(arr)"
      ],
      "metadata": {
        "colab": {
          "base_uri": "https://localhost:8080/"
        },
        "id": "Y17V2Dq-l6-6",
        "outputId": "6d25b6b6-82ff-45b5-f822-62566ce91964"
      },
      "execution_count": null,
      "outputs": [
        {
          "output_type": "stream",
          "name": "stdout",
          "text": [
            "[0 1 2 3 4]\n"
          ]
        }
      ]
    },
    {
      "cell_type": "markdown",
      "source": [
        "Our first instantiated array! The beauty of NumPy is that we don't have to stick to 1d arrays. We can create 2d and 3d arrays too, and even arrays of much greater dimensions, the only constraint being your computer's memory and the amount of data you can store in your datatype, in our case, the 32-bit integer. "
      ],
      "metadata": {
        "id": "-aDRScXXm2rK"
      }
    },
    {
      "cell_type": "code",
      "source": [
        "arr1 = np.array([[0,1,2, 3],[1,2,3,4]])\n",
        "print(arr1)"
      ],
      "metadata": {
        "colab": {
          "base_uri": "https://localhost:8080/"
        },
        "id": "4IGYs0oBm110",
        "outputId": "4af4c787-8dd9-40b8-8359-7ebd85ee5cab"
      },
      "execution_count": null,
      "outputs": [
        {
          "output_type": "stream",
          "name": "stdout",
          "text": [
            "[[0 1 2 3]\n",
            " [1 2 3 4]]\n"
          ]
        }
      ]
    },
    {
      "cell_type": "code",
      "source": [
        "arr2 = np.array([[[2,17], [45, 78]], [[88, 92], [60, 76]],[[76,33],[20,18]]])\n",
        "print(arr2)"
      ],
      "metadata": {
        "colab": {
          "base_uri": "https://localhost:8080/"
        },
        "id": "JIxv5Tq9p35O",
        "outputId": "a1750a66-9547-4ad7-f71a-ed7ae28548af"
      },
      "execution_count": null,
      "outputs": [
        {
          "output_type": "stream",
          "name": "stdout",
          "text": [
            "[[[ 2 17]\n",
            "  [45 78]]\n",
            "\n",
            " [[88 92]\n",
            "  [60 76]]\n",
            "\n",
            " [[76 33]\n",
            "  [20 18]]]\n"
          ]
        }
      ]
    },
    {
      "cell_type": "markdown",
      "source": [
        "##**Section 1.3: Array Properties**\n",
        "\n",
        "Now, let's look at some properties of our arrays. The chart below is taken from the NumPy documentation, which is a great resource to use for both beginners and experts alike. "
      ],
      "metadata": {
        "id": "JTW24MWKdlFv"
      }
    },
    {
      "cell_type": "markdown",
      "source": [
        "![numpymemory.png](data:image/png;base64,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)From these, we can obtain information about different properties of our arrays."
      ],
      "metadata": {
        "id": "6RyTEw1mqXBx"
      }
    },
    {
      "cell_type": "code",
      "source": [
        "#Dimension (number of dimensions the array is in)\n",
        "\n",
        "print(arr1.ndim)\n",
        "\n",
        "#Shape (Number of rows, columns, etc)\n",
        "\n",
        "print(arr2.shape)\n",
        "\n",
        "#Type (data type)\n",
        "\n",
        "print(arr1.dtype)\n",
        "\n",
        "#Size\n",
        "\n",
        "print(arr2.size)\n",
        "\n",
        "#Total bytes used within array\n",
        "\n",
        "print(arr1.nbytes)"
      ],
      "metadata": {
        "colab": {
          "base_uri": "https://localhost:8080/"
        },
        "id": "NsvaWbA1qf-Z",
        "outputId": "168418fa-72e3-4733-f8aa-130e734bee79"
      },
      "execution_count": null,
      "outputs": [
        {
          "output_type": "stream",
          "name": "stdout",
          "text": [
            "2\n",
            "(3, 2, 2)\n",
            "int64\n",
            "12\n",
            "64\n"
          ]
        }
      ]
    },
    {
      "cell_type": "markdown",
      "source": [
        "##**Section 1.4: Matrices**\n",
        "\n",
        "We can also create matrices. Below are representations of the zero matrix, the identity matrix, and the matrix of ones, or the unit matrix. "
      ],
      "metadata": {
        "id": "ksr810Slx4Ef"
      }
    },
    {
      "cell_type": "markdown",
      "source": [
        "![zeroIdentity.png](data:image/png;base64,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)\n",
        "\n"
      ],
      "metadata": {
        "id": "w1f1wIWuhWVO"
      }
    },
    {
      "cell_type": "markdown",
      "source": [
        "![onesmatrix.png](data:image/png;base64,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)"
      ],
      "metadata": {
        "id": "Pzx26q_oh_kK"
      }
    },
    {
      "cell_type": "markdown",
      "source": [
        "Let's create a 0s matrix, a 1s matrix, and a matrix with random values."
      ],
      "metadata": {
        "id": "-uBWJQu1iKNi"
      }
    },
    {
      "cell_type": "code",
      "source": [
        "np.zeros((2,2))\n"
      ],
      "metadata": {
        "colab": {
          "base_uri": "https://localhost:8080/"
        },
        "id": "DtzFSQUm0b1y",
        "outputId": "e2717b3e-bb32-4457-8b87-84fdf3843cc6"
      },
      "execution_count": null,
      "outputs": [
        {
          "output_type": "execute_result",
          "data": {
            "text/plain": [
              "array([[0., 0.],\n",
              "       [0., 0.]])"
            ]
          },
          "metadata": {},
          "execution_count": 7
        }
      ]
    },
    {
      "cell_type": "code",
      "source": [
        "np.ones((2,3,2))"
      ],
      "metadata": {
        "colab": {
          "base_uri": "https://localhost:8080/"
        },
        "id": "KU04MlAg032Z",
        "outputId": "89476391-42f5-478e-bfa1-ce9c46939de7"
      },
      "execution_count": null,
      "outputs": [
        {
          "output_type": "execute_result",
          "data": {
            "text/plain": [
              "array([[[1., 1.],\n",
              "        [1., 1.],\n",
              "        [1., 1.]],\n",
              "\n",
              "       [[1., 1.],\n",
              "        [1., 1.],\n",
              "        [1., 1.]]])"
            ]
          },
          "metadata": {},
          "execution_count": 8
        }
      ]
    },
    {
      "cell_type": "code",
      "source": [
        "np.full((2,3), 2)"
      ],
      "metadata": {
        "colab": {
          "base_uri": "https://localhost:8080/"
        },
        "id": "pvZxrMaR1rDV",
        "outputId": "35507e7e-fc37-4a38-8e6b-be7c2db5cbc3"
      },
      "execution_count": null,
      "outputs": [
        {
          "output_type": "execute_result",
          "data": {
            "text/plain": [
              "array([[2, 2, 2],\n",
              "       [2, 2, 2]])"
            ]
          },
          "metadata": {},
          "execution_count": 9
        }
      ]
    },
    {
      "cell_type": "code",
      "source": [
        "np.identity(3)"
      ],
      "metadata": {
        "colab": {
          "base_uri": "https://localhost:8080/"
        },
        "id": "ej4B9Gi91061",
        "outputId": "3cccd39b-9933-420a-f413-78da4b5a59f7"
      },
      "execution_count": null,
      "outputs": [
        {
          "output_type": "execute_result",
          "data": {
            "text/plain": [
              "array([[1., 0., 0.],\n",
              "       [0., 1., 0.],\n",
              "       [0., 0., 1.]])"
            ]
          },
          "metadata": {},
          "execution_count": 10
        }
      ]
    },
    {
      "cell_type": "markdown",
      "source": [
        "##**Section 1.5: Iris dataset**\n",
        "\n",
        "Knowing what we know now about creating arrays and displaying array properties, let's take a preliminary look at our Iris dataset. "
      ],
      "metadata": {
        "id": "4Jd1t2dLr8YA"
      }
    },
    {
      "cell_type": "code",
      "source": [
        "print(iris.data.ndim)\n",
        "print(iris.data.shape)\n",
        "print(iris.data.size)\n",
        "print(iris.DESCR)\n"
      ],
      "metadata": {
        "colab": {
          "base_uri": "https://localhost:8080/"
        },
        "id": "Brwz8h1tr8-m",
        "outputId": "ca3529df-b3fc-4681-8d26-141a54ff0804"
      },
      "execution_count": null,
      "outputs": [
        {
          "output_type": "stream",
          "name": "stdout",
          "text": [
            "2\n",
            "(150, 4)\n",
            "600\n",
            ".. _iris_dataset:\n",
            "\n",
            "Iris plants dataset\n",
            "--------------------\n",
            "\n",
            "**Data Set Characteristics:**\n",
            "\n",
            "    :Number of Instances: 150 (50 in each of three classes)\n",
            "    :Number of Attributes: 4 numeric, predictive attributes and the class\n",
            "    :Attribute Information:\n",
            "        - sepal length in cm\n",
            "        - sepal width in cm\n",
            "        - petal length in cm\n",
            "        - petal width in cm\n",
            "        - class:\n",
            "                - Iris-Setosa\n",
            "                - Iris-Versicolour\n",
            "                - Iris-Virginica\n",
            "                \n",
            "    :Summary Statistics:\n",
            "\n",
            "    ============== ==== ==== ======= ===== ====================\n",
            "                    Min  Max   Mean    SD   Class Correlation\n",
            "    ============== ==== ==== ======= ===== ====================\n",
            "    sepal length:   4.3  7.9   5.84   0.83    0.7826\n",
            "    sepal width:    2.0  4.4   3.05   0.43   -0.4194\n",
            "    petal length:   1.0  6.9   3.76   1.76    0.9490  (high!)\n",
            "    petal width:    0.1  2.5   1.20   0.76    0.9565  (high!)\n",
            "    ============== ==== ==== ======= ===== ====================\n",
            "\n",
            "    :Missing Attribute Values: None\n",
            "    :Class Distribution: 33.3% for each of 3 classes.\n",
            "    :Creator: R.A. Fisher\n",
            "    :Donor: Michael Marshall (MARSHALL%PLU@io.arc.nasa.gov)\n",
            "    :Date: July, 1988\n",
            "\n",
            "The famous Iris database, first used by Sir R.A. Fisher. The dataset is taken\n",
            "from Fisher's paper. Note that it's the same as in R, but not as in the UCI\n",
            "Machine Learning Repository, which has two wrong data points.\n",
            "\n",
            "This is perhaps the best known database to be found in the\n",
            "pattern recognition literature.  Fisher's paper is a classic in the field and\n",
            "is referenced frequently to this day.  (See Duda & Hart, for example.)  The\n",
            "data set contains 3 classes of 50 instances each, where each class refers to a\n",
            "type of iris plant.  One class is linearly separable from the other 2; the\n",
            "latter are NOT linearly separable from each other.\n",
            "\n",
            ".. topic:: References\n",
            "\n",
            "   - Fisher, R.A. \"The use of multiple measurements in taxonomic problems\"\n",
            "     Annual Eugenics, 7, Part II, 179-188 (1936); also in \"Contributions to\n",
            "     Mathematical Statistics\" (John Wiley, NY, 1950).\n",
            "   - Duda, R.O., & Hart, P.E. (1973) Pattern Classification and Scene Analysis.\n",
            "     (Q327.D83) John Wiley & Sons.  ISBN 0-471-22361-1.  See page 218.\n",
            "   - Dasarathy, B.V. (1980) \"Nosing Around the Neighborhood: A New System\n",
            "     Structure and Classification Rule for Recognition in Partially Exposed\n",
            "     Environments\".  IEEE Transactions on Pattern Analysis and Machine\n",
            "     Intelligence, Vol. PAMI-2, No. 1, 67-71.\n",
            "   - Gates, G.W. (1972) \"The Reduced Nearest Neighbor Rule\".  IEEE Transactions\n",
            "     on Information Theory, May 1972, 431-433.\n",
            "   - See also: 1988 MLC Proceedings, 54-64.  Cheeseman et al\"s AUTOCLASS II\n",
            "     conceptual clustering system finds 3 classes in the data.\n",
            "   - Many, many more ...\n"
          ]
        }
      ]
    },
    {
      "cell_type": "markdown",
      "source": [
        "##**Section 1.6: Slicing**\n",
        "\n",
        "Great! Now that we know how to look at basic properties, let's look at how to access information within our array. After all, thats what we want to do, right? "
      ],
      "metadata": {
        "id": "FutM6Rlfwdqc"
      }
    },
    {
      "cell_type": "code",
      "source": [
        "dset = iris.data\n",
        "#gets data at row 2 column 3 within the data set\n",
        "print(dset[2,3])\n",
        "#gets the 0th row\n",
        "print(dset[0,:])\n",
        "#gets the 4th column\n",
        "print(dset[:,3])\n",
        "#gets the dataset with just the first 2 rows and first 3 columns\n",
        "print(dset[0:2,0:3])\n"
      ],
      "metadata": {
        "colab": {
          "base_uri": "https://localhost:8080/"
        },
        "id": "_hY0fiRA2OwI",
        "outputId": "f072a8a1-f91a-422e-cd15-7e4ec80150c4"
      },
      "execution_count": null,
      "outputs": [
        {
          "output_type": "stream",
          "name": "stdout",
          "text": [
            "0.2\n",
            "[5.1 3.5 1.4 0.2]\n",
            "[0.2 0.2 0.2 0.2 0.2 0.4 0.3 0.2 0.2 0.1 0.2 0.2 0.1 0.1 0.2 0.4 0.4 0.3\n",
            " 0.3 0.3 0.2 0.4 0.2 0.5 0.2 0.2 0.4 0.2 0.2 0.2 0.2 0.4 0.1 0.2 0.2 0.2\n",
            " 0.2 0.1 0.2 0.2 0.3 0.3 0.2 0.6 0.4 0.3 0.2 0.2 0.2 0.2 1.4 1.5 1.5 1.3\n",
            " 1.5 1.3 1.6 1.  1.3 1.4 1.  1.5 1.  1.4 1.3 1.4 1.5 1.  1.5 1.1 1.8 1.3\n",
            " 1.5 1.2 1.3 1.4 1.4 1.7 1.5 1.  1.1 1.  1.2 1.6 1.5 1.6 1.5 1.3 1.3 1.3\n",
            " 1.2 1.4 1.2 1.  1.3 1.2 1.3 1.3 1.1 1.3 2.5 1.9 2.1 1.8 2.2 2.1 1.7 1.8\n",
            " 1.8 2.5 2.  1.9 2.1 2.  2.4 2.3 1.8 2.2 2.3 1.5 2.3 2.  2.  1.8 2.1 1.8\n",
            " 1.8 1.8 2.1 1.6 1.9 2.  2.2 1.5 1.4 2.3 2.4 1.8 1.8 2.1 2.4 2.3 1.9 2.3\n",
            " 2.5 2.3 1.9 2.  2.3 1.8]\n",
            "[[5.1 3.5 1.4]\n",
            " [4.9 3.  1.4]]\n"
          ]
        }
      ]
    },
    {
      "cell_type": "code",
      "source": [],
      "metadata": {
        "id": "p_OUn9ol8k-T"
      },
      "execution_count": null,
      "outputs": []
    },
    {
      "cell_type": "markdown",
      "source": [
        "###**Activity 1: Creating your own**\n",
        "\n",
        "Now that we know a little about basic numpy array properties and how to create and access them, let's try an exercise. \n",
        "\n",
        "Create a 12 x 10 array of integers, starting with number 1, and then slice the first 6 rows and 4 columns with a step of 2. With that result, flatten the array into 1-d and then reshape it into 4 x 3 x 2 matrix. Print the result of each step. "
      ],
      "metadata": {
        "id": "Nm6P4WkFvfXs"
      }
    },
    {
      "cell_type": "code",
      "source": [
        "#Try your code here"
      ],
      "metadata": {
        "id": "AnOt2qsgwtI3"
      },
      "execution_count": null,
      "outputs": []
    },
    {
      "cell_type": "code",
      "source": [
        "#Solution\n",
        "a1 = np.arange(120) + 1\n",
        "a1 = a1.reshape(12,10)\n",
        "print(a1)\n",
        "print('\\n')\n",
        "a1 = a1[:12:2, :8:2]\n",
        "print(a1)\n",
        "print('\\n')\n",
        "a1 = a1.flatten()\n",
        "print(a1)\n",
        "print('\\n')\n",
        "a1 = a1.reshape(4,3,2)\n",
        "print(a1)\n"
      ],
      "metadata": {
        "colab": {
          "base_uri": "https://localhost:8080/"
        },
        "id": "y4SKQ6UfwrUa",
        "outputId": "141e068d-3890-4a33-b860-013e0af677b8"
      },
      "execution_count": null,
      "outputs": [
        {
          "output_type": "stream",
          "name": "stdout",
          "text": [
            "[[  1   2   3   4   5   6   7   8   9  10]\n",
            " [ 11  12  13  14  15  16  17  18  19  20]\n",
            " [ 21  22  23  24  25  26  27  28  29  30]\n",
            " [ 31  32  33  34  35  36  37  38  39  40]\n",
            " [ 41  42  43  44  45  46  47  48  49  50]\n",
            " [ 51  52  53  54  55  56  57  58  59  60]\n",
            " [ 61  62  63  64  65  66  67  68  69  70]\n",
            " [ 71  72  73  74  75  76  77  78  79  80]\n",
            " [ 81  82  83  84  85  86  87  88  89  90]\n",
            " [ 91  92  93  94  95  96  97  98  99 100]\n",
            " [101 102 103 104 105 106 107 108 109 110]\n",
            " [111 112 113 114 115 116 117 118 119 120]]\n",
            "\n",
            "\n",
            "[[  1   3   5   7]\n",
            " [ 21  23  25  27]\n",
            " [ 41  43  45  47]\n",
            " [ 61  63  65  67]\n",
            " [ 81  83  85  87]\n",
            " [101 103 105 107]]\n",
            "\n",
            "\n",
            "[  1   3   5   7  21  23  25  27  41  43  45  47  61  63  65  67  81  83\n",
            "  85  87 101 103 105 107]\n",
            "\n",
            "\n",
            "[[[  1   3]\n",
            "  [  5   7]\n",
            "  [ 21  23]]\n",
            "\n",
            " [[ 25  27]\n",
            "  [ 41  43]\n",
            "  [ 45  47]]\n",
            "\n",
            " [[ 61  63]\n",
            "  [ 65  67]\n",
            "  [ 81  83]]\n",
            "\n",
            " [[ 85  87]\n",
            "  [101 103]\n",
            "  [105 107]]]\n"
          ]
        }
      ]
    },
    {
      "cell_type": "markdown",
      "source": [
        "###**Activity 2: Creating your own**\n",
        "\n",
        "Let's try another exercise. Create a 15 x 12 array of integers, starting with number 10, and then slice the first 5 rows and 5 columns with a step of 2. With that result, flatten the array into 1-d and then reshape it into a 1-d column matrix. Print the result of each step. \n",
        "\n",
        "Hint: We can use 'np.c_[]' with the array to manipulate passed in as a parameter to create our 1-d columnar matrix. "
      ],
      "metadata": {
        "id": "VL_5f4Rp33Sv"
      }
    },
    {
      "cell_type": "code",
      "source": [
        "#your solution here"
      ],
      "metadata": {
        "id": "w7QYw0Mrdn0O"
      },
      "execution_count": null,
      "outputs": []
    },
    {
      "cell_type": "code",
      "source": [
        "#Activity Two solution\n",
        "\n",
        "a1 = np.arange(180) + 10\n",
        "a1 = a1.reshape(15,12)\n",
        "print(a1)\n",
        "print('\\n')\n",
        "a1 = a1[:5:2, :5:2]\n",
        "print(a1)\n",
        "print('\\n')\n",
        "a1 = a1.flatten()\n",
        "print(a1)\n",
        "print('\\n')\n",
        "a1 = np.c_[a1]\n",
        "print(a1)"
      ],
      "metadata": {
        "colab": {
          "base_uri": "https://localhost:8080/"
        },
        "id": "VPGz4OCS4grB",
        "outputId": "0fe2c58e-d59a-4d21-cc86-f3c29f51d20a"
      },
      "execution_count": null,
      "outputs": [
        {
          "output_type": "stream",
          "name": "stdout",
          "text": [
            "[[ 10  11  12  13  14  15  16  17  18  19  20  21]\n",
            " [ 22  23  24  25  26  27  28  29  30  31  32  33]\n",
            " [ 34  35  36  37  38  39  40  41  42  43  44  45]\n",
            " [ 46  47  48  49  50  51  52  53  54  55  56  57]\n",
            " [ 58  59  60  61  62  63  64  65  66  67  68  69]\n",
            " [ 70  71  72  73  74  75  76  77  78  79  80  81]\n",
            " [ 82  83  84  85  86  87  88  89  90  91  92  93]\n",
            " [ 94  95  96  97  98  99 100 101 102 103 104 105]\n",
            " [106 107 108 109 110 111 112 113 114 115 116 117]\n",
            " [118 119 120 121 122 123 124 125 126 127 128 129]\n",
            " [130 131 132 133 134 135 136 137 138 139 140 141]\n",
            " [142 143 144 145 146 147 148 149 150 151 152 153]\n",
            " [154 155 156 157 158 159 160 161 162 163 164 165]\n",
            " [166 167 168 169 170 171 172 173 174 175 176 177]\n",
            " [178 179 180 181 182 183 184 185 186 187 188 189]]\n",
            "\n",
            "\n",
            "[[10 12 14]\n",
            " [34 36 38]\n",
            " [58 60 62]]\n",
            "\n",
            "\n",
            "[10 12 14 34 36 38 58 60 62]\n",
            "\n",
            "\n",
            "[[10]\n",
            " [12]\n",
            " [14]\n",
            " [34]\n",
            " [36]\n",
            " [38]\n",
            " [58]\n",
            " [60]\n",
            " [62]]\n"
          ]
        }
      ]
    },
    {
      "cell_type": "markdown",
      "source": [
        "Now that we know the basics of arrays and how to access their values, let's look at how to manipulate data. One of the benefits of NumPy is its various mathematical functions. Let's look at some linear algebra functions that we can use and apply to our dataset. (3 functions, you give an example, and then provide an example for them to do). We will look at some relevant linear algebra functions."
      ],
      "metadata": {
        "id": "e3PNOX3NbW2E"
      }
    },
    {
      "cell_type": "markdown",
      "source": [
        "Let's do some basic linear algebra operations with matrices. Let's look at matrix multiplication. "
      ],
      "metadata": {
        "id": "eJJZggnjdmO3"
      }
    },
    {
      "cell_type": "code",
      "source": [
        "#the dot method calculates the dot product of 2 arrays, in 1-d this is \n",
        "#the inner product of 2 vectors, while in 2-d and higher dimensions this\n",
        "#is matrix multiplication\n",
        "a = np.array([1,2,3])\n",
        "b = np.array([4,5,6])\n",
        "print(a * b)\n",
        "print('\\n')\n",
        "c = np.array([[1,2], [3,4]])\n",
        "d = np.array([[5,6], [7,8]])\n",
        "print(np.dot(c,d))\n",
        "print('\\n')\n",
        "#the matnul method multiplies 2 matrices together\n",
        "print(np.matmul(c,d))\n",
        "print('\\n')\n",
        "print(c @ d)\n",
        "#we can use '@' to multiply matrices together also \n",
        "print('\\n')\n",
        "#the vdot method calculates a vector dot product (scalar value)\n",
        "print(np.vdot(c,d))\n",
        "\n",
        "\n"
      ],
      "metadata": {
        "colab": {
          "base_uri": "https://localhost:8080/"
        },
        "id": "qeXyiUNGdvMc",
        "outputId": "c460cb46-1966-4c24-98f1-8bd8c6e171a8"
      },
      "execution_count": null,
      "outputs": [
        {
          "output_type": "stream",
          "name": "stdout",
          "text": [
            "[ 4 10 18]\n",
            "\n",
            "\n",
            "[[19 22]\n",
            " [43 50]]\n",
            "\n",
            "\n",
            "[[19 22]\n",
            " [43 50]]\n",
            "\n",
            "\n",
            "[[19 22]\n",
            " [43 50]]\n",
            "\n",
            "\n",
            "70\n"
          ]
        }
      ]
    },
    {
      "cell_type": "markdown",
      "source": [
        "Now, let's look at calculating inner and outer products of matrices. The inner product, or dot product, is the product of a row vector and a column vector. It results in a scalar value. The outer product is the opposite, that is, a column vector multiplied by a row vector. Because of matrix multiplication properties, this results in a matrix."
      ],
      "metadata": {
        "id": "sZ6BpVO1oedd"
      }
    },
    {
      "cell_type": "markdown",
      "source": [
        "This is the inner product. "
      ],
      "metadata": {
        "id": "cfzhlwJU-_oy"
      }
    },
    {
      "cell_type": "markdown",
      "source": [
        "![innerprod.png](data:image/png;base64,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)"
      ],
      "metadata": {
        "id": "D71QtuOV-pHW"
      }
    },
    {
      "cell_type": "markdown",
      "source": [
        "This is the outer product."
      ],
      "metadata": {
        "id": "upcJzUds_DO_"
      }
    },
    {
      "cell_type": "markdown",
      "source": [
        "![outerprod.png](data:image/png;base64,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)"
      ],
      "metadata": {
        "id": "m0YFLaRf-vaV"
      }
    },
    {
      "cell_type": "markdown",
      "source": [
        "Below is how we calculate this in NumPy."
      ],
      "metadata": {
        "id": "WG49XUte_GwD"
      }
    },
    {
      "cell_type": "code",
      "source": [
        "a = np.array([1,2,3])\n",
        "b = np.array([4,5,6])\n",
        "print(np.inner(a,b))\n",
        "print('\\n')\n",
        "print(np.outer(a,b))"
      ],
      "metadata": {
        "colab": {
          "base_uri": "https://localhost:8080/"
        },
        "id": "qu_-SUqBojl6",
        "outputId": "cb6c19a6-2933-4441-8b2b-4c35e863c25e"
      },
      "execution_count": null,
      "outputs": [
        {
          "output_type": "stream",
          "name": "stdout",
          "text": [
            "32\n",
            "\n",
            "\n",
            "[[ 4  5  6]\n",
            " [ 8 10 12]\n",
            " [12 15 18]]\n"
          ]
        }
      ]
    },
    {
      "cell_type": "markdown",
      "source": [
        "A transpose matrix is a resultant matrix where values are flipped over the diagonal of the original matrix. In other words, the row and column indices are flipped. "
      ],
      "metadata": {
        "id": "F0K5qE8S4jHw"
      }
    },
    {
      "cell_type": "markdown",
      "source": [
        "![transposematrix.png](data:image/png;base64,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)"
      ],
      "metadata": {
        "id": "Z8kQZQIN4XbL"
      }
    },
    {
      "cell_type": "code",
      "source": [
        "a = np.array([[1,2],[3,4]])\n",
        "tp = a.transpose()\n",
        "print(tp)\n"
      ],
      "metadata": {
        "colab": {
          "base_uri": "https://localhost:8080/"
        },
        "id": "uFMnD8B35Hi0",
        "outputId": "477c4a31-86fa-4580-d35c-f498e6a52e54"
      },
      "execution_count": null,
      "outputs": [
        {
          "output_type": "stream",
          "name": "stdout",
          "text": [
            "[[1 3]\n",
            " [2 4]]\n"
          ]
        }
      ]
    },
    {
      "cell_type": "markdown",
      "source": [
        "An inverse matrix A' for matrix A is a matrix such that the product of matrices A and A' results in the identity matrix. "
      ],
      "metadata": {
        "id": "ghiIniKN5HFU"
      }
    },
    {
      "cell_type": "markdown",
      "source": [
        "![inversematrix.png](data:image/png;base64,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)"
      ],
      "metadata": {
        "id": "0oIkFWoq4krg"
      }
    },
    {
      "cell_type": "code",
      "source": [
        "from operator import inv\n",
        "arr1 = np.array([[0,1,2],[1,2,3],[2,3,4]])\n",
        "inverse = inv(arr1)\n",
        "print(inverse)"
      ],
      "metadata": {
        "colab": {
          "base_uri": "https://localhost:8080/"
        },
        "id": "8C-Nrb-I6Qwl",
        "outputId": "c0f5fccb-0fe1-4616-c599-3f3d346afdfa"
      },
      "execution_count": null,
      "outputs": [
        {
          "output_type": "stream",
          "name": "stdout",
          "text": [
            "[[-1 -2 -3]\n",
            " [-2 -3 -4]\n",
            " [-3 -4 -5]]\n"
          ]
        }
      ]
    },
    {
      "cell_type": "markdown",
      "source": [
        "A QR Factorization of a matrix is a matrix decomposed into two matrices, a Q orthogonal matrix and an R upper triangular matrix. This definition can be useful to solve linear least squares problems. What linear least squares does is it creates a linear model that best maps to a set of data points by finding the sum of the errors between the predicted and actual data points. "
      ],
      "metadata": {
        "id": "nrwluUzMKRZ0"
      }
    },
    {
      "cell_type": "code",
      "source": [
        "#QR Factorization\n",
        "\n",
        "q,r = np.linalg.qr(dset)\n",
        "print(q)\n",
        "print(\"\\n\")\n",
        "print(r)"
      ],
      "metadata": {
        "colab": {
          "base_uri": "https://localhost:8080/"
        },
        "id": "SnmHeabGDmQk",
        "outputId": "4e84a0b3-9724-43b3-fc7b-825d03486b26"
      },
      "execution_count": null,
      "outputs": [
        {
          "output_type": "stream",
          "name": "stdout",
          "text": [
            "[[-7.05626410e-02 -1.12834741e-01 -5.35604521e-02 -4.85100071e-03]\n",
            " [-6.77954786e-02 -6.24183863e-02 -1.20670136e-01  1.78165913e-02]\n",
            " [-6.50283162e-02 -1.00753125e-01 -5.35114961e-02  2.22950789e-03]\n",
            " [-6.36447350e-02 -9.45630387e-02 -3.17963126e-02 -4.54412513e-02]\n",
            " [-6.91790598e-02 -1.32002110e-01 -1.39976581e-02 -2.41171190e-02]\n",
            " [-7.47133846e-02 -1.44083726e-01  9.88728158e-03  8.60478546e-03]\n",
            " [-6.36447350e-02 -1.32599221e-01  1.89089989e-02 -5.87823649e-03]\n",
            " [-6.91790598e-02 -1.06644655e-01 -4.38122165e-02 -2.95766068e-02]\n",
            " [-6.08775726e-02 -8.21828669e-02 -4.82006851e-02 -2.60570041e-02]\n",
            " [-6.77954786e-02 -7.50971138e-02 -8.78124351e-02 -5.67177541e-02]\n",
            " [-7.47133846e-02 -1.18726271e-01 -5.58281204e-02 -1.37119623e-02]\n",
            " [-6.64118974e-02 -1.19621938e-01  5.49881298e-03 -7.35683311e-02]\n",
            " [-6.64118974e-02 -6.89070279e-02 -1.01998095e-01 -3.55530539e-02]\n",
            " [-5.94939914e-02 -1.01350236e-01 -4.45387348e-02 -1.93340227e-02]\n",
            " [-8.02477094e-02 -1.30807887e-01 -1.03744868e-01  7.09881415e-02]\n",
            " [-7.88641282e-02 -1.88011439e-01  3.43910291e-02  4.23507853e-02]\n",
            " [-7.47133846e-02 -1.44083726e-01 -3.79805099e-02  1.00385398e-01]\n",
            " [-7.05626410e-02 -1.12834741e-01 -5.35604521e-02  3.79953589e-02]\n",
            " [-7.88641282e-02 -1.11939073e-01 -6.70195940e-02  6.07111530e-03]\n",
            " [-7.05626410e-02 -1.50870923e-01  2.10787552e-02 -1.11782921e-02]\n",
            " [-7.47133846e-02 -8.06900883e-02 -9.45664841e-02 -3.33737706e-02]\n",
            " [-7.05626410e-02 -1.38192196e-01  1.88002053e-04  4.04109001e-02]\n",
            " [-6.36447350e-02 -1.57956676e-01  1.28227137e-02  2.55703510e-02]\n",
            " [-7.05626410e-02 -8.74772856e-02 -5.94411147e-02  7.23382841e-02]\n",
            " [-6.64118974e-02 -1.19621938e-01  4.13996566e-02 -1.42403790e-01]\n",
            " [-6.91790598e-02 -5.59297447e-02 -1.15408281e-01 -1.75504293e-02]\n",
            " [-6.91790598e-02 -1.06644655e-01 -3.18452687e-02  3.31709593e-02]\n",
            " [-7.19462222e-02 -1.06346099e-01 -6.02655450e-02 -1.72728682e-02]\n",
            " [-7.19462222e-02 -9.36673715e-02 -9.31232460e-02  1.44151175e-02]\n",
            " [-6.50283162e-02 -1.00753125e-01 -1.76106525e-02 -6.66059514e-02]\n",
            " [-6.64118974e-02 -8.15857554e-02 -5.71734464e-02 -4.73398332e-02]\n",
            " [-7.47133846e-02 -8.06900883e-02 -1.18500380e-01  9.82092548e-02]\n",
            " [-7.19462222e-02 -1.82418464e-01  6.50789738e-02 -1.12576224e-01]\n",
            " [-7.60969658e-02 -1.75631267e-01  1.79866566e-02 -2.39576868e-02]\n",
            " [-6.77954786e-02 -7.50971138e-02 -8.78124351e-02 -1.38713945e-02]\n",
            " [-6.91790598e-02 -8.12871997e-02 -1.21494566e-01  5.67445178e-02]\n",
            " [-7.60969658e-02 -8.68801742e-02 -1.40215563e-01  6.01872948e-02]\n",
            " [-6.77954786e-02 -1.38490751e-01  4.67438270e-03 -7.74867642e-02]\n",
            " [-6.08775726e-02 -9.48615944e-02 -3.92768799e-02 -1.18546837e-02]\n",
            " [-7.05626410e-02 -1.00156013e-01 -6.24842573e-02 -1.90533212e-02]\n",
            " [-6.91790598e-02 -1.19323382e-01 -4.68553591e-02  5.04172264e-02]\n",
            " [-6.22611538e-02  3.78139829e-04 -2.04184193e-01  1.02714790e-01]\n",
            " [-6.08775726e-02 -1.20219049e-01  2.50462640e-03 -2.93403489e-02]\n",
            " [-6.91790598e-02 -1.19323382e-01 -1.09545155e-02  1.10120846e-01]\n",
            " [-7.05626410e-02 -1.50870923e-01  6.89465466e-02 -6.01125449e-02]\n",
            " [-6.64118974e-02 -6.89070279e-02 -1.01998095e-01  5.01396653e-02]\n",
            " [-7.05626410e-02 -1.50870923e-01  3.30457030e-02 -7.69698048e-02]\n",
            " [-6.36447350e-02 -1.07241766e-01 -2.28725074e-02 -3.12389308e-02]\n",
            " [-7.33298034e-02 -1.25214912e-01 -3.71560796e-02 -2.42352479e-02]\n",
            " [-6.91790598e-02 -9.39659272e-02 -7.66699175e-02  2.11137896e-03]\n",
            " [-9.68506837e-02  4.84856326e-02 -7.60922075e-02 -2.17138134e-02]\n",
            " [-8.85491966e-02  9.55378288e-03  1.20061416e-02  3.88313876e-03]\n",
            " [-9.54671025e-02  5.46757185e-02 -5.43770241e-02 -2.65382130e-02]\n",
            " [-7.60969658e-02  6.52645560e-02 -6.77970085e-02  1.68921084e-02]\n",
            " [-8.99327778e-02  6.67573345e-02 -7.82619638e-02  2.64326018e-02]\n",
            " [-7.88641282e-02  1.48482016e-02  5.91474148e-02 -1.20501249e-01]\n",
            " [-8.71656154e-02 -9.61358625e-03  7.55028313e-02 -1.84269261e-02]\n",
            " [-6.77954786e-02  1.36539788e-02 -1.86426455e-02 -2.29134450e-02]\n",
            " [-9.13163590e-02  6.05672486e-02 -7.60432515e-02 -5.74796644e-02]\n",
            " [-7.19462222e-02 -4.91627892e-03  5.98151786e-02  1.61424337e-02]\n",
            " [-6.91790598e-02  7.08575304e-02 -9.69438031e-02 -2.33091351e-02]\n",
            " [-8.16312906e-02  2.46802983e-03  2.76839959e-02  3.75878353e-02]\n",
            " [-8.30148718e-02  1.10386492e-01 -1.82047966e-01 -5.02877098e-02]\n",
            " [-8.43984530e-02  2.81240406e-02  2.92839004e-02 -9.01948859e-02]\n",
            " [-7.74805470e-02 -4.31916750e-03 -8.99232197e-03  6.67390105e-02]\n",
            " [-9.26999401e-02  4.16984352e-02 -7.68676818e-02  2.42946217e-02]\n",
            " [-7.74805470e-02 -1.69978950e-02  1.19600962e-01 -6.28174808e-02]\n",
            " [-8.02477094e-02  3.40155708e-02 -2.82831706e-02 -1.37993597e-01]\n",
            " [-8.57820342e-02  1.23363775e-01 -1.59557308e-01  7.02648939e-02]\n",
            " [-7.74805470e-02  4.63957426e-02 -5.66544909e-02 -5.28178374e-02]\n",
            " [-8.16312906e-02 -2.28894252e-02  1.41267189e-01  1.09703302e-02]\n",
            " [-8.43984530e-02  4.08027681e-02 -7.53754877e-02  3.63176588e-02]\n",
            " [-8.71656154e-02  9.18162338e-02 -6.76892980e-02 -3.72209308e-02]\n",
            " [-8.43984530e-02  4.08027681e-02  8.39314729e-03 -1.67144773e-01]\n",
            " [-8.85491966e-02  4.75899654e-02 -7.46000135e-02 -9.69077633e-03]\n",
            " [-9.13163590e-02  4.78885211e-02 -7.90863941e-02  2.25141687e-02]\n",
            " [-9.40835213e-02  8.62232594e-02 -1.10344191e-01 -3.07342072e-02]\n",
            " [-9.26999401e-02  5.43771627e-02 -2.59567478e-02  2.39056145e-02]\n",
            " [-8.30148718e-02  2.16353990e-02  2.40220455e-02 -1.19815057e-02]\n",
            " [-7.88641282e-02  4.02056567e-02 -1.02303570e-01 -2.10313165e-03]\n",
            " [-7.60969658e-02  5.25858285e-02 -7.08401511e-02 -3.16531373e-02]\n",
            " [-7.60969658e-02  5.25858285e-02 -8.28070989e-02 -5.15543438e-02]\n",
            " [-8.02477094e-02  3.40155708e-02 -5.22170663e-02 -6.41057188e-03]\n",
            " [-8.30148718e-02  4.69928540e-02  5.40422264e-02 -8.93203995e-02]\n",
            " [-7.47133846e-02 -2.99751782e-02  1.56945044e-01 -8.38640520e-02]\n",
            " [-8.30148718e-02 -4.17582386e-02  1.28475811e-01 -1.28493093e-02]\n",
            " [-9.26999401e-02  4.16984352e-02 -4.09668382e-02 -1.69447799e-03]\n",
            " [-8.71656154e-02  1.17173689e-01 -1.69305544e-01  9.29778079e-03]\n",
            " [-7.74805470e-02 -1.69978950e-02  7.17331705e-02 -5.67295876e-02]\n",
            " [-7.60969658e-02  3.99071009e-02 -2.60155022e-02 -5.93556917e-04]\n",
            " [-7.60969658e-02  2.72283734e-02  4.27430424e-02 -1.43963362e-01]\n",
            " [-8.43984530e-02  1.54453131e-02  3.82077057e-02 -7.59925655e-02]\n",
            " [-8.02477094e-02  4.66942983e-02 -6.11408716e-02 -2.06128923e-02]\n",
            " [-6.91790598e-02  3.28213479e-02 -5.82054394e-02 -3.64732676e-03]\n",
            " [-7.74805470e-02  2.10382875e-02  2.10278589e-02 -5.34462428e-02]\n",
            " [-7.88641282e-02 -1.05092534e-02  6.50280775e-02 -1.11997815e-01]\n",
            " [-7.88641282e-02  2.16947412e-03  4.41373244e-02 -6.04086225e-02]\n",
            " [-8.57820342e-02  3.46126822e-02 -3.72559318e-02 -3.07373475e-02]\n",
            " [-7.05626410e-02  1.39525345e-02 -7.09968176e-02  1.01072112e-01]\n",
            " [-7.88641282e-02  1.48482016e-02  1.12796234e-02 -2.87206367e-02]\n",
            " [-8.71656154e-02 -9.61358625e-03  2.31073154e-01  6.89033200e-02]\n",
            " [-8.02477094e-02  3.40155708e-02  9.13863081e-02  1.81721081e-02]\n",
            " [-9.82342649e-02  8.03317292e-02  7.05761972e-03  3.08778175e-02]\n",
            " [-8.71656154e-02  4.11013238e-02  9.96423495e-02 -1.04269254e-01]\n",
            " [-8.99327778e-02  4.13998795e-02  1.07122917e-01  3.35296165e-02]\n",
            " [-1.05152171e-01  1.12774937e-01 -2.53394933e-03 -7.71218262e-02]\n",
            " [-6.77954786e-02  9.75251259e-04  1.45851482e-01 -7.07359764e-03]\n",
            " [-1.01001427e-01  1.05987740e-01 -3.30942360e-03 -1.59652470e-01]\n",
            " [-9.26999401e-02  1.17770800e-01 -3.46749305e-02 -7.30950875e-02]\n",
            " [-9.96178461e-02  1.07480057e-02  1.37663993e-01  1.14439239e-01]\n",
            " [-8.99327778e-02  1.60424245e-02  6.51357880e-02  9.09673038e-02]\n",
            " [-8.85491966e-02  7.29474204e-02  3.28795888e-03  3.54215155e-02]\n",
            " [-9.40835213e-02  6.08658044e-02  1.52059507e-02  9.10885731e-02]\n",
            " [-7.88641282e-02  5.28843842e-02  5.63098948e-02  9.09260005e-02]\n",
            " [-8.02477094e-02  2.13368432e-02  1.12277061e-01  2.23661074e-01]\n",
            " [-8.85491966e-02  9.55378288e-03  1.07741725e-01  1.63092791e-01]\n",
            " [-8.99327778e-02  4.13998795e-02  7.12220732e-02 -6.90203626e-02]\n",
            " [-1.06535752e-01  1.78337588e-02  1.57886983e-01 -1.16639995e-01]\n",
            " [-1.06535752e-01  1.69978489e-01 -6.88681591e-02 -1.47699502e-02]\n",
            " [-8.30148718e-02  1.10386492e-01 -6.23784871e-02 -6.55074428e-02]\n",
            " [-9.54671025e-02  4.19969909e-02  6.22493119e-02  1.23928606e-01]\n",
            " [-7.74805470e-02  8.35956002e-03  1.25687247e-01  7.71193701e-02]\n",
            " [-1.06535752e-01  1.44621034e-01 -5.10205485e-02 -1.14904388e-01]\n",
            " [-8.71656154e-02  6.64587788e-02 -2.59077918e-02  7.38324827e-02]\n",
            " [-9.26999401e-02  1.63409802e-02  1.20484147e-01  8.44648334e-03]\n",
            " [-9.96178461e-02  6.14629158e-02  4.21340330e-02 -1.27568794e-01]\n",
            " [-8.57820342e-02  4.72914097e-02  1.68805434e-03  7.75115176e-02]\n",
            " [-8.43984530e-02  1.54453131e-02  7.41085493e-02  2.65574136e-02]\n",
            " [-8.85491966e-02  6.02686929e-02  6.00795556e-02  4.35359428e-02]\n",
            " [-9.96178461e-02  8.68203708e-02 -2.35813690e-02 -1.49885542e-01]\n",
            " [-1.02385009e-01  1.25155109e-01 -6.68061133e-02 -5.16496859e-02]\n",
            " [-1.09302915e-01  3.08110420e-02  8.46420575e-02 -1.12450684e-01]\n",
            " [-8.85491966e-02  6.02686929e-02  6.00795556e-02  8.63823024e-02]\n",
            " [-8.71656154e-02  5.37800513e-02  1.89168571e-02 -1.09339735e-01]\n",
            " [-8.43984530e-02  6.61602231e-02  7.43141718e-02 -2.70472766e-01]\n",
            " [-1.06535752e-01  1.19263579e-01 -8.10407295e-02  1.33819944e-01]\n",
            " [-8.71656154e-02 -2.22923138e-02  2.04096115e-01  1.09094740e-01]\n",
            " [-8.85491966e-02  2.22325104e-02  1.10784867e-01 -8.82864808e-02]\n",
            " [-8.30148718e-02  8.95667145e-03  8.08136422e-02  3.89792811e-02]\n",
            " [-9.54671025e-02  5.46757185e-02  5.45771518e-03  1.15814179e-01]\n",
            " [-9.26999401e-02  4.16984352e-02  6.67356925e-02  1.77416381e-01]\n",
            " [-9.54671025e-02  5.46757185e-02 -3.04431284e-02  2.70342358e-01]\n",
            " [-8.02477094e-02  3.40155708e-02  9.13863081e-02  1.81721081e-02]\n",
            " [-9.40835213e-02  3.55083493e-02  1.04855248e-01  6.75150146e-02]\n",
            " [-9.26999401e-02  1.63409802e-02  1.20484147e-01  1.79831922e-01]\n",
            " [-9.26999401e-02  5.43771627e-02 -2.02285204e-03  2.35093466e-01]\n",
            " [-8.71656154e-02  9.18162338e-02 -5.57223501e-02  1.11219355e-01]\n",
            " [-8.99327778e-02  4.13998795e-02  3.53212296e-02  8.55078159e-02]\n",
            " [-8.57820342e-02 -2.87809554e-02  1.98834260e-01  1.01615401e-01]\n",
            " [-8.16312906e-02  2.46802983e-03  1.35386527e-01 -4.03794638e-02]]\n",
            "\n",
            "\n",
            "[[-72.27620632 -36.98907477 -48.20064828 -15.60873291]\n",
            " [  0.          -7.88722685  13.76876634   5.76407773]\n",
            " [  0.           0.           8.3563496    4.47500611]\n",
            " [  0.           0.           0.           2.33392057]]\n"
          ]
        }
      ]
    },
    {
      "cell_type": "markdown",
      "source": [
        "The above code snippet is the QR decomposition for the Iris dataset. Now, knowing how to calculate it using NumPy, take the QR decomposition of the first 20 rows and the 4 columns. "
      ],
      "metadata": {
        "id": "fhXtyJKFMEOl"
      }
    },
    {
      "cell_type": "code",
      "source": [
        "#QR Example\n",
        "\n",
        "#reduced = dset[0:15, 0:4]\n",
        "#a,b = np.linalg.qr(reduced)\n",
        "#print(a,b)"
      ],
      "metadata": {
        "colab": {
          "base_uri": "https://localhost:8080/"
        },
        "id": "PLLPXDplMb9j",
        "outputId": "cc208cc6-8ae4-438c-dde8-9c7a2ce35c59"
      },
      "execution_count": null,
      "outputs": [
        {
          "output_type": "stream",
          "name": "stdout",
          "text": [
            "[[-0.26719154  0.03662755 -0.10805339 -0.02095792]\n",
            " [-0.25671344 -0.51332522 -0.02123156  0.45578013]\n",
            " [-0.24623534 -0.0047896  -0.08421544  0.08910074]\n",
            " [-0.24099629 -0.05294704  0.28310894 -0.03309335]\n",
            " [-0.26195249  0.29089536 -0.05915492 -0.24490457]\n",
            " [-0.28290869  0.3323125   0.23856879  0.53712314]\n",
            " [-0.24099629  0.40069084  0.12703173  0.17910707]\n",
            " [-0.26195249 -0.0115299   0.09849016 -0.0619381 ]\n",
            " [-0.23051819 -0.14926192  0.21385356  0.12858803]\n",
            " [-0.25671344 -0.36211259  0.14111715 -0.28478107]\n",
            " [-0.28290869  0.02988725 -0.08612862 -0.09078284]\n",
            " [-0.25147439  0.19458047  0.35393219 -0.32686493]\n",
            " [-0.25147439 -0.41027004  0.02609904 -0.16333342]\n",
            " [-0.22527914  0.10500589 -0.21959045 -0.37897399]\n",
            " [-0.30386489  0.07130439 -0.75308988  0.12401415]] [[-1.90874304e+01 -1.30085608e+01 -5.49209599e+00 -7.79570622e-01]\n",
            " [ 0.00000000e+00  6.61320433e-01 -6.44893860e-03  1.64682849e-01]\n",
            " [ 0.00000000e+00  0.00000000e+00  6.21964697e-01  9.58018142e-02]\n",
            " [ 0.00000000e+00  0.00000000e+00  0.00000000e+00  1.89660796e-01]]\n"
          ]
        }
      ]
    },
    {
      "cell_type": "markdown",
      "source": [
        "Now, let's see if we can calculate the singular value decomposition of  a matrix. The SVD splits an m x n matrix into 3 component matrices and has useful applications in data analysis. Let's compute the SVD of the dataset. "
      ],
      "metadata": {
        "id": "WkZ2BDbUNRP-"
      }
    },
    {
      "cell_type": "code",
      "source": [
        "#SVD\n",
        "u,s,v = np.linalg.svd(dset)\n",
        "print(u)\n",
        "print(\"\\n\")\n",
        "print(s)\n",
        "print(\"\\n\")\n",
        "print(v)"
      ],
      "metadata": {
        "colab": {
          "base_uri": "https://localhost:8080/"
        },
        "id": "BpKZSg3zDqIb",
        "outputId": "55f81216-40e5-4797-d162-cd9acd28fd47"
      },
      "execution_count": null,
      "outputs": [
        {
          "output_type": "stream",
          "name": "stdout",
          "text": [
            "[[-0.06161685  0.12961144  0.0021386  ... -0.09343429 -0.09573864\n",
            "  -0.08085465]\n",
            " [-0.05807094  0.11101978  0.07067239 ...  0.03690405 -0.03153954\n",
            "   0.01309526]\n",
            " [-0.05676305  0.11796647  0.00434255 ...  0.03066199  0.19531473\n",
            "   0.13569909]\n",
            " ...\n",
            " [-0.0940593  -0.0498297  -0.04144001 ...  0.98181631 -0.02194514\n",
            "  -0.00894446]\n",
            " [-0.09488961 -0.05610123 -0.21297821 ... -0.02155617  0.94178018\n",
            "  -0.02971961]\n",
            " [-0.08847836 -0.0515697  -0.09575285 ... -0.0086052  -0.03021088\n",
            "   0.9736599 ]]\n",
            "[95.95991387 17.76103366  3.46093093  1.88482631]\n",
            "[[-0.75110816 -0.38008617 -0.51300886 -0.16790754]\n",
            " [ 0.2841749   0.5467445  -0.70866455 -0.34367081]\n",
            " [ 0.50215472 -0.67524332 -0.05916621 -0.53701625]\n",
            " [ 0.32081425 -0.31725607 -0.48074507  0.75187165]]\n"
          ]
        }
      ]
    },
    {
      "cell_type": "markdown",
      "source": [
        "Now, your turn to try it. Calculate the SVD of the sliced dataset that includes the first 10 rows and the first 4 columns."
      ],
      "metadata": {
        "id": "L3oRHW_EOlDA"
      }
    },
    {
      "cell_type": "code",
      "source": [
        "#SVD Example\n",
        "\n",
        "#a,b,c = np.linalg.svd(reduced)\n",
        "#print(a)\n",
        "#print(\"\\n\")\n",
        "#print(b)\n",
        "#print(\"\\n\")\n",
        "#print(c)"
      ],
      "metadata": {
        "colab": {
          "base_uri": "https://localhost:8080/"
        },
        "id": "6g49-hqoOLHy",
        "outputId": "7e86093e-082d-488c-c236-721eee67fa19"
      },
      "execution_count": null,
      "outputs": [
        {
          "output_type": "stream",
          "name": "stdout",
          "text": [
            "[[-0.26704521 -0.11066054 -0.03140721  0.01738833 -0.27368054 -0.53925713\n",
            "  -0.41198453 -0.26083093 -0.25566703 -0.11460699 -0.25865731 -0.27885163\n",
            "  -0.10885347 -0.13097278 -0.2439751 ]\n",
            " [-0.24875324  0.24820627 -0.39495006 -0.5080559   0.30925677 -0.12744394\n",
            "   0.14728436 -0.04610544 -0.26423189 -0.2006681   0.01347605  0.24650459\n",
            "  -0.29590604  0.25999895 -0.02273523]\n",
            " [-0.24562987 -0.06894253 -0.04048153 -0.09465784 -0.1201167   0.29660856\n",
            "   0.13542884  0.05903985  0.20407795  0.05986168 -0.12950022  0.27452809\n",
            "  -0.03491378 -0.29946226 -0.75618706]\n",
            " [-0.24188986  0.27024534  0.0926867   0.04465838 -0.17570798  0.44405184\n",
            "   0.18435967 -0.13386487 -0.02503556 -0.43123888 -0.10857974 -0.3687045\n",
            "  -0.30966316 -0.29705879  0.24381636]\n",
            " [-0.26597027 -0.20045092  0.18219998  0.26944236  0.84864853  0.00812578\n",
            "  -0.07213261 -0.05961446  0.01176123 -0.04628431 -0.08159977 -0.13907341\n",
            "  -0.01540374 -0.14601188 -0.06647277]\n",
            " [-0.28960987  0.03225769  0.46586622 -0.48367292 -0.01922978  0.3552744\n",
            "  -0.39785911 -0.05230328 -0.14291226  0.23690868  0.002849   -0.05561721\n",
            "   0.21933544  0.21275693  0.05893199]\n",
            " [-0.24797307 -0.09844068  0.42338694 -0.12810564 -0.08812514 -0.35752236\n",
            "   0.73531197 -0.05020344 -0.06142366  0.12913866 -0.0290604  -0.10463574\n",
            "   0.13850565  0.05088619  0.01851608]\n",
            " [-0.26233172  0.09095929  0.02901518  0.06599456 -0.0522895  -0.12285622\n",
            "  -0.09016181  0.93093273 -0.07908121 -0.05512788 -0.04799315 -0.10312937\n",
            "  -0.03928111 -0.01095293  0.03498103]\n",
            " [-0.22954244  0.26078087 -0.00470604 -0.13025915  0.01914956 -0.25609683\n",
            "  -0.13050786 -0.06537434  0.86485804 -0.01850744 -0.01408482 -0.06724286\n",
            "  -0.01642744  0.10341084  0.10511901]\n",
            " [-0.25189408  0.30920797 -0.27378903  0.25302371 -0.0146693   0.07015169\n",
            "   0.05647972 -0.08771805 -0.10366331  0.78057029 -0.05558678 -0.11971646\n",
            "  -0.19113118 -0.04886644  0.09777763]\n",
            " [-0.28277359 -0.08832677 -0.03465634  0.08733073 -0.08348153 -0.04179836\n",
            "  -0.05670928 -0.05634764 -0.03045041 -0.04959331  0.92963032 -0.06699999\n",
            "  -0.04442344 -0.07949933 -0.08899809]\n",
            " [-0.25654329  0.20278874  0.30304475  0.36665482 -0.11082969 -0.09467698\n",
            "  -0.11344222 -0.1035273  -0.09069925 -0.11724897 -0.05072847  0.7383155\n",
            "  -0.04835525 -0.04686514  0.21855205]\n",
            " [-0.24523363  0.23569171 -0.35885832  0.12020995  0.00540842  0.05249698\n",
            "   0.05876897 -0.06945753 -0.09153987 -0.17949892 -0.05304414 -0.05127068\n",
            "   0.8261683  -0.03484598  0.0143794 ]\n",
            " [-0.22540841 -0.24135891 -0.07388649  0.37295561 -0.14144576  0.21574841\n",
            "   0.06366408 -0.04501101  0.05363764 -0.12741556 -0.09533819 -0.09084236\n",
            "  -0.10363515  0.77760296 -0.1479473 ]\n",
            " [-0.30029501 -0.68031696 -0.31656538 -0.16346308 -0.11494831  0.08987949\n",
            "   0.01115932  0.01669741  0.1132109   0.06906095 -0.11208572  0.16375637\n",
            "   0.00109708 -0.2013751   0.44815683]]\n",
            "\n",
            "\n",
            "[23.7587713   0.63235987  0.55599654  0.17825525]\n",
            "\n",
            "\n",
            "[[-0.8032737  -0.5478802  -0.23128667 -0.03294128]\n",
            " [ 0.08138027 -0.48641806  0.86992511 -0.00224318]\n",
            " [-0.55956531  0.62808326  0.40446434  0.35889647]\n",
            " [-0.18712368  0.26217586  0.16169533 -0.9327932 ]]\n"
          ]
        }
      ]
    },
    {
      "cell_type": "markdown",
      "source": [
        "overall notes: \n",
        "1.) missing examples\n",
        "examples need to relate to biology\n",
        "\n",
        "2.) missing images you need to generate images of the topics you are discussing or reference supporting images from online\n",
        "\n",
        "3.) remember anything taken from online must be cited\n",
        "\n",
        "4.) you need to add information on tranpose and inverse matrics before svd and QR\n",
        "\n",
        "5.) you should briefly show the math of the function you are discussing \n"
      ],
      "metadata": {
        "id": "9P_SK4Hkblsr"
      }
    },
    {
      "cell_type": "code",
      "source": [],
      "metadata": {
        "id": "ubkY0_pTbtI7"
      },
      "execution_count": null,
      "outputs": []
    },
    {
      "cell_type": "markdown",
      "source": [
        "**References:**\n",
        "\n",
        "The photos used came from the online version of *Applied Linear Algebra and Differential Equations* by Chasnov and from Wikipedia. "
      ],
      "metadata": {
        "id": "CQrL-aSu_O_H"
      }
    }
  ]
}